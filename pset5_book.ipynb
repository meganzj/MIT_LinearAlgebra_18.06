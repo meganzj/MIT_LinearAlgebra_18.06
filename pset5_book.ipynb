{
 "cells": [
  {
   "cell_type": "markdown",
   "metadata": {},
   "source": [
    "#7. Every system with no solution is like the one in problem 6. There are numbers y$_1,...,y_m$ that multiply the m equations so they add up to 0 = 1. This is called **Fredholm's Alternative**:  \n",
    "**Exactly one of these problems has a solution**  \n",
    "$Ax = b$ **OR** $A^Ty = 0$ with $y^Tb = 1$\n",
    "\n",
    "if $b$ is not in the column space of $A$, it is not orthogonal to the nullspace of $A^T$. Multiply the equation $x_1-x_2 = 1$ and $x_2-x_3 = 1$ and $x_1-x_3=1$ by numbers $y_1,y_2,y_3$ chosed so that the equations add up to 0 = 1 "
   ]
  },
  {
   "cell_type": "markdown",
   "metadata": {},
   "source": [
    "##### Solution"
   ]
  },
  {
   "cell_type": "markdown",
   "metadata": {},
   "source": [
    "$y = \\begin{pmatrix} 0\\\\1\\\\0 \\end{pmatrix}$, $b = \\begin{pmatrix} 1\\\\1\\\\1\\end{pmatrix}$\n"
   ]
  },
  {
   "cell_type": "markdown",
   "metadata": {},
   "source": [
    "#9. if $A^TAx = 0$ then $Ax = 0$. Reaon: $Ax$ is in the nullspace of $A^T$ and also in the **column** of A and those space are **orthogonal**?. Conclusion: $A^TA$ has the same nullspace of A. this key fact is repeated in the next section"
   ]
  },
  {
   "cell_type": "markdown",
   "metadata": {},
   "source": [
    "#31. The command $N = null(A)$ will produce a basis for the nullspace of $A$. Then the command $B = null(N^')$ will produce a basis for the **row space** of $A$."
   ]
  },
  {
   "cell_type": "markdown",
   "metadata": {},
   "source": [
    "#32. Suppose I give your four nonzero vectors $r,n,c,l$ in $R^2$.  \n",
    "(a) What are the conditions for those to be bases for the four fundamental subspaces $C(A^T), N(A), C(A), N(A^T)$ of a 2 by 2 matrix?  \n",
    "(b) What is one possible matrix A?  "
   ]
  },
  {
   "cell_type": "markdown",
   "metadata": {},
   "source": [
    "##### solution"
   ]
  },
  {
   "cell_type": "markdown",
   "metadata": {},
   "source": [
    "(a). r = 1, so dim of $N(A) = 1$ and $N(A^T) = 1$  \n",
    "(B). $N(A) = \\begin{pmatrix}1\\\\1\\end{pmatrix}, N(A^T) = \\begin{pmatrix}0\\\\1\\end{pmatrix}, C(A) = \\begin{pmatrix}1\\\\0\\end{pmatrix}, C(A^T) = \\begin{pmatrix}1\\\\-1\\end{pmatrix}$"
   ]
  },
  {
   "cell_type": "markdown",
   "metadata": {},
   "source": [
    "4.2  \n",
    "#13  \n",
    "dim(P) = 4 x 4  \n",
    "$P = \\begin{pmatrix} 1 & 0 & 0 &0 \\\\0 & 1 & 0 &0\\\\0 & 0 & 1 &0 \\\\0 & 0 & 0 &0\\end{pmatrix}$"
   ]
  },
  {
   "cell_type": "markdown",
   "metadata": {},
   "source": [
    "#16  \n",
    "by elimination, $x_1=1/2, x_2 = 3/2$"
   ]
  },
  {
   "cell_type": "markdown",
   "metadata": {},
   "source": [
    "#17  \n",
    "$(I-P)^2 = I^2 - 2IP + P^2 = I - 2P + P^2$  \n",
    "given that $p^2 = p$, hence $(I-P)^2 = I - 2P + P = I - P$  \n",
    "since $P$ & $(I-P)$ are orthonoganal, $(I-P)$ is the projection matrix onto left nullspace."
   ]
  },
  {
   "cell_type": "markdown",
   "metadata": {},
   "source": [
    "#30  \n",
    "(a). $P_C = \\frac{1}{25}\\begin{pmatrix} 9 & 12 \\\\12 & 16 \\end{pmatrix}$  \n",
    "(b). $P_R = \\frac{1}{5}\\begin{pmatrix} 1 & 2 & 2 \\\\2 & 4 & 4 \\\\2 & 4 & 4\\end{pmatrix}$\n",
    "\n",
    "Since $A$ is in the column space of A, so $P_CA$ is also in the column space of $A$"
   ]
  },
  {
   "cell_type": "markdown",
   "metadata": {},
   "source": [
    "#31 \n"
   ]
  }
 ],
 "metadata": {
  "kernelspec": {
   "display_name": "Julia 1.1.0",
   "language": "julia",
   "name": "julia-1.1"
  },
  "language_info": {
   "file_extension": ".jl",
   "mimetype": "application/julia",
   "name": "julia",
   "version": "1.1.0"
  }
 },
 "nbformat": 4,
 "nbformat_minor": 2
}
