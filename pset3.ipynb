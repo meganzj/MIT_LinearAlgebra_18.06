{
 "cells": [
  {
   "cell_type": "markdown",
   "metadata": {},
   "source": [
    "# 18.06 pset 3 (due Wed Sep 27, 11am)"
   ]
  },
  {
   "cell_type": "markdown",
   "metadata": {},
   "source": [
    "## Problem 1\n",
    "\n",
    "* Does $C(A)$ necessarily *contain* the $C(AB)$ or vice versa?  (That is, is $C(A) \\subseteq C(AB)$ or $C(AB) \\subseteq C(A)$?)  \n",
    "* What needs to be true of $B$ to have $C(A) = C(AB)$ (for *all* $A$ matrices of compatible size)?  \n",
    "* Give an example of a square matrix $A$ where $C(A^2)$ issmaller than $C(A)$.\n",
    "* Explain why $C(A) = C([A \\; AB])$: that is, augumenting $A$ with the additional columns $AB$ does not change the column space (for any $B$).  "
   ]
  },
  {
   "cell_type": "markdown",
   "metadata": {},
   "source": [
    "#### Solution"
   ]
  },
  {
   "cell_type": "markdown",
   "metadata": {},
   "source": [
    "1. yes. think of each column of B is one of the linear comb of A. And since C(A) represents all the linear comb, so C(AB) is also part of C(A), hence $$\\boxed{C(AB) \\subseteq C(A)}$$  \n",
    "2. \n",
    "3.  \n",
    "4. column space is all linear comb of A, where AB is also part of linear comb of A, therefore, it does not change column space of A."
   ]
  },
  {
   "cell_type": "markdown",
   "metadata": {},
   "source": [
    "## Problem 2\n",
    "\n",
    "(From Strang, section 3.2, problem 31.)  Find the reduced row echelon forms $R$, the rank, and the special solutions (i.e. a basis for $N(A)$) for each of these matrices:\n",
    "\n",
    "* The 3×4 matrix with all entries equal to 4.\n",
    "* The 3×4 matrix with entries $a_{ij} = i + j - 1$\n",
    "* The 3×4 matrix with $a_{ij} = (-1)^j$"
   ]
  },
  {
   "cell_type": "markdown",
   "metadata": {},
   "source": [
    "#### Solution"
   ]
  },
  {
   "cell_type": "markdown",
   "metadata": {},
   "source": [
    "* The 3×4 matrix with all entries equal to 4.  \n",
    "\n",
    "\n",
    "rref = $$\\boxed{\\begin{pmatrix}1 & 1 & 1 & 1\\\\\n",
    "0 & 0 & 0 & 0\\\\\n",
    "0 & 0 & 0 & 0\\end{pmatrix}}$$\n",
    "\n",
    "$$\\boxed{rank = 1}$$ \n",
    "\n",
    "1 pivot variable, three free variables  \n",
    "let $X_2$ = 1,$X_3$ = $X_4$ = 0, then $X_1$ = -1,  \n",
    "let $X_3$ = 1,$X_3$ = $X_4$ = 0, then $X_1$ = -1,    \n",
    "let $X_4$ = 1,$X_2$ = $X_3$ = 0, then $X_1$ = -1.  \n",
    "\n",
    "N(A) =  \n",
    "$$\\boxed{\\begin{pmatrix}-1 \\\\ 1 \\\\ 0 \\\\ 0\\end{pmatrix}, \\begin{pmatrix}-1 \\\\ 0 \\\\ 1 \\\\ 0\\end{pmatrix}, \\begin{pmatrix}-1 \\\\ 0 \\\\ 0 \\\\ 1\\end{pmatrix}}$$"
   ]
  },
  {
   "cell_type": "markdown",
   "metadata": {},
   "source": [
    "* The 3×4 matrix with $a_{ij} = (-1)^j$  \n",
    "\n",
    "rref = $$\\boxed{\\begin{pmatrix}1 & 0 & -1 & -2\\\\\n",
    "0 & 1 & 2 & 3 \\\\ \n",
    "0 & 0 & 0 & 0\\end{pmatrix}}$$\n",
    "\n",
    "$$\\boxed{rank = 2}$$  \n",
    "N(A) = \n",
    "$$\\boxed{\\begin{pmatrix}1 \\\\ -2 \\\\ 1 \\\\ 0\\end{pmatrix}}, \\boxed{\\begin{pmatrix}2 \\\\ -3 \\\\ 0 \\\\ 1\\end{pmatrix}}$$  "
   ]
  },
  {
   "cell_type": "markdown",
   "metadata": {},
   "source": [
    "\n",
    "* The 3×4 matrix with entries $a_{ij} = i + j - 1$\n",
    "\n",
    "rref = $$\\boxed{\\begin{pmatrix}1 & -1 & 1 & -1\\\\\n",
    "0 & 0 & 0 & 0 \\\\ \n",
    "0 & 0 & 0 & 0\\end{pmatrix}}$$\n",
    "\n",
    "$$\\boxed{rank = 1}$$   \n",
    "1 pivot variable, 3 free variables,  \n",
    "\n",
    "let $X_2$ = 1,$X_3$ = $X_4$ = 0, then $X_1$ = 1,  \n",
    "let $X_3$ = 1,$X_3$ = $X_4$ = 0, then $X_1$ = -1,    \n",
    "let $X_4$ = 1,$X_2$ = $X_3$ = 0, then $X_1$ = 1.  \n",
    "\n",
    "N(A) =  \n",
    "\n",
    "$$\\boxed{\\begin{pmatrix}1 \\\\ 1 \\\\ 0 \\\\ 0\\end{pmatrix}, \\begin{pmatrix}-1 \\\\ 0 \\\\ 1 \\\\ 0\\end{pmatrix}, \\begin{pmatrix}1 \\\\ 0 \\\\ 0 \\\\ 1\\end{pmatrix}}$$  \n",
    "\n",
    "\n"
   ]
  },
  {
   "cell_type": "markdown",
   "metadata": {},
   "source": [
    "## Problem 3\n",
    "\n",
    "(From Strang, section 3.3, problem 5.)\n",
    "\n",
    "Under what conditions on $b_1$, $b_2$, and $b_3$ is this system solvable. (Include $b$ as a fourth column in elimination.)   Find all solutions (particular solution + nullspace vectors) when that condition holds:\n",
    "\n",
    "$$\n",
    "x + 2y - 2z = b_1 \\\\\n",
    "2x + 5y - 4z = b_2 \\\\\n",
    "4x + 9y - 8z = b_3\n",
    "$$"
   ]
  },
  {
   "cell_type": "markdown",
   "metadata": {},
   "source": [
    "#### Solution"
   ]
  },
  {
   "cell_type": "markdown",
   "metadata": {},
   "source": [
    "condition when this system is solvable,  \n",
    "$$\\boxed{b_3 - b_2 - 2b_1 = 0 }$$"
   ]
  },
  {
   "cell_type": "markdown",
   "metadata": {},
   "source": [
    "Particular solution is, \n",
    "$$\\boxed{\\begin{pmatrix}5b_1-b_2 \\\\ b_2-2b_1 \\\\ 0\\end{pmatrix}}$$"
   ]
  },
  {
   "cell_type": "markdown",
   "metadata": {},
   "source": [
    "rref = \n",
    "$$\\begin{pmatrix}1 & 0 & -2  \\\\ 0 & 1 & 0  \\\\ 0 & 0 & 0 \\end{pmatrix}$$\n",
    "\n",
    "nullspace vector,  \n",
    "$$n = \\begin{pmatrix} 2 \\\\ 0 \\\\ 1\\end{pmatrix}$$ "
   ]
  },
  {
   "cell_type": "markdown",
   "metadata": {},
   "source": [
    "all solutions is,\n",
    "\n",
    "$$\\boxed{\\begin{pmatrix}5b_1-b_2 \\\\ b_2-2b_1 \\\\ 0\\end{pmatrix} + c\\begin{pmatrix}2 \\\\ 0 \\\\ 1\\end{pmatrix}}$$"
   ]
  }
 ],
 "metadata": {
  "kernelspec": {
   "display_name": "Julia 1.1.0",
   "language": "julia",
   "name": "julia-1.1"
  },
  "language_info": {
   "file_extension": ".jl",
   "mimetype": "application/julia",
   "name": "julia",
   "version": "1.1.0"
  }
 },
 "nbformat": 4,
 "nbformat_minor": 2
}
