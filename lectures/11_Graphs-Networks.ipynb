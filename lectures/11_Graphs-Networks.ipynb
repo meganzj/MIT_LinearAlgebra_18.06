{
 "cells": [
  {
   "cell_type": "markdown",
   "metadata": {},
   "source": [
    "# Graphs and Networks in Linear Algebra\n",
    "\n",
    "This notebook is based on section 10.1 of Strang's *Linear Algebra* textbook.\n",
    "\n",
    "One interesting source of large matrices in linear algebra is a [graph](https://en.wikipedia.org/wiki/Graph_(discrete_mathematics), a collection of *nodes* (vertices) and *edges* (arrows from one vertex to another).   Graphs are used in many applications to represent *relationships* and *connectivity*, such as:\n",
    "\n",
    "* For computer networks, nodes could represent web pages, and edges could represent links.\n",
    "* For circuits, edges could represent wires (or resistors) and nodes junctions.\n",
    "* For transportation, nodes could represent cities and edges roads.\n",
    "* In bioinformatics, graphs can represent gene regulatory networks.\n",
    "* In sociology, nodes could represent people and edges relationships.\n",
    "* ... and many, many other applications ...\n",
    "\n",
    "In this notebook, we explain how a graph can be represented by a *matrix*, and how linear algebra can tell us properties of the graph and can help us do computations on graph-based problems.  There is a particularly beautiful connection to Kirchhoff's laws of circuit theory."
   ]
  },
  {
   "cell_type": "markdown",
   "metadata": {},
   "source": [
    "## Packages for this notebook\n",
    "\n",
    "To run the code in this notebook, you'll need to install a few Julia packages used below.  To do so, uncomment the following line and run it:"
   ]
  },
  {
   "cell_type": "code",
   "execution_count": 1,
   "metadata": {},
   "outputs": [],
   "source": [
    "# Pkg.add.([\"GraphViz\", \"RowEchelon\", \"Interact\", \"SymPy\"])"
   ]
  },
  {
   "cell_type": "markdown",
   "metadata": {},
   "source": [
    "...and then run this cell to import the packages:"
   ]
  },
  {
   "cell_type": "code",
   "execution_count": 2,
   "metadata": {},
   "outputs": [
    {
     "data": {
      "text/html": [
       "<div id=\"interact-js-shim\">\n",
       "    <script charset=\"utf-8\">\n",
       "(function (IPython, $, _, MathJax) {\n",
       "    $.event.special.destroyed = {\n",
       "\tremove: function(o) {\n",
       "\t    if (o.handler) {\n",
       "\t\to.handler.apply(this, arguments)\n",
       "\t    }\n",
       "\t}\n",
       "    }\n",
       "\n",
       "    var OutputArea = IPython.version >= \"4.0.0\" ? require(\"notebook/js/outputarea\").OutputArea : IPython.OutputArea;\n",
       "\n",
       "    var redrawValue = function (container, type, val) {\n",
       "\tvar selector = $(\"<div/>\");\n",
       "\tvar oa = new OutputArea(_.extend(selector, {\n",
       "\t    selector: selector,\n",
       "\t    prompt_area: true,\n",
       "\t    events: IPython.events,\n",
       "\t    keyboard_manager: IPython.keyboard_manager\n",
       "\t})); // Hack to work with IPython 2.1.0\n",
       "\n",
       "\tswitch (type) {\n",
       "\tcase \"image/png\":\n",
       "            var _src = 'data:' + type + ';base64,' + val;\n",
       "\t    $(container).find(\"img\").attr('src', _src);\n",
       "\t    break;\n",
       "\tcase \"text/latex\":\n",
       "\t\tif (MathJax){\n",
       "\t\t\tvar math = MathJax.Hub.getAllJax(container)[0];\n",
       "\t\t\tMathJax.Hub.Queue([\"Text\", math, val.replace(/^\\${1,2}|\\${1,2}$/g, '')]);\n",
       "\t\t\tbreak;\n",
       "\t\t}\n",
       "\tdefault:\n",
       "\t    var toinsert = OutputArea.append_map[type].apply(\n",
       "\t\toa, [val, {}, selector]\n",
       "\t    );\n",
       "\t    $(container).empty().append(toinsert.contents());\n",
       "\t    selector.remove();\n",
       "\t}\n",
       "    }\n",
       "\n",
       "\n",
       "    $(document).ready(function() {\n",
       "\tfunction initComm(evt, data) {\n",
       "\t    var comm_manager = data.kernel.comm_manager;\n",
       "        //_.extend(comm_manager.targets, require(\"widgets/js/widget\"))\n",
       "\t    comm_manager.register_target(\"Signal\", function (comm) {\n",
       "            comm.on_msg(function (msg) {\n",
       "                var val = msg.content.data.value;\n",
       "                $(\".signal-\" + comm.comm_id).each(function() {\n",
       "                var type = $(this).data(\"type\");\n",
       "                if (typeof(val[type]) !== \"undefined\" && val[type] !== null) {\n",
       "                    redrawValue(this, type, val[type], type);\n",
       "                }\n",
       "                });\n",
       "                delete val;\n",
       "                delete msg.content.data.value;\n",
       "            });\n",
       "\t    });\n",
       "\n",
       "\t    // coordingate with Comm and redraw Signals\n",
       "\t    // XXX: Test using Reactive here to improve performance\n",
       "\t    $([IPython.events]).on(\n",
       "\t\t'output_appended.OutputArea', function (event, type, value, md, toinsert) {\n",
       "\t\t    if (md && md.reactive) {\n",
       "                // console.log(md.comm_id);\n",
       "                toinsert.addClass(\"signal-\" + md.comm_id);\n",
       "                toinsert.data(\"type\", type);\n",
       "                // Signal back indicating the mimetype required\n",
       "                var comm_manager = IPython.notebook.kernel.comm_manager;\n",
       "                var comm = comm_manager.comms[md.comm_id];\n",
       "                comm.then(function (c) {\n",
       "                    c.send({action: \"subscribe_mime\",\n",
       "                       mime: type});\n",
       "                    toinsert.bind(\"destroyed\", function() {\n",
       "                        c.send({action: \"unsubscribe_mime\",\n",
       "                               mime: type});\n",
       "                    });\n",
       "                })\n",
       "\t\t    }\n",
       "\t    });\n",
       "\t}\n",
       "\n",
       "\ttry {\n",
       "\t    // try to initialize right away. otherwise, wait on the status_started event.\n",
       "\t    initComm(undefined, IPython.notebook);\n",
       "\t} catch (e) {\n",
       "\t    $([IPython.events]).on('kernel_created.Kernel kernel_created.Session', initComm);\n",
       "\t}\n",
       "    });\n",
       "})(IPython, jQuery, _, MathJax);\n",
       "</script>\n",
       "    <script>\n",
       "        window.interactLoadedFlag = true\n",
       "       $(\"#interact-js-shim\").bind(\"destroyed\", function () {\n",
       "           if (window.interactLoadedFlag) {\n",
       "               console.warn(\"JavaScript required by Interact will be removed if you remove this cell or run using Interact more than once.\")\n",
       "           }\n",
       "       })\n",
       "       $([IPython.events]).on(\"kernel_starting.Kernel kernel_restarting.Kernel\", function () { window.interactLoadedFlag = false })\n",
       "   </script>\n",
       "</div>"
      ]
     },
     "metadata": {},
     "output_type": "display_data"
    }
   ],
   "source": [
    "using Interact, RowEchelon, Compat\n",
    "import GraphViz\n",
    "import SymPy.Sym"
   ]
  },
  {
   "cell_type": "markdown",
   "metadata": {},
   "source": [
    "## Julia Graph-visualization code\n",
    "\n",
    "There are several Julia packages for manipulating graphs, e.g. [LightGraphs](https://github.com/JuliaGraphs/LightGraphs.jl), along with several packages for visualizing graphs, e.g. [GraphViz](https://github.com/Keno/GraphViz.jl).  LightGraphs is oriented towards fast and sophisticated graph computations, however, and here I just want to do some simple and pretty visualizations with simple algorithms based on those in Strang's 18.06 textbook.\n",
    "\n",
    "So, here I define a simple `DiGraph` datastructure for directed graphs, oriented towards visualization via the GraphViz package (allowing me to control colors and other properties easily).   18.06 students can skip over all of this code directly to the results."
   ]
  },
  {
   "cell_type": "code",
   "execution_count": 3,
   "metadata": {},
   "outputs": [
    {
     "data": {
      "text/plain": [
       "labels (generic function with 1 method)"
      ]
     },
     "execution_count": 3,
     "metadata": {},
     "output_type": "execute_result"
    }
   ],
   "source": [
    "# A very simple data structure representing a directed graph, with the ability to\n",
    "# label and color the nodes and edges as needed.\n",
    "const Properties = Dict{Symbol,Any}\n",
    "immutable DiNode\n",
    "    label::Any\n",
    "    props::Properties\n",
    "    DiNode(label, props::Properties) = new(label, props)\n",
    "    DiNode(label, props::Pair{Symbol}...) = DiNode(label, Properties(props...))\n",
    "end\n",
    "Base.copy(n::DiNode) = DiNode(n.label, copy(n.props))\n",
    "immutable DiEdge\n",
    "    e::Pair{Int,Int}\n",
    "    props::Properties\n",
    "    DiEdge(e, props::Properties) = new(e, props)\n",
    "    DiEdge(e, props::Pair{Symbol}...) = DiEdge(e, Properties(props...))\n",
    "end\n",
    "Base.copy(e::DiEdge) = DiEdge(e.e, copy(e.props))\n",
    "type DiGraph\n",
    "    nodes::Vector{DiNode}\n",
    "    edges::Vector{DiEdge}\n",
    "    props::Properties # properties of the whole graph\n",
    "    function DiGraph(nodes::Vector{DiNode}, edges::Vector{DiEdge}, props::Properties)\n",
    "        n = length(nodes)\n",
    "        all(e -> minimum(e.e) ≥ 1 && maximum(e.e) ≤ n, edges) || throw(ArgumentError(\"edge refers to nonexistent node\"))\n",
    "        new(nodes, edges, props)\n",
    "    end\n",
    "    DiGraph(nodes::Vector{DiNode}, edges::Vector{DiEdge}, props::Pair{Symbol}...) =\n",
    "        DiGraph(nodes, edges, Properties(props...))\n",
    "end\n",
    "function DiGraph(numnodes::Integer, edges::Pair{Int,Int}...)\n",
    "    n = Int(numnodes)\n",
    "    m = length(edges)\n",
    "    DiGraph([DiNode(i) for i=1:n], [DiEdge(edges[j], :label=>j) for j=1:m])\n",
    "end\n",
    "DiGraph(edges::Pair{Int,Int}...) = DiGraph(maximum(e -> maximum(e), edges), edges...)\n",
    "Base.copy(g::DiGraph) = DiGraph(copy.(g.nodes), copy.(g.edges), copy(g.props))\n",
    "function nodecolors!(g::DiGraph, nodes::AbstractVector{Int}, color::String=\"red\")\n",
    "    for n in nodes\n",
    "        g.nodes[n].props[:color] = color\n",
    "        g.nodes[n].props[:fontcolor] = color\n",
    "    end\n",
    "    g\n",
    "end\n",
    "nodecolors(g::DiGraph, nodes::AbstractVector{Int}, color::String=\"red\") = nodecolors!(copy(g), nodes, color)\n",
    "function edgecolors!(g::DiGraph, edges::AbstractVector{Int}, color::String=\"red\")\n",
    "    for e in edges\n",
    "        g.edges[e].props[:color] = color\n",
    "        g.edges[e].props[:fontcolor] = color\n",
    "    end\n",
    "    g\n",
    "end\n",
    "edgecolors(g::DiGraph, edges::AbstractVector{Int}, color::String=\"red\") = edgecolors!(copy(g), edges, color)\n",
    "function edgelen!(g::DiGraph, len::Real=1)\n",
    "    for e in g.edges\n",
    "        e.props[:len] = len\n",
    "    end\n",
    "    g\n",
    "end\n",
    "function labels!(g::DiGraph; edges=nothing, nodes=nothing)\n",
    "    if edges !== nothing\n",
    "        for (e,E) in zip(g.edges, edges)\n",
    "            e.props[:label] = E\n",
    "        end\n",
    "    end\n",
    "    if nodes !== nothing\n",
    "        for (n,N) in zip(g.nodes, nodes)\n",
    "            n.props[:label] = N\n",
    "        end\n",
    "    end\n",
    "    g\n",
    "end\n",
    "labels(g::DiGraph; kws...) = labels!(copy(g); kws...)"
   ]
  },
  {
   "cell_type": "code",
   "execution_count": 4,
   "metadata": {},
   "outputs": [
    {
     "data": {
      "text/plain": [
       "DOTstring (generic function with 1 method)"
      ]
     },
     "execution_count": 4,
     "metadata": {},
     "output_type": "execute_result"
    }
   ],
   "source": [
    "# visualization of DiGraph via GraphViz\n",
    "function showprop(io, x::String)\n",
    "    print(io, '\"')\n",
    "    escape_string(io, x, \"\")\n",
    "    print(io, '\"')\n",
    "end\n",
    "showprop(io, x::Number) = print(io, x)\n",
    "showprop(io, x) = showprop(io, string(x))\n",
    "GraphViz.Graph(g::DiGraph) = GraphViz.Graph(DOTstring(g))\n",
    "Base.show(io::IO, m::MIME\"image/svg+xml\", g::DiGraph) = show(io, m, GraphViz.Graph(g))\n",
    "\n",
    "# convert g to a string in DOT format for use with GraphViz\n",
    "function DOTstring(g::DiGraph)\n",
    "    buf = IOBuffer()\n",
    "    println(buf, \"digraph MyDiGraph {\")\n",
    "    for (i,n) in enumerate(g.nodes)\n",
    "        print(buf, \"  \", i, \" [label=\")\n",
    "        showprop(buf, n.label)\n",
    "        for (p,v) in n.props\n",
    "            print(buf, ' ', p, '=')\n",
    "            showprop(buf, v)\n",
    "        end\n",
    "        print(buf, \"]\\n\")\n",
    "    end\n",
    "    for (j,e) in enumerate(g.edges)\n",
    "        print(buf, \"  \", e.e.first, \" -> \", e.e.second, \" [\")\n",
    "        for (p,v) in e.props\n",
    "            print(buf, ' ', p, '=')\n",
    "            showprop(buf, v)\n",
    "        end\n",
    "        print(buf, \"]\\n\")\n",
    "    end\n",
    "    println(buf, \"}\")\n",
    "    String(take!(buf))\n",
    "end"
   ]
  },
  {
   "cell_type": "code",
   "execution_count": 5,
   "metadata": {},
   "outputs": [
    {
     "data": {
      "text/plain": [
       "randgraph (generic function with 1 method)"
      ]
     },
     "execution_count": 5,
     "metadata": {},
     "output_type": "execute_result"
    }
   ],
   "source": [
    "# generate a random graph with a given average #edges per node\n",
    "function randgraph(numnodes::Integer, edgespernode::Real)\n",
    "    p = edgespernode/numnodes # probability of each edge\n",
    "    e = Vector{Pair{Int,Int}}()\n",
    "    for i = 1:numnodes, j = 1:numnodes\n",
    "        if i != j && rand() < p\n",
    "            push!(e, i=>j)\n",
    "        end\n",
    "    end\n",
    "    return DiGraph(numnodes, e...)\n",
    "end"
   ]
  },
  {
   "cell_type": "code",
   "execution_count": 6,
   "metadata": {},
   "outputs": [
    {
     "data": {
      "text/plain": [
       "incidence (generic function with 1 method)"
      ]
     },
     "execution_count": 6,
     "metadata": {},
     "output_type": "execute_result"
    }
   ],
   "source": [
    "# returns the incidence matrix for g\n",
    "function incidence(g::DiGraph)\n",
    "    A = zeros(Int, length(g.edges), length(g.nodes))\n",
    "    for (i,e) in enumerate(g.edges)\n",
    "        A[i,e.e.first] = -1\n",
    "        A[i,e.e.second] = 1\n",
    "    end\n",
    "    return A\n",
    "end"
   ]
  },
  {
   "cell_type": "code",
   "execution_count": 7,
   "metadata": {},
   "outputs": [
    {
     "data": {
      "text/plain": [
       "leftnullspace (generic function with 1 method)"
      ]
     },
     "execution_count": 7,
     "metadata": {},
     "output_type": "execute_result"
    }
   ],
   "source": [
    "# Find the loops in g by the simplest \"textbook\" manner:\n",
    "# get a basis for the left nullspace incidence matrix.\n",
    "# We do this via the rref form, rather than nullspace(A'), because\n",
    "# we want a \"nice\" basis of ±1 and 0 entries.\n",
    "function leftnullspace(g::DiGraph)\n",
    "    A = incidence(g)\n",
    "    R = rref(A')\n",
    "    m, n = size(R)\n",
    "    pivots = Int[]\n",
    "    for i = 1:m\n",
    "        j = findfirst(R[i,:])\n",
    "        j > 0 && push!(pivots, j)\n",
    "    end\n",
    "    r = length(pivots) # rank\n",
    "    free = Int[j for j=1:n if j ∉ pivots]\n",
    "    N = zeros(Int, n, n-r)\n",
    "    k = 0\n",
    "    for (k,j) in enumerate(free)\n",
    "        N[pivots, k] = -R[1:r, j]\n",
    "        N[j, k] = 1\n",
    "    end\n",
    "    return N\n",
    "end"
   ]
  },
  {
   "cell_type": "code",
   "execution_count": 8,
   "metadata": {},
   "outputs": [
    {
     "data": {
      "text/plain": [
       "tree (generic function with 1 method)"
      ]
     },
     "execution_count": 8,
     "metadata": {},
     "output_type": "execute_result"
    }
   ],
   "source": [
    "# color the edges of a spanning tree of g, by the textbook\n",
    "# method of finding the pivot rows of the incidence matrix\n",
    "function pivotrows(g::DiGraph)\n",
    "    A = incidence(g)\n",
    "    R = rref(A')\n",
    "    m, n = size(R)\n",
    "    pivots = Int[]\n",
    "    for i = 1:m\n",
    "        j = findfirst(R[i,:])\n",
    "        j > 0 && push!(pivots, j)\n",
    "    end\n",
    "    return pivots\n",
    "end\n",
    "colortree(g::DiGraph, color::String=\"red\") = edgecolors(g, pivotrows(g), color)\n",
    "tree(g::DiGraph) = DiGraph(copy.(g.nodes), g.edges[pivotrows(g)], copy(g.props))"
   ]
  },
  {
   "cell_type": "markdown",
   "metadata": {},
   "source": [
    "## Graphs and incidence matrices\n",
    "\n",
    "Let's start by looking at an example graph with 6 nodes 8 edges.  Computers are pretty good at drawing graphs for us:"
   ]
  },
  {
   "cell_type": "code",
   "execution_count": 9,
   "metadata": {},
   "outputs": [
    {
     "data": {
      "image/svg+xml": [
       "<?xml version=\"1.0\" encoding=\"UTF-8\" standalone=\"no\"?>\n",
       "<!DOCTYPE svg PUBLIC \"-//W3C//DTD SVG 1.1//EN\"\n",
       " \"http://www.w3.org/Graphics/SVG/1.1/DTD/svg11.dtd\">\n",
       "<!-- Generated by graphviz version 2.40.1 (20161225.0304)\n",
       " -->\n",
       "<!-- Title: MyDiGraph Pages: 1 -->\n",
       "<svg width=\"259pt\" height=\"257pt\"\n",
       " viewBox=\"0.00 0.00 258.52 256.56\" xmlns=\"http://www.w3.org/2000/svg\" xmlns:xlink=\"http://www.w3.org/1999/xlink\">\n",
       "<g id=\"graph0\" class=\"graph\" transform=\"scale(1 1) rotate(0) translate(4 252.5612)\">\n",
       "<title>MyDiGraph</title>\n",
       "<polygon fill=\"#ffffff\" stroke=\"transparent\" points=\"-4,4 -4,-252.5612 254.5182,-252.5612 254.5182,4 -4,4\"/>\n",
       "<!-- 1 -->\n",
       "<g id=\"node1\" class=\"node\">\n",
       "<title>1</title>\n",
       "<ellipse fill=\"none\" stroke=\"#000000\" cx=\"27\" cy=\"-140.9451\" rx=\"27\" ry=\"18\"/>\n",
       "<text text-anchor=\"middle\" x=\"27\" y=\"-136.7451\" font-family=\"Times,serif\" font-size=\"14.00\" fill=\"#000000\">1</text>\n",
       "</g>\n",
       "<!-- 4 -->\n",
       "<g id=\"node4\" class=\"node\">\n",
       "<title>4</title>\n",
       "<ellipse fill=\"none\" stroke=\"#000000\" cx=\"116.8883\" cy=\"-215.532\" rx=\"27\" ry=\"18\"/>\n",
       "<text text-anchor=\"middle\" x=\"116.8883\" y=\"-211.332\" font-family=\"Times,serif\" font-size=\"14.00\" fill=\"#000000\">4</text>\n",
       "</g>\n",
       "<!-- 1&#45;&gt;4 -->\n",
       "<g id=\"edge1\" class=\"edge\">\n",
       "<title>1&#45;&gt;4</title>\n",
       "<path fill=\"none\" stroke=\"#000000\" d=\"M44.3314,-155.3262C57.8476,-166.5416 76.8036,-182.2708 91.9506,-194.8393\"/>\n",
       "<polygon fill=\"#000000\" stroke=\"#000000\" points=\"89.9843,-197.7558 99.915,-201.448 94.4543,-192.3688 89.9843,-197.7558\"/>\n",
       "<text text-anchor=\"middle\" x=\"64.641\" y=\"-177.8828\" font-family=\"Times,serif\" font-size=\"14.00\" fill=\"#000000\">1</text>\n",
       "</g>\n",
       "<!-- 2 -->\n",
       "<g id=\"node2\" class=\"node\">\n",
       "<title>2</title>\n",
       "<ellipse fill=\"none\" stroke=\"#000000\" cx=\"102.2914\" cy=\"-51.6524\" rx=\"27\" ry=\"18\"/>\n",
       "<text text-anchor=\"middle\" x=\"102.2914\" y=\"-47.4524\" font-family=\"Times,serif\" font-size=\"14.00\" fill=\"#000000\">2</text>\n",
       "</g>\n",
       "<!-- 2&#45;&gt;1 -->\n",
       "<g id=\"edge6\" class=\"edge\">\n",
       "<title>2&#45;&gt;1</title>\n",
       "<path fill=\"none\" stroke=\"#000000\" d=\"M88.8308,-67.6162C77.1606,-81.4566 60.1129,-101.6744 46.8723,-117.3772\"/>\n",
       "<polygon fill=\"#000000\" stroke=\"#000000\" points=\"44.1146,-115.2183 40.3441,-125.1195 49.4661,-119.7307 44.1146,-115.2183\"/>\n",
       "<text text-anchor=\"middle\" x=\"64.3516\" y=\"-95.2967\" font-family=\"Times,serif\" font-size=\"14.00\" fill=\"#000000\">6</text>\n",
       "</g>\n",
       "<!-- 6 -->\n",
       "<g id=\"node6\" class=\"node\">\n",
       "<title>6</title>\n",
       "<ellipse fill=\"none\" stroke=\"#000000\" cx=\"192.6702\" cy=\"-126.1901\" rx=\"27\" ry=\"18\"/>\n",
       "<text text-anchor=\"middle\" x=\"192.6702\" y=\"-121.9901\" font-family=\"Times,serif\" font-size=\"14.00\" fill=\"#000000\">6</text>\n",
       "</g>\n",
       "<!-- 2&#45;&gt;6 -->\n",
       "<g id=\"edge7\" class=\"edge\">\n",
       "<title>2&#45;&gt;6</title>\n",
       "<path fill=\"none\" stroke=\"#000000\" d=\"M119.2909,-65.6724C132.8382,-76.8452 152.0133,-92.6594 167.3645,-105.3199\"/>\n",
       "<polygon fill=\"#000000\" stroke=\"#000000\" points=\"165.4978,-108.3172 175.4396,-111.9796 169.9517,-102.9168 165.4978,-108.3172\"/>\n",
       "<text text-anchor=\"middle\" x=\"139.8277\" y=\"-88.2962\" font-family=\"Times,serif\" font-size=\"14.00\" fill=\"#000000\">7</text>\n",
       "</g>\n",
       "<!-- 3 -->\n",
       "<g id=\"node3\" class=\"node\">\n",
       "<title>3</title>\n",
       "<ellipse fill=\"none\" stroke=\"#000000\" cx=\"204.5704\" cy=\"-18\" rx=\"27\" ry=\"18\"/>\n",
       "<text text-anchor=\"middle\" x=\"204.5704\" y=\"-13.8\" font-family=\"Times,serif\" font-size=\"14.00\" fill=\"#000000\">3</text>\n",
       "</g>\n",
       "<!-- 3&#45;&gt;2 -->\n",
       "<g id=\"edge5\" class=\"edge\">\n",
       "<title>3&#45;&gt;2</title>\n",
       "<path fill=\"none\" stroke=\"#000000\" d=\"M180.3317,-25.9752C167.1806,-30.3022 150.7115,-35.721 136.2962,-40.464\"/>\n",
       "<polygon fill=\"#000000\" stroke=\"#000000\" points=\"135.1157,-37.1677 126.7105,-43.6179 137.3035,-43.8171 135.1157,-37.1677\"/>\n",
       "<text text-anchor=\"middle\" x=\"154.814\" y=\"-36.0196\" font-family=\"Times,serif\" font-size=\"14.00\" fill=\"#000000\">5</text>\n",
       "</g>\n",
       "<!-- 5 -->\n",
       "<g id=\"node5\" class=\"node\">\n",
       "<title>5</title>\n",
       "<ellipse fill=\"none\" stroke=\"#000000\" cx=\"223.5182\" cy=\"-230.5612\" rx=\"27\" ry=\"18\"/>\n",
       "<text text-anchor=\"middle\" x=\"223.5182\" y=\"-226.3612\" font-family=\"Times,serif\" font-size=\"14.00\" fill=\"#000000\">5</text>\n",
       "</g>\n",
       "<!-- 4&#45;&gt;5 -->\n",
       "<g id=\"edge2\" class=\"edge\">\n",
       "<title>4&#45;&gt;5</title>\n",
       "<path fill=\"none\" stroke=\"#000000\" d=\"M143.5205,-219.2857C156.6248,-221.1327 172.6268,-223.3882 186.8659,-225.3951\"/>\n",
       "<polygon fill=\"#000000\" stroke=\"#000000\" points=\"186.4654,-228.8732 196.856,-226.8032 187.4424,-221.9417 186.4654,-228.8732\"/>\n",
       "<text text-anchor=\"middle\" x=\"161.6932\" y=\"-225.1404\" font-family=\"Times,serif\" font-size=\"14.00\" fill=\"#000000\">2</text>\n",
       "</g>\n",
       "<!-- 4&#45;&gt;6 -->\n",
       "<g id=\"edge8\" class=\"edge\">\n",
       "<title>4&#45;&gt;6</title>\n",
       "<path fill=\"none\" stroke=\"#000000\" d=\"M130.4366,-199.5595C142.1828,-185.7114 159.3415,-165.4824 172.6684,-149.771\"/>\n",
       "<polygon fill=\"#000000\" stroke=\"#000000\" points=\"175.4397,-151.9145 179.2392,-142.0244 170.1014,-147.3865 175.4397,-151.9145\"/>\n",
       "<text text-anchor=\"middle\" x=\"148.0525\" y=\"-177.4652\" font-family=\"Times,serif\" font-size=\"14.00\" fill=\"#000000\">8</text>\n",
       "</g>\n",
       "<!-- 5&#45;&gt;6 -->\n",
       "<g id=\"edge3\" class=\"edge\">\n",
       "<title>5&#45;&gt;6</title>\n",
       "<path fill=\"none\" stroke=\"#000000\" d=\"M218.2853,-212.856C213.499,-196.6623 206.343,-172.4508 200.8102,-153.7311\"/>\n",
       "<polygon fill=\"#000000\" stroke=\"#000000\" points=\"204.1197,-152.58 197.9288,-143.9821 197.4068,-154.5641 204.1197,-152.58\"/>\n",
       "<text text-anchor=\"middle\" x=\"206.0477\" y=\"-186.0936\" font-family=\"Times,serif\" font-size=\"14.00\" fill=\"#000000\">3</text>\n",
       "</g>\n",
       "<!-- 6&#45;&gt;3 -->\n",
       "<g id=\"edge4\" class=\"edge\">\n",
       "<title>6&#45;&gt;3</title>\n",
       "<path fill=\"none\" stroke=\"#000000\" d=\"M194.6889,-107.8372C196.5465,-90.9492 199.3293,-65.6489 201.469,-46.1966\"/>\n",
       "<polygon fill=\"#000000\" stroke=\"#000000\" points=\"204.9671,-46.4047 202.5815,-36.0819 198.009,-45.6393 204.9671,-46.4047\"/>\n",
       "<text text-anchor=\"middle\" x=\"194.5789\" y=\"-79.8169\" font-family=\"Times,serif\" font-size=\"14.00\" fill=\"#000000\">4</text>\n",
       "</g>\n",
       "</g>\n",
       "</svg>\n"
      ],
      "text/plain": [
       "DiGraph(DiNode[DiNode(1, Dict{Symbol,Any}()), DiNode(2, Dict{Symbol,Any}()), DiNode(3, Dict{Symbol,Any}()), DiNode(4, Dict{Symbol,Any}()), DiNode(5, Dict{Symbol,Any}()), DiNode(6, Dict{Symbol,Any}())], DiEdge[DiEdge(1=>4, Dict{Symbol,Any}(Pair{Symbol,Any}(:label, 1),Pair{Symbol,Any}(:len, 1.5))), DiEdge(4=>5, Dict{Symbol,Any}(Pair{Symbol,Any}(:label, 2),Pair{Symbol,Any}(:len, 1.5))), DiEdge(5=>6, Dict{Symbol,Any}(Pair{Symbol,Any}(:label, 3),Pair{Symbol,Any}(:len, 1.5))), DiEdge(6=>3, Dict{Symbol,Any}(Pair{Symbol,Any}(:label, 4),Pair{Symbol,Any}(:len, 1.5))), DiEdge(3=>2, Dict{Symbol,Any}(Pair{Symbol,Any}(:label, 5),Pair{Symbol,Any}(:len, 1.5))), DiEdge(2=>1, Dict{Symbol,Any}(Pair{Symbol,Any}(:label, 6),Pair{Symbol,Any}(:len, 1.5))), DiEdge(2=>6, Dict{Symbol,Any}(Pair{Symbol,Any}(:label, 7),Pair{Symbol,Any}(:len, 1.5))), DiEdge(4=>6, Dict{Symbol,Any}(Pair{Symbol,Any}(:label, 8),Pair{Symbol,Any}(:len, 1.5)))], Dict{Symbol,Any}())"
      ]
     },
     "execution_count": 9,
     "metadata": {},
     "output_type": "execute_result"
    }
   ],
   "source": [
    "g = edgelen!(DiGraph(1=>4, 4=>5, 5=>6, 6=>3, 3=>2, 2=>1, 2=>6, 4=>6), 1.5)"
   ]
  },
  {
   "cell_type": "markdown",
   "metadata": {},
   "source": [
    "A key way to represent a graph in linear algebra is the [incidence matrix](https://en.wikipedia.org/wiki/Incidence_matrix).  As defined in Strang's textbook, this is a matrix where the **rows correspond to edges** and the **columns correspond to nodes**.  (Some authors use the transpose of this instead.)\n",
    "\n",
    "In particular, in the row for each edge going **from node N to node M**, there is a **-1 in column N** and a **+1 in column N**.\n",
    "\n",
    "For example, the incidence matrix of the graph above is:"
   ]
  },
  {
   "cell_type": "code",
   "execution_count": 10,
   "metadata": {},
   "outputs": [
    {
     "data": {
      "text/plain": [
       "8×6 Array{Int64,2}:\n",
       " -1   0   0   1   0   0\n",
       "  0   0   0  -1   1   0\n",
       "  0   0   0   0  -1   1\n",
       "  0   0   1   0   0  -1\n",
       "  0   1  -1   0   0   0\n",
       "  1  -1   0   0   0   0\n",
       "  0  -1   0   0   0   1\n",
       "  0   0   0  -1   0   1"
      ]
     },
     "execution_count": 10,
     "metadata": {},
     "output_type": "execute_result"
    }
   ],
   "source": [
    "A = incidence(g)"
   ]
  },
  {
   "cell_type": "markdown",
   "metadata": {},
   "source": [
    "There is an interesting structure if you think about *loops* in the graph.  For example, in the graph above there is a loop among nodes 6, 3, 2, via edges 4,5,7.  Let's look at the rows of $A$ corresponding to those edges:"
   ]
  },
  {
   "cell_type": "code",
   "execution_count": 11,
   "metadata": {},
   "outputs": [
    {
     "data": {
      "text/plain": [
       "3×6 Array{Int64,2}:\n",
       " 0   0   1  0  0  -1\n",
       " 0   1  -1  0  0   0\n",
       " 0  -1   0  0  0   1"
      ]
     },
     "execution_count": 11,
     "metadata": {},
     "output_type": "execute_result"
    }
   ],
   "source": [
    "A[[4,5,7],:]"
   ]
  },
  {
   "cell_type": "markdown",
   "metadata": {},
   "source": [
    "If we **add these rows** we get **zero**:"
   ]
  },
  {
   "cell_type": "code",
   "execution_count": 12,
   "metadata": {},
   "outputs": [
    {
     "data": {
      "text/plain": [
       "1×6 RowVector{Int64,Array{Int64,1}}:\n",
       " 0  0  0  0  0  0"
      ]
     },
     "execution_count": 12,
     "metadata": {},
     "output_type": "execute_result"
    }
   ],
   "source": [
    "A[4,:]' + A[5,:]' + A[7,:]'"
   ]
  },
  {
   "cell_type": "markdown",
   "metadata": {},
   "source": [
    "In general, it is easy to see that **any loop in the graph** corresponds to **dependent rows**: if we sum the rows going around the loop (with a minus sign for arrows in the wrong direction), we get zero.\n",
    "\n",
    "The reason is simple: we get a -1 in a column when we *leave* a node, and a +1 in the column when we *enter* a node.  When we go around the loop, we leave and enter each node, so the sum is zero.\n",
    "\n",
    "But dependent rows correspond to **elements of the left nullspace**:"
   ]
  },
  {
   "cell_type": "code",
   "execution_count": 13,
   "metadata": {},
   "outputs": [
    {
     "data": {
      "text/plain": [
       "1×6 Array{Int64,2}:\n",
       " 0  0  0  0  0  0"
      ]
     },
     "execution_count": 13,
     "metadata": {},
     "output_type": "execute_result"
    }
   ],
   "source": [
    "[0 0 0 1 1 0 1 0] * A"
   ]
  },
  {
   "cell_type": "markdown",
   "metadata": {},
   "source": [
    "That means that the number of \"independent\" (primitive) loops in a graph is related to the **rank** of the incidence matrix, and the **independent rows of A have no loops**.\n",
    "\n",
    "Let's look at the row-reduced echelon (rref) form of $A^T$:"
   ]
  },
  {
   "cell_type": "code",
   "execution_count": 14,
   "metadata": {},
   "outputs": [
    {
     "data": {
      "text/plain": [
       "6×8 Array{Int64,2}:\n",
       " 1  0  0  0  0  -1   0  0\n",
       " 0  1  0  0  0  -1   0  1\n",
       " 0  0  1  0  0  -1   0  1\n",
       " 0  0  0  1  0  -1  -1  0\n",
       " 0  0  0  0  1  -1  -1  0\n",
       " 0  0  0  0  0   0   0  0"
      ]
     },
     "execution_count": 14,
     "metadata": {},
     "output_type": "execute_result"
    }
   ],
   "source": [
    "Matrix{Int}(rref(A'))"
   ]
  },
  {
   "cell_type": "markdown",
   "metadata": {},
   "source": [
    "We can see that the rank of $A$ is 5:"
   ]
  },
  {
   "cell_type": "code",
   "execution_count": 15,
   "metadata": {},
   "outputs": [
    {
     "data": {
      "text/plain": [
       "5"
      ]
     },
     "execution_count": 15,
     "metadata": {},
     "output_type": "execute_result"
    }
   ],
   "source": [
    "rank(A)"
   ]
  },
  {
   "cell_type": "markdown",
   "metadata": {},
   "source": [
    "This means that there are **five loop-free (independent) edges**, and there are **three** (8 - 5) primitive loops.  Using the rref form of $A^T$, we can read off a basis for the left nullspace from the free columns (6,7,8):"
   ]
  },
  {
   "cell_type": "code",
   "execution_count": 16,
   "metadata": {},
   "outputs": [
    {
     "data": {
      "text/plain": [
       "8×3 Array{Int64,2}:\n",
       " 1  0   0\n",
       " 1  0  -1\n",
       " 1  0  -1\n",
       " 1  1   0\n",
       " 1  1   0\n",
       " 1  0   0\n",
       " 0  1   0\n",
       " 0  0   1"
      ]
     },
     "execution_count": 16,
     "metadata": {},
     "output_type": "execute_result"
    }
   ],
   "source": [
    "N = leftnullspace(g)"
   ]
  },
  {
   "cell_type": "code",
   "execution_count": 17,
   "metadata": {},
   "outputs": [
    {
     "data": {
      "text/plain": [
       "6×3 Array{Int64,2}:\n",
       " 0  0  0\n",
       " 0  0  0\n",
       " 0  0  0\n",
       " 0  0  0\n",
       " 0  0  0\n",
       " 0  0  0"
      ]
     },
     "execution_count": 17,
     "metadata": {},
     "output_type": "execute_result"
    }
   ],
   "source": [
    "A' * N"
   ]
  },
  {
   "cell_type": "markdown",
   "metadata": {},
   "source": [
    "Let's visualize these loops by plotting the edges in a different color (red) one by one,\n",
    "with help from the Interact package to give us an interactive widget:"
   ]
  },
  {
   "cell_type": "code",
   "execution_count": 18,
   "metadata": {},
   "outputs": [
    {
     "name": "stderr",
     "output_type": "stream",
     "text": [
      "WARNING: Compat.UTF8String is deprecated, use String instead.\n",
      "  likely near In[18]:2\n",
      "WARNING: Compat.UTF8String is deprecated, use String instead.\n",
      "  likely near In[18]:2\n"
     ]
    },
    {
     "data": {
      "text/plain": [
       "animloops (generic function with 1 method)"
      ]
     },
     "execution_count": 18,
     "metadata": {},
     "output_type": "execute_result"
    }
   ],
   "source": [
    "colorloop(g::DiGraph, n::Vector) = edgecolors!(edgecolors(g, find(n .> 0), \"red\"), find(n .< 0), \"blue\")\n",
    "function animloops(g::DiGraph)\n",
    "    L = leftnullspace(g)\n",
    "    @manipulate for loop in 1:size(L,2)\n",
    "        colorloop(g, L[:,loop])\n",
    "    end\n",
    "end"
   ]
  },
  {
   "cell_type": "code",
   "execution_count": 19,
   "metadata": {},
   "outputs": [
    {
     "data": {
      "text/html": [],
      "text/plain": [
       "Interact.Options{:SelectionSlider,Int64}(1: \"input\" = 2 Int64 , \"loop\", 2, \"2\", Interact.OptionDict(DataStructures.OrderedDict(\"1\"=>1,\"2\"=>2,\"3\"=>3), Dict(2=>\"2\",3=>\"3\",1=>\"1\")), Any[], Any[], true, \"horizontal\")"
      ]
     },
     "metadata": {},
     "output_type": "display_data"
    },
    {
     "data": {
      "image/svg+xml": [
       "<?xml version=\"1.0\" encoding=\"UTF-8\" standalone=\"no\"?>\n",
       "<!DOCTYPE svg PUBLIC \"-//W3C//DTD SVG 1.1//EN\"\n",
       " \"http://www.w3.org/Graphics/SVG/1.1/DTD/svg11.dtd\">\n",
       "<!-- Generated by graphviz version 2.40.1 (20161225.0304)\n",
       " -->\n",
       "<!-- Title: MyDiGraph Pages: 1 -->\n",
       "<svg width=\"259pt\" height=\"257pt\"\n",
       " viewBox=\"0.00 0.00 258.52 256.56\" xmlns=\"http://www.w3.org/2000/svg\" xmlns:xlink=\"http://www.w3.org/1999/xlink\">\n",
       "<g id=\"graph0\" class=\"graph\" transform=\"scale(1 1) rotate(0) translate(4 252.5612)\">\n",
       "<title>MyDiGraph</title>\n",
       "<polygon fill=\"#ffffff\" stroke=\"transparent\" points=\"-4,4 -4,-252.5612 254.5182,-252.5612 254.5182,4 -4,4\"/>\n",
       "<!-- 1 -->\n",
       "<g id=\"node1\" class=\"node\">\n",
       "<title>1</title>\n",
       "<ellipse fill=\"none\" stroke=\"#000000\" cx=\"27\" cy=\"-140.9451\" rx=\"27\" ry=\"18\"/>\n",
       "<text text-anchor=\"middle\" x=\"27\" y=\"-136.7451\" font-family=\"Times,serif\" font-size=\"14.00\" fill=\"#000000\">1</text>\n",
       "</g>\n",
       "<!-- 4 -->\n",
       "<g id=\"node4\" class=\"node\">\n",
       "<title>4</title>\n",
       "<ellipse fill=\"none\" stroke=\"#000000\" cx=\"116.8883\" cy=\"-215.532\" rx=\"27\" ry=\"18\"/>\n",
       "<text text-anchor=\"middle\" x=\"116.8883\" y=\"-211.332\" font-family=\"Times,serif\" font-size=\"14.00\" fill=\"#000000\">4</text>\n",
       "</g>\n",
       "<!-- 1&#45;&gt;4 -->\n",
       "<g id=\"edge1\" class=\"edge\">\n",
       "<title>1&#45;&gt;4</title>\n",
       "<path fill=\"none\" stroke=\"#000000\" d=\"M44.3314,-155.3262C57.8476,-166.5416 76.8036,-182.2708 91.9506,-194.8393\"/>\n",
       "<polygon fill=\"#000000\" stroke=\"#000000\" points=\"89.9843,-197.7558 99.915,-201.448 94.4543,-192.3688 89.9843,-197.7558\"/>\n",
       "<text text-anchor=\"middle\" x=\"64.641\" y=\"-177.8828\" font-family=\"Times,serif\" font-size=\"14.00\" fill=\"#000000\">1</text>\n",
       "</g>\n",
       "<!-- 2 -->\n",
       "<g id=\"node2\" class=\"node\">\n",
       "<title>2</title>\n",
       "<ellipse fill=\"none\" stroke=\"#000000\" cx=\"102.2914\" cy=\"-51.6524\" rx=\"27\" ry=\"18\"/>\n",
       "<text text-anchor=\"middle\" x=\"102.2914\" y=\"-47.4524\" font-family=\"Times,serif\" font-size=\"14.00\" fill=\"#000000\">2</text>\n",
       "</g>\n",
       "<!-- 2&#45;&gt;1 -->\n",
       "<g id=\"edge6\" class=\"edge\">\n",
       "<title>2&#45;&gt;1</title>\n",
       "<path fill=\"none\" stroke=\"#000000\" d=\"M88.8308,-67.6162C77.1606,-81.4566 60.1129,-101.6744 46.8723,-117.3772\"/>\n",
       "<polygon fill=\"#000000\" stroke=\"#000000\" points=\"44.1146,-115.2183 40.3441,-125.1195 49.4661,-119.7307 44.1146,-115.2183\"/>\n",
       "<text text-anchor=\"middle\" x=\"64.3516\" y=\"-95.2967\" font-family=\"Times,serif\" font-size=\"14.00\" fill=\"#000000\">6</text>\n",
       "</g>\n",
       "<!-- 6 -->\n",
       "<g id=\"node6\" class=\"node\">\n",
       "<title>6</title>\n",
       "<ellipse fill=\"none\" stroke=\"#000000\" cx=\"192.6702\" cy=\"-126.1901\" rx=\"27\" ry=\"18\"/>\n",
       "<text text-anchor=\"middle\" x=\"192.6702\" y=\"-121.9901\" font-family=\"Times,serif\" font-size=\"14.00\" fill=\"#000000\">6</text>\n",
       "</g>\n",
       "<!-- 2&#45;&gt;6 -->\n",
       "<g id=\"edge7\" class=\"edge\">\n",
       "<title>2&#45;&gt;6</title>\n",
       "<path fill=\"none\" stroke=\"#ff0000\" d=\"M119.2909,-65.6724C132.8382,-76.8452 152.0133,-92.6594 167.3645,-105.3199\"/>\n",
       "<polygon fill=\"#ff0000\" stroke=\"#ff0000\" points=\"165.4978,-108.3172 175.4396,-111.9796 169.9517,-102.9168 165.4978,-108.3172\"/>\n",
       "<text text-anchor=\"middle\" x=\"139.8277\" y=\"-88.2962\" font-family=\"Times,serif\" font-size=\"14.00\" fill=\"#ff0000\">7</text>\n",
       "</g>\n",
       "<!-- 3 -->\n",
       "<g id=\"node3\" class=\"node\">\n",
       "<title>3</title>\n",
       "<ellipse fill=\"none\" stroke=\"#000000\" cx=\"204.5704\" cy=\"-18\" rx=\"27\" ry=\"18\"/>\n",
       "<text text-anchor=\"middle\" x=\"204.5704\" y=\"-13.8\" font-family=\"Times,serif\" font-size=\"14.00\" fill=\"#000000\">3</text>\n",
       "</g>\n",
       "<!-- 3&#45;&gt;2 -->\n",
       "<g id=\"edge5\" class=\"edge\">\n",
       "<title>3&#45;&gt;2</title>\n",
       "<path fill=\"none\" stroke=\"#ff0000\" d=\"M180.3317,-25.9752C167.1806,-30.3022 150.7115,-35.721 136.2962,-40.464\"/>\n",
       "<polygon fill=\"#ff0000\" stroke=\"#ff0000\" points=\"135.1157,-37.1677 126.7105,-43.6179 137.3035,-43.8171 135.1157,-37.1677\"/>\n",
       "<text text-anchor=\"middle\" x=\"154.814\" y=\"-36.0196\" font-family=\"Times,serif\" font-size=\"14.00\" fill=\"#ff0000\">5</text>\n",
       "</g>\n",
       "<!-- 5 -->\n",
       "<g id=\"node5\" class=\"node\">\n",
       "<title>5</title>\n",
       "<ellipse fill=\"none\" stroke=\"#000000\" cx=\"223.5182\" cy=\"-230.5612\" rx=\"27\" ry=\"18\"/>\n",
       "<text text-anchor=\"middle\" x=\"223.5182\" y=\"-226.3612\" font-family=\"Times,serif\" font-size=\"14.00\" fill=\"#000000\">5</text>\n",
       "</g>\n",
       "<!-- 4&#45;&gt;5 -->\n",
       "<g id=\"edge2\" class=\"edge\">\n",
       "<title>4&#45;&gt;5</title>\n",
       "<path fill=\"none\" stroke=\"#000000\" d=\"M143.5205,-219.2857C156.6248,-221.1327 172.6268,-223.3882 186.8659,-225.3951\"/>\n",
       "<polygon fill=\"#000000\" stroke=\"#000000\" points=\"186.4654,-228.8732 196.856,-226.8032 187.4424,-221.9417 186.4654,-228.8732\"/>\n",
       "<text text-anchor=\"middle\" x=\"161.6932\" y=\"-225.1404\" font-family=\"Times,serif\" font-size=\"14.00\" fill=\"#000000\">2</text>\n",
       "</g>\n",
       "<!-- 4&#45;&gt;6 -->\n",
       "<g id=\"edge8\" class=\"edge\">\n",
       "<title>4&#45;&gt;6</title>\n",
       "<path fill=\"none\" stroke=\"#000000\" d=\"M130.4366,-199.5595C142.1828,-185.7114 159.3415,-165.4824 172.6684,-149.771\"/>\n",
       "<polygon fill=\"#000000\" stroke=\"#000000\" points=\"175.4397,-151.9145 179.2392,-142.0244 170.1014,-147.3865 175.4397,-151.9145\"/>\n",
       "<text text-anchor=\"middle\" x=\"148.0525\" y=\"-177.4652\" font-family=\"Times,serif\" font-size=\"14.00\" fill=\"#000000\">8</text>\n",
       "</g>\n",
       "<!-- 5&#45;&gt;6 -->\n",
       "<g id=\"edge3\" class=\"edge\">\n",
       "<title>5&#45;&gt;6</title>\n",
       "<path fill=\"none\" stroke=\"#000000\" d=\"M218.2853,-212.856C213.499,-196.6623 206.343,-172.4508 200.8102,-153.7311\"/>\n",
       "<polygon fill=\"#000000\" stroke=\"#000000\" points=\"204.1197,-152.58 197.9288,-143.9821 197.4068,-154.5641 204.1197,-152.58\"/>\n",
       "<text text-anchor=\"middle\" x=\"206.0477\" y=\"-186.0936\" font-family=\"Times,serif\" font-size=\"14.00\" fill=\"#000000\">3</text>\n",
       "</g>\n",
       "<!-- 6&#45;&gt;3 -->\n",
       "<g id=\"edge4\" class=\"edge\">\n",
       "<title>6&#45;&gt;3</title>\n",
       "<path fill=\"none\" stroke=\"#ff0000\" d=\"M194.6889,-107.8372C196.5465,-90.9492 199.3293,-65.6489 201.469,-46.1966\"/>\n",
       "<polygon fill=\"#ff0000\" stroke=\"#ff0000\" points=\"204.9671,-46.4047 202.5815,-36.0819 198.009,-45.6393 204.9671,-46.4047\"/>\n",
       "<text text-anchor=\"middle\" x=\"194.5789\" y=\"-79.8169\" font-family=\"Times,serif\" font-size=\"14.00\" fill=\"#ff0000\">4</text>\n",
       "</g>\n",
       "</g>\n",
       "</svg>\n"
      ],
      "text/plain": [
       "DiGraph(DiNode[DiNode(1, Dict{Symbol,Any}()), DiNode(2, Dict{Symbol,Any}()), DiNode(3, Dict{Symbol,Any}()), DiNode(4, Dict{Symbol,Any}()), DiNode(5, Dict{Symbol,Any}()), DiNode(6, Dict{Symbol,Any}())], DiEdge[DiEdge(1=>4, Dict{Symbol,Any}(Pair{Symbol,Any}(:label, 1),Pair{Symbol,Any}(:len, 1.5))), DiEdge(4=>5, Dict{Symbol,Any}(Pair{Symbol,Any}(:label, 2),Pair{Symbol,Any}(:len, 1.5))), DiEdge(5=>6, Dict{Symbol,Any}(Pair{Symbol,Any}(:label, 3),Pair{Symbol,Any}(:len, 1.5))), DiEdge(6=>3, Dict{Symbol,Any}(Pair{Symbol,Any}(:color, \"red\"),Pair{Symbol,Any}(:label, 4),Pair{Symbol,Any}(:fontcolor, \"red\"),Pair{Symbol,Any}(:len, 1.5))), DiEdge(3=>2, Dict{Symbol,Any}(Pair{Symbol,Any}(:color, \"red\"),Pair{Symbol,Any}(:label, 5),Pair{Symbol,Any}(:fontcolor, \"red\"),Pair{Symbol,Any}(:len, 1.5))), DiEdge(2=>1, Dict{Symbol,Any}(Pair{Symbol,Any}(:label, 6),Pair{Symbol,Any}(:len, 1.5))), DiEdge(2=>6, Dict{Symbol,Any}(Pair{Symbol,Any}(:color, \"red\"),Pair{Symbol,Any}(:label, 7),Pair{Symbol,Any}(:fontcolor, \"red\"),Pair{Symbol,Any}(:len, 1.5))), DiEdge(4=>6, Dict{Symbol,Any}(Pair{Symbol,Any}(:label, 8),Pair{Symbol,Any}(:len, 1.5)))], Dict{Symbol,Any}())"
      ]
     },
     "execution_count": 19,
     "metadata": {
      "comm_id": "ac049466-0a3c-4b39-bda6-ea66f6e87aaa",
      "reactive": true
     },
     "output_type": "execute_result"
    }
   ],
   "source": [
    "animloops(g)"
   ]
  },
  {
   "cell_type": "markdown",
   "metadata": {},
   "source": [
    "These three loops are **not the only loops** in the graph, but the **other loops can be made from combinations of these loops**.  (Similarly, the columns of $N$ are not the *whole* left nullspace, they are just a **basis** for the n nullspace.\n",
    "\n",
    "For example, the loop between nodes 1-4-6-2 can be made by starting with 1-4-5-6-3-2 and \"subtracting\" the 6-3-2 loop.\n",
    "\n",
    "In this sense, a basis for the left nullspace of $A$ is a \"basis\" for the other loops in the graph: we say that they are \"primitive\" loops."
   ]
  },
  {
   "cell_type": "code",
   "execution_count": 20,
   "metadata": {},
   "outputs": [
    {
     "data": {
      "image/svg+xml": [
       "<?xml version=\"1.0\" encoding=\"UTF-8\" standalone=\"no\"?>\n",
       "<!DOCTYPE svg PUBLIC \"-//W3C//DTD SVG 1.1//EN\"\n",
       " \"http://www.w3.org/Graphics/SVG/1.1/DTD/svg11.dtd\">\n",
       "<!-- Generated by graphviz version 2.40.1 (20161225.0304)\n",
       " -->\n",
       "<!-- Title: MyDiGraph Pages: 1 -->\n",
       "<svg width=\"259pt\" height=\"257pt\"\n",
       " viewBox=\"0.00 0.00 258.52 256.56\" xmlns=\"http://www.w3.org/2000/svg\" xmlns:xlink=\"http://www.w3.org/1999/xlink\">\n",
       "<g id=\"graph0\" class=\"graph\" transform=\"scale(1 1) rotate(0) translate(4 252.5612)\">\n",
       "<title>MyDiGraph</title>\n",
       "<polygon fill=\"#ffffff\" stroke=\"transparent\" points=\"-4,4 -4,-252.5612 254.5182,-252.5612 254.5182,4 -4,4\"/>\n",
       "<!-- 1 -->\n",
       "<g id=\"node1\" class=\"node\">\n",
       "<title>1</title>\n",
       "<ellipse fill=\"none\" stroke=\"#000000\" cx=\"27\" cy=\"-140.9451\" rx=\"27\" ry=\"18\"/>\n",
       "<text text-anchor=\"middle\" x=\"27\" y=\"-136.7451\" font-family=\"Times,serif\" font-size=\"14.00\" fill=\"#000000\">1</text>\n",
       "</g>\n",
       "<!-- 4 -->\n",
       "<g id=\"node4\" class=\"node\">\n",
       "<title>4</title>\n",
       "<ellipse fill=\"none\" stroke=\"#000000\" cx=\"116.8883\" cy=\"-215.532\" rx=\"27\" ry=\"18\"/>\n",
       "<text text-anchor=\"middle\" x=\"116.8883\" y=\"-211.332\" font-family=\"Times,serif\" font-size=\"14.00\" fill=\"#000000\">4</text>\n",
       "</g>\n",
       "<!-- 1&#45;&gt;4 -->\n",
       "<g id=\"edge1\" class=\"edge\">\n",
       "<title>1&#45;&gt;4</title>\n",
       "<path fill=\"none\" stroke=\"#ff0000\" d=\"M44.3314,-155.3262C57.8476,-166.5416 76.8036,-182.2708 91.9506,-194.8393\"/>\n",
       "<polygon fill=\"#ff0000\" stroke=\"#ff0000\" points=\"89.9843,-197.7558 99.915,-201.448 94.4543,-192.3688 89.9843,-197.7558\"/>\n",
       "<text text-anchor=\"middle\" x=\"64.641\" y=\"-177.8828\" font-family=\"Times,serif\" font-size=\"14.00\" fill=\"#ff0000\">1</text>\n",
       "</g>\n",
       "<!-- 2 -->\n",
       "<g id=\"node2\" class=\"node\">\n",
       "<title>2</title>\n",
       "<ellipse fill=\"none\" stroke=\"#000000\" cx=\"102.2914\" cy=\"-51.6524\" rx=\"27\" ry=\"18\"/>\n",
       "<text text-anchor=\"middle\" x=\"102.2914\" y=\"-47.4524\" font-family=\"Times,serif\" font-size=\"14.00\" fill=\"#000000\">2</text>\n",
       "</g>\n",
       "<!-- 2&#45;&gt;1 -->\n",
       "<g id=\"edge6\" class=\"edge\">\n",
       "<title>2&#45;&gt;1</title>\n",
       "<path fill=\"none\" stroke=\"#ff0000\" d=\"M88.8308,-67.6162C77.1606,-81.4566 60.1129,-101.6744 46.8723,-117.3772\"/>\n",
       "<polygon fill=\"#ff0000\" stroke=\"#ff0000\" points=\"44.1146,-115.2183 40.3441,-125.1195 49.4661,-119.7307 44.1146,-115.2183\"/>\n",
       "<text text-anchor=\"middle\" x=\"64.3516\" y=\"-95.2967\" font-family=\"Times,serif\" font-size=\"14.00\" fill=\"#ff0000\">6</text>\n",
       "</g>\n",
       "<!-- 6 -->\n",
       "<g id=\"node6\" class=\"node\">\n",
       "<title>6</title>\n",
       "<ellipse fill=\"none\" stroke=\"#000000\" cx=\"192.6702\" cy=\"-126.1901\" rx=\"27\" ry=\"18\"/>\n",
       "<text text-anchor=\"middle\" x=\"192.6702\" y=\"-121.9901\" font-family=\"Times,serif\" font-size=\"14.00\" fill=\"#000000\">6</text>\n",
       "</g>\n",
       "<!-- 2&#45;&gt;6 -->\n",
       "<g id=\"edge7\" class=\"edge\">\n",
       "<title>2&#45;&gt;6</title>\n",
       "<path fill=\"none\" stroke=\"#0000ff\" d=\"M119.2909,-65.6724C132.8382,-76.8452 152.0133,-92.6594 167.3645,-105.3199\"/>\n",
       "<polygon fill=\"#0000ff\" stroke=\"#0000ff\" points=\"165.4978,-108.3172 175.4396,-111.9796 169.9517,-102.9168 165.4978,-108.3172\"/>\n",
       "<text text-anchor=\"middle\" x=\"139.8277\" y=\"-88.2962\" font-family=\"Times,serif\" font-size=\"14.00\" fill=\"#0000ff\">7</text>\n",
       "</g>\n",
       "<!-- 3 -->\n",
       "<g id=\"node3\" class=\"node\">\n",
       "<title>3</title>\n",
       "<ellipse fill=\"none\" stroke=\"#000000\" cx=\"204.5704\" cy=\"-18\" rx=\"27\" ry=\"18\"/>\n",
       "<text text-anchor=\"middle\" x=\"204.5704\" y=\"-13.8\" font-family=\"Times,serif\" font-size=\"14.00\" fill=\"#000000\">3</text>\n",
       "</g>\n",
       "<!-- 3&#45;&gt;2 -->\n",
       "<g id=\"edge5\" class=\"edge\">\n",
       "<title>3&#45;&gt;2</title>\n",
       "<path fill=\"none\" stroke=\"#000000\" d=\"M180.3317,-25.9752C167.1806,-30.3022 150.7115,-35.721 136.2962,-40.464\"/>\n",
       "<polygon fill=\"#000000\" stroke=\"#000000\" points=\"135.1157,-37.1677 126.7105,-43.6179 137.3035,-43.8171 135.1157,-37.1677\"/>\n",
       "<text text-anchor=\"middle\" x=\"154.814\" y=\"-36.0196\" font-family=\"Times,serif\" font-size=\"14.00\" fill=\"#000000\">5</text>\n",
       "</g>\n",
       "<!-- 5 -->\n",
       "<g id=\"node5\" class=\"node\">\n",
       "<title>5</title>\n",
       "<ellipse fill=\"none\" stroke=\"#000000\" cx=\"223.5182\" cy=\"-230.5612\" rx=\"27\" ry=\"18\"/>\n",
       "<text text-anchor=\"middle\" x=\"223.5182\" y=\"-226.3612\" font-family=\"Times,serif\" font-size=\"14.00\" fill=\"#000000\">5</text>\n",
       "</g>\n",
       "<!-- 4&#45;&gt;5 -->\n",
       "<g id=\"edge2\" class=\"edge\">\n",
       "<title>4&#45;&gt;5</title>\n",
       "<path fill=\"none\" stroke=\"#ff0000\" d=\"M143.5205,-219.2857C156.6248,-221.1327 172.6268,-223.3882 186.8659,-225.3951\"/>\n",
       "<polygon fill=\"#ff0000\" stroke=\"#ff0000\" points=\"186.4654,-228.8732 196.856,-226.8032 187.4424,-221.9417 186.4654,-228.8732\"/>\n",
       "<text text-anchor=\"middle\" x=\"161.6932\" y=\"-225.1404\" font-family=\"Times,serif\" font-size=\"14.00\" fill=\"#ff0000\">2</text>\n",
       "</g>\n",
       "<!-- 4&#45;&gt;6 -->\n",
       "<g id=\"edge8\" class=\"edge\">\n",
       "<title>4&#45;&gt;6</title>\n",
       "<path fill=\"none\" stroke=\"#000000\" d=\"M130.4366,-199.5595C142.1828,-185.7114 159.3415,-165.4824 172.6684,-149.771\"/>\n",
       "<polygon fill=\"#000000\" stroke=\"#000000\" points=\"175.4397,-151.9145 179.2392,-142.0244 170.1014,-147.3865 175.4397,-151.9145\"/>\n",
       "<text text-anchor=\"middle\" x=\"148.0525\" y=\"-177.4652\" font-family=\"Times,serif\" font-size=\"14.00\" fill=\"#000000\">8</text>\n",
       "</g>\n",
       "<!-- 5&#45;&gt;6 -->\n",
       "<g id=\"edge3\" class=\"edge\">\n",
       "<title>5&#45;&gt;6</title>\n",
       "<path fill=\"none\" stroke=\"#ff0000\" d=\"M218.2853,-212.856C213.499,-196.6623 206.343,-172.4508 200.8102,-153.7311\"/>\n",
       "<polygon fill=\"#ff0000\" stroke=\"#ff0000\" points=\"204.1197,-152.58 197.9288,-143.9821 197.4068,-154.5641 204.1197,-152.58\"/>\n",
       "<text text-anchor=\"middle\" x=\"206.0477\" y=\"-186.0936\" font-family=\"Times,serif\" font-size=\"14.00\" fill=\"#ff0000\">3</text>\n",
       "</g>\n",
       "<!-- 6&#45;&gt;3 -->\n",
       "<g id=\"edge4\" class=\"edge\">\n",
       "<title>6&#45;&gt;3</title>\n",
       "<path fill=\"none\" stroke=\"#000000\" d=\"M194.6889,-107.8372C196.5465,-90.9492 199.3293,-65.6489 201.469,-46.1966\"/>\n",
       "<polygon fill=\"#000000\" stroke=\"#000000\" points=\"204.9671,-46.4047 202.5815,-36.0819 198.009,-45.6393 204.9671,-46.4047\"/>\n",
       "<text text-anchor=\"middle\" x=\"194.5789\" y=\"-79.8169\" font-family=\"Times,serif\" font-size=\"14.00\" fill=\"#000000\">4</text>\n",
       "</g>\n",
       "</g>\n",
       "</svg>\n"
      ],
      "text/plain": [
       "DiGraph(DiNode[DiNode(1, Dict{Symbol,Any}()), DiNode(2, Dict{Symbol,Any}()), DiNode(3, Dict{Symbol,Any}()), DiNode(4, Dict{Symbol,Any}()), DiNode(5, Dict{Symbol,Any}()), DiNode(6, Dict{Symbol,Any}())], DiEdge[DiEdge(1=>4, Dict{Symbol,Any}(Pair{Symbol,Any}(:color, \"red\"),Pair{Symbol,Any}(:label, 1),Pair{Symbol,Any}(:fontcolor, \"red\"),Pair{Symbol,Any}(:len, 1.5))), DiEdge(4=>5, Dict{Symbol,Any}(Pair{Symbol,Any}(:color, \"red\"),Pair{Symbol,Any}(:label, 2),Pair{Symbol,Any}(:fontcolor, \"red\"),Pair{Symbol,Any}(:len, 1.5))), DiEdge(5=>6, Dict{Symbol,Any}(Pair{Symbol,Any}(:color, \"red\"),Pair{Symbol,Any}(:label, 3),Pair{Symbol,Any}(:fontcolor, \"red\"),Pair{Symbol,Any}(:len, 1.5))), DiEdge(6=>3, Dict{Symbol,Any}(Pair{Symbol,Any}(:label, 4),Pair{Symbol,Any}(:len, 1.5))), DiEdge(3=>2, Dict{Symbol,Any}(Pair{Symbol,Any}(:label, 5),Pair{Symbol,Any}(:len, 1.5))), DiEdge(2=>1, Dict{Symbol,Any}(Pair{Symbol,Any}(:color, \"red\"),Pair{Symbol,Any}(:label, 6),Pair{Symbol,Any}(:fontcolor, \"red\"),Pair{Symbol,Any}(:len, 1.5))), DiEdge(2=>6, Dict{Symbol,Any}(Pair{Symbol,Any}(:color, \"blue\"),Pair{Symbol,Any}(:label, 7),Pair{Symbol,Any}(:fontcolor, \"blue\"),Pair{Symbol,Any}(:len, 1.5))), DiEdge(4=>6, Dict{Symbol,Any}(Pair{Symbol,Any}(:label, 8),Pair{Symbol,Any}(:len, 1.5)))], Dict{Symbol,Any}())"
      ]
     },
     "execution_count": 20,
     "metadata": {},
     "output_type": "execute_result"
    }
   ],
   "source": [
    "colorloop(g, N[:,1] - N[:,2]) # subtract two loops to make another loop"
   ]
  },
  {
   "cell_type": "markdown",
   "metadata": {},
   "source": [
    "It is fun to do the same thing for bigger graphs, chosen at random:"
   ]
  },
  {
   "cell_type": "code",
   "execution_count": 21,
   "metadata": {},
   "outputs": [
    {
     "data": {
      "text/html": [],
      "text/plain": [
       "Interact.Options{:SelectionSlider,Int64}(5: \"input-2\" = 4 Int64 , \"loop\", 4, \"4\", Interact.OptionDict(DataStructures.OrderedDict(\"1\"=>1,\"2\"=>2,\"3\"=>3,\"4\"=>4,\"5\"=>5,\"6\"=>6,\"7\"=>7), Dict(7=>\"7\",4=>\"4\",2=>\"2\",3=>\"3\",5=>\"5\",6=>\"6\",1=>\"1\")), Any[], Any[], true, \"horizontal\")"
      ]
     },
     "metadata": {},
     "output_type": "display_data"
    },
    {
     "data": {
      "image/svg+xml": [
       "<?xml version=\"1.0\" encoding=\"UTF-8\" standalone=\"no\"?>\n",
       "<!DOCTYPE svg PUBLIC \"-//W3C//DTD SVG 1.1//EN\"\n",
       " \"http://www.w3.org/Graphics/SVG/1.1/DTD/svg11.dtd\">\n",
       "<!-- Generated by graphviz version 2.40.1 (20161225.0304)\n",
       " -->\n",
       "<!-- Title: MyDiGraph Pages: 1 -->\n",
       "<svg width=\"526pt\" height=\"517pt\"\n",
       " viewBox=\"0.00 0.00 525.89 516.99\" xmlns=\"http://www.w3.org/2000/svg\" xmlns:xlink=\"http://www.w3.org/1999/xlink\">\n",
       "<g id=\"graph0\" class=\"graph\" transform=\"scale(1 1) rotate(0) translate(4 512.993)\">\n",
       "<title>MyDiGraph</title>\n",
       "<polygon fill=\"#ffffff\" stroke=\"transparent\" points=\"-4,4 -4,-512.993 521.893,-512.993 521.893,4 -4,4\"/>\n",
       "<!-- 1 -->\n",
       "<g id=\"node1\" class=\"node\">\n",
       "<title>1</title>\n",
       "<ellipse fill=\"none\" stroke=\"#000000\" cx=\"28.8074\" cy=\"-222.424\" rx=\"27\" ry=\"18\"/>\n",
       "<text text-anchor=\"middle\" x=\"28.8074\" y=\"-218.224\" font-family=\"Times,serif\" font-size=\"14.00\" fill=\"#000000\">1</text>\n",
       "</g>\n",
       "<!-- 2 -->\n",
       "<g id=\"node2\" class=\"node\">\n",
       "<title>2</title>\n",
       "<ellipse fill=\"none\" stroke=\"#000000\" cx=\"217.3786\" cy=\"-490.993\" rx=\"27\" ry=\"18\"/>\n",
       "<text text-anchor=\"middle\" x=\"217.3786\" y=\"-486.793\" font-family=\"Times,serif\" font-size=\"14.00\" fill=\"#000000\">2</text>\n",
       "</g>\n",
       "<!-- 3 -->\n",
       "<g id=\"node3\" class=\"node\">\n",
       "<title>3</title>\n",
       "<ellipse fill=\"none\" stroke=\"#000000\" cx=\"490.893\" cy=\"-141.2202\" rx=\"27\" ry=\"18\"/>\n",
       "<text text-anchor=\"middle\" x=\"490.893\" y=\"-137.0202\" font-family=\"Times,serif\" font-size=\"14.00\" fill=\"#000000\">3</text>\n",
       "</g>\n",
       "<!-- 5 -->\n",
       "<g id=\"node5\" class=\"node\">\n",
       "<title>5</title>\n",
       "<ellipse fill=\"none\" stroke=\"#000000\" cx=\"414.0009\" cy=\"-235.799\" rx=\"27\" ry=\"18\"/>\n",
       "<text text-anchor=\"middle\" x=\"414.0009\" y=\"-231.599\" font-family=\"Times,serif\" font-size=\"14.00\" fill=\"#000000\">5</text>\n",
       "</g>\n",
       "<!-- 3&#45;&gt;5 -->\n",
       "<g id=\"edge1\" class=\"edge\">\n",
       "<title>3&#45;&gt;5</title>\n",
       "<path fill=\"none\" stroke=\"#000000\" d=\"M477.8493,-157.2642C465.6982,-172.2104 447.4193,-194.6937 433.5289,-211.7792\"/>\n",
       "<polygon fill=\"#000000\" stroke=\"#000000\" points=\"430.7011,-209.7091 427.1086,-219.6763 436.1326,-214.1249 430.7011,-209.7091\"/>\n",
       "<text text-anchor=\"middle\" x=\"452.1891\" y=\"-187.3217\" font-family=\"Times,serif\" font-size=\"14.00\" fill=\"#000000\">1</text>\n",
       "</g>\n",
       "<!-- 13 -->\n",
       "<g id=\"node13\" class=\"node\">\n",
       "<title>13</title>\n",
       "<ellipse fill=\"none\" stroke=\"#000000\" cx=\"414.1398\" cy=\"-42.8412\" rx=\"27\" ry=\"18\"/>\n",
       "<text text-anchor=\"middle\" x=\"414.1398\" y=\"-38.6412\" font-family=\"Times,serif\" font-size=\"14.00\" fill=\"#000000\">13</text>\n",
       "</g>\n",
       "<!-- 3&#45;&gt;13 -->\n",
       "<g id=\"edge2\" class=\"edge\">\n",
       "<title>3&#45;&gt;13</title>\n",
       "<path fill=\"none\" stroke=\"#000000\" d=\"M478.2188,-124.9749C465.9975,-109.3102 447.3401,-85.3959 433.3038,-67.4048\"/>\n",
       "<polygon fill=\"#000000\" stroke=\"#000000\" points=\"435.7437,-64.8421 426.8329,-59.1107 430.2246,-69.1479 435.7437,-64.8421\"/>\n",
       "<text text-anchor=\"middle\" x=\"452.2613\" y=\"-98.9898\" font-family=\"Times,serif\" font-size=\"14.00\" fill=\"#000000\">2</text>\n",
       "</g>\n",
       "<!-- 4 -->\n",
       "<g id=\"node4\" class=\"node\">\n",
       "<title>4</title>\n",
       "<ellipse fill=\"none\" stroke=\"#000000\" cx=\"217.3153\" cy=\"-376.9505\" rx=\"27\" ry=\"18\"/>\n",
       "<text text-anchor=\"middle\" x=\"217.3153\" y=\"-372.7505\" font-family=\"Times,serif\" font-size=\"14.00\" fill=\"#000000\">4</text>\n",
       "</g>\n",
       "<!-- 4&#45;&gt;2 -->\n",
       "<g id=\"edge3\" class=\"edge\">\n",
       "<title>4&#45;&gt;2</title>\n",
       "<path fill=\"none\" stroke=\"#000000\" d=\"M217.3254,-395.0209C217.3354,-413.1813 217.3511,-441.4386 217.3628,-462.5965\"/>\n",
       "<polygon fill=\"#000000\" stroke=\"#000000\" points=\"213.8628,-462.6315 217.3684,-472.6295 220.8628,-462.6275 213.8628,-462.6315\"/>\n",
       "<text text-anchor=\"middle\" x=\"213.8441\" y=\"-431.6087\" font-family=\"Times,serif\" font-size=\"14.00\" fill=\"#000000\">3</text>\n",
       "</g>\n",
       "<!-- 7 -->\n",
       "<g id=\"node7\" class=\"node\">\n",
       "<title>7</title>\n",
       "<ellipse fill=\"none\" stroke=\"#000000\" cx=\"133.4143\" cy=\"-279.2848\" rx=\"27\" ry=\"18\"/>\n",
       "<text text-anchor=\"middle\" x=\"133.4143\" y=\"-275.0848\" font-family=\"Times,serif\" font-size=\"14.00\" fill=\"#000000\">7</text>\n",
       "</g>\n",
       "<!-- 4&#45;&gt;7 -->\n",
       "<g id=\"edge4\" class=\"edge\">\n",
       "<title>4&#45;&gt;7</title>\n",
       "<path fill=\"none\" stroke=\"#ff0000\" d=\"M203.8352,-361.2589C190.2578,-345.4539 169.1467,-320.8794 153.5775,-302.756\"/>\n",
       "<polygon fill=\"#ff0000\" stroke=\"#ff0000\" points=\"156.0322,-300.2422 146.861,-294.9376 150.7225,-304.8037 156.0322,-300.2422\"/>\n",
       "<text text-anchor=\"middle\" x=\"175.2063\" y=\"-334.8074\" font-family=\"Times,serif\" font-size=\"14.00\" fill=\"#ff0000\">4</text>\n",
       "</g>\n",
       "<!-- 11 -->\n",
       "<g id=\"node11\" class=\"node\">\n",
       "<title>11</title>\n",
       "<ellipse fill=\"none\" stroke=\"#000000\" cx=\"306.891\" cy=\"-187.4331\" rx=\"27\" ry=\"18\"/>\n",
       "<text text-anchor=\"middle\" x=\"306.891\" y=\"-183.2331\" font-family=\"Times,serif\" font-size=\"14.00\" fill=\"#000000\">11</text>\n",
       "</g>\n",
       "<!-- 5&#45;&gt;11 -->\n",
       "<g id=\"edge5\" class=\"edge\">\n",
       "<title>5&#45;&gt;11</title>\n",
       "<path fill=\"none\" stroke=\"#000000\" d=\"M391.5472,-225.6599C376.2659,-218.7596 355.8145,-209.5247 338.8414,-201.8604\"/>\n",
       "<polygon fill=\"#000000\" stroke=\"#000000\" points=\"339.8696,-198.4844 329.3152,-197.5588 336.9887,-204.8642 339.8696,-198.4844\"/>\n",
       "<text text-anchor=\"middle\" x=\"361.6943\" y=\"-216.5602\" font-family=\"Times,serif\" font-size=\"14.00\" fill=\"#000000\">5</text>\n",
       "</g>\n",
       "<!-- 15 -->\n",
       "<g id=\"node15\" class=\"node\">\n",
       "<title>15</title>\n",
       "<ellipse fill=\"none\" stroke=\"#000000\" cx=\"307.01\" cy=\"-285.288\" rx=\"27\" ry=\"18\"/>\n",
       "<text text-anchor=\"middle\" x=\"307.01\" y=\"-281.088\" font-family=\"Times,serif\" font-size=\"14.00\" fill=\"#000000\">15</text>\n",
       "</g>\n",
       "<!-- 5&#45;&gt;15 -->\n",
       "<g id=\"edge6\" class=\"edge\">\n",
       "<title>5&#45;&gt;15</title>\n",
       "<path fill=\"none\" stroke=\"#000000\" d=\"M391.5721,-246.1735C376.3078,-253.2341 355.8791,-262.6834 338.9249,-270.5257\"/>\n",
       "<polygon fill=\"#000000\" stroke=\"#000000\" points=\"337.016,-267.5523 329.4092,-274.9271 339.9547,-273.9055 337.016,-267.5523\"/>\n",
       "<text text-anchor=\"middle\" x=\"361.7485\" y=\"-261.1496\" font-family=\"Times,serif\" font-size=\"14.00\" fill=\"#000000\">6</text>\n",
       "</g>\n",
       "<!-- 6 -->\n",
       "<g id=\"node6\" class=\"node\">\n",
       "<title>6</title>\n",
       "<ellipse fill=\"none\" stroke=\"#000000\" cx=\"229.2975\" cy=\"-292.1404\" rx=\"27\" ry=\"18\"/>\n",
       "<text text-anchor=\"middle\" x=\"229.2975\" y=\"-287.9404\" font-family=\"Times,serif\" font-size=\"14.00\" fill=\"#000000\">6</text>\n",
       "</g>\n",
       "<!-- 6&#45;&gt;4 -->\n",
       "<g id=\"edge7\" class=\"edge\">\n",
       "<title>6&#45;&gt;4</title>\n",
       "<path fill=\"none\" stroke=\"#ff0000\" d=\"M226.7564,-310.1265C225.1678,-321.3707 223.0883,-336.0897 221.2853,-348.8508\"/>\n",
       "<polygon fill=\"#ff0000\" stroke=\"#ff0000\" points=\"217.7862,-348.5991 219.8528,-358.9904 224.7174,-349.5784 217.7862,-348.5991\"/>\n",
       "<text text-anchor=\"middle\" x=\"220.5209\" y=\"-332.2886\" font-family=\"Times,serif\" font-size=\"14.00\" fill=\"#ff0000\">7</text>\n",
       "</g>\n",
       "<!-- 6&#45;&gt;7 -->\n",
       "<g id=\"edge8\" class=\"edge\">\n",
       "<title>6&#45;&gt;7</title>\n",
       "<path fill=\"none\" stroke=\"#000000\" d=\"M202.5887,-288.5594C192.5106,-287.2082 180.8637,-285.6466 170.0343,-284.1947\"/>\n",
       "<polygon fill=\"#000000\" stroke=\"#000000\" points=\"170.3563,-280.7066 159.9799,-282.8466 169.4261,-287.6445 170.3563,-280.7066\"/>\n",
       "<text text-anchor=\"middle\" x=\"182.8115\" y=\"-289.1771\" font-family=\"Times,serif\" font-size=\"14.00\" fill=\"#000000\">8</text>\n",
       "</g>\n",
       "<!-- 7&#45;&gt;1 -->\n",
       "<g id=\"edge9\" class=\"edge\">\n",
       "<title>7&#45;&gt;1</title>\n",
       "<path fill=\"none\" stroke=\"#000000\" d=\"M112.2455,-267.7782C96.9325,-259.4545 76.0213,-248.0879 58.9643,-238.8162\"/>\n",
       "<polygon fill=\"#000000\" stroke=\"#000000\" points=\"60.4022,-235.6142 49.9447,-233.9135 57.0591,-241.7644 60.4022,-235.6142\"/>\n",
       "<text text-anchor=\"middle\" x=\"82.1049\" y=\"-256.0972\" font-family=\"Times,serif\" font-size=\"14.00\" fill=\"#000000\">9</text>\n",
       "</g>\n",
       "<!-- 12 -->\n",
       "<g id=\"node12\" class=\"node\">\n",
       "<title>12</title>\n",
       "<ellipse fill=\"none\" stroke=\"#000000\" cx=\"208.8316\" cy=\"-169.7369\" rx=\"27\" ry=\"18\"/>\n",
       "<text text-anchor=\"middle\" x=\"208.8316\" y=\"-165.5369\" font-family=\"Times,serif\" font-size=\"14.00\" fill=\"#000000\">12</text>\n",
       "</g>\n",
       "<!-- 7&#45;&gt;12 -->\n",
       "<g id=\"edge10\" class=\"edge\">\n",
       "<title>7&#45;&gt;12</title>\n",
       "<path fill=\"none\" stroke=\"#ff0000\" d=\"M144.8686,-262.6468C157.3439,-244.5258 177.4301,-215.3494 191.7645,-194.5279\"/>\n",
       "<polygon fill=\"#ff0000\" stroke=\"#ff0000\" points=\"194.729,-196.3941 197.5167,-186.1725 188.9632,-192.4246 194.729,-196.3941\"/>\n",
       "<text text-anchor=\"middle\" x=\"161.3165\" y=\"-231.3874\" font-family=\"Times,serif\" font-size=\"14.00\" fill=\"#ff0000\">10</text>\n",
       "</g>\n",
       "<!-- 8 -->\n",
       "<g id=\"node8\" class=\"node\">\n",
       "<title>8</title>\n",
       "<ellipse fill=\"none\" stroke=\"#000000\" cx=\"27\" cy=\"-18\" rx=\"27\" ry=\"18\"/>\n",
       "<text text-anchor=\"middle\" x=\"27\" y=\"-13.8\" font-family=\"Times,serif\" font-size=\"14.00\" fill=\"#000000\">8</text>\n",
       "</g>\n",
       "<!-- 9 -->\n",
       "<g id=\"node9\" class=\"node\">\n",
       "<title>9</title>\n",
       "<ellipse fill=\"none\" stroke=\"#000000\" cx=\"94.7088\" cy=\"-114.6211\" rx=\"27\" ry=\"18\"/>\n",
       "<text text-anchor=\"middle\" x=\"94.7088\" y=\"-110.4211\" font-family=\"Times,serif\" font-size=\"14.00\" fill=\"#000000\">9</text>\n",
       "</g>\n",
       "<!-- 8&#45;&gt;9 -->\n",
       "<g id=\"edge11\" class=\"edge\">\n",
       "<title>8&#45;&gt;9</title>\n",
       "<path fill=\"none\" stroke=\"#000000\" d=\"M38.4859,-34.3905C49.0885,-49.5205 64.9894,-72.2112 77.1785,-89.6052\"/>\n",
       "<polygon fill=\"#000000\" stroke=\"#000000\" points=\"74.5614,-91.9695 83.1666,-98.1502 80.294,-87.9522 74.5614,-91.9695\"/>\n",
       "<text text-anchor=\"middle\" x=\"51.0886\" y=\"-64.7978\" font-family=\"Times,serif\" font-size=\"14.00\" fill=\"#000000\">11</text>\n",
       "</g>\n",
       "<!-- 9&#45;&gt;1 -->\n",
       "<g id=\"edge12\" class=\"edge\">\n",
       "<title>9&#45;&gt;1</title>\n",
       "<path fill=\"none\" stroke=\"#000000\" d=\"M84.4117,-131.4653C73.6754,-149.028 56.72,-176.764 44.3528,-196.9946\"/>\n",
       "<polygon fill=\"#000000\" stroke=\"#000000\" points=\"41.2618,-195.3405 39.0322,-205.6981 47.2342,-198.9915 41.2618,-195.3405\"/>\n",
       "<text text-anchor=\"middle\" x=\"57.3822\" y=\"-167.0299\" font-family=\"Times,serif\" font-size=\"14.00\" fill=\"#000000\">12</text>\n",
       "</g>\n",
       "<!-- 10 -->\n",
       "<g id=\"node10\" class=\"node\">\n",
       "<title>10</title>\n",
       "<ellipse fill=\"none\" stroke=\"#000000\" cx=\"387\" cy=\"-378\" rx=\"27\" ry=\"18\"/>\n",
       "<text text-anchor=\"middle\" x=\"387\" y=\"-373.8\" font-family=\"Times,serif\" font-size=\"14.00\" fill=\"#000000\">10</text>\n",
       "</g>\n",
       "<!-- 11&#45;&gt;6 -->\n",
       "<g id=\"edge13\" class=\"edge\">\n",
       "<title>11&#45;&gt;6</title>\n",
       "<path fill=\"none\" stroke=\"#ff0000\" d=\"M294.7671,-203.7936C282.069,-220.9289 261.9823,-248.0345 247.4044,-267.7063\"/>\n",
       "<polygon fill=\"#ff0000\" stroke=\"#ff0000\" points=\"244.4783,-265.7765 241.3364,-275.8948 250.1023,-269.9443 244.4783,-265.7765\"/>\n",
       "<text text-anchor=\"middle\" x=\"264.0858\" y=\"-238.55\" font-family=\"Times,serif\" font-size=\"14.00\" fill=\"#ff0000\">13</text>\n",
       "</g>\n",
       "<!-- 11&#45;&gt;12 -->\n",
       "<g id=\"edge14\" class=\"edge\">\n",
       "<title>11&#45;&gt;12</title>\n",
       "<path fill=\"none\" stroke=\"#000000\" d=\"M280.6129,-182.6908C269.7312,-180.7271 256.9282,-178.4166 245.1708,-176.2948\"/>\n",
       "<polygon fill=\"#000000\" stroke=\"#000000\" points=\"245.6449,-172.8239 235.1823,-174.4923 244.4017,-179.7126 245.6449,-172.8239\"/>\n",
       "<text text-anchor=\"middle\" x=\"255.8919\" y=\"-182.2928\" font-family=\"Times,serif\" font-size=\"14.00\" fill=\"#000000\">14</text>\n",
       "</g>\n",
       "<!-- 14 -->\n",
       "<g id=\"node14\" class=\"node\">\n",
       "<title>14</title>\n",
       "<ellipse fill=\"none\" stroke=\"#000000\" cx=\"297.1441\" cy=\"-82.7285\" rx=\"27\" ry=\"18\"/>\n",
       "<text text-anchor=\"middle\" x=\"297.1441\" y=\"-78.5285\" font-family=\"Times,serif\" font-size=\"14.00\" fill=\"#000000\">14</text>\n",
       "</g>\n",
       "<!-- 11&#45;&gt;14 -->\n",
       "<g id=\"edge15\" class=\"edge\">\n",
       "<title>11&#45;&gt;14</title>\n",
       "<path fill=\"none\" stroke=\"#0000ff\" d=\"M305.1933,-169.1949C303.6978,-153.13 301.4956,-129.4741 299.7726,-110.9647\"/>\n",
       "<polygon fill=\"#0000ff\" stroke=\"#0000ff\" points=\"303.2343,-110.3902 298.8224,-100.7576 296.2645,-111.039 303.2343,-110.3902\"/>\n",
       "<text text-anchor=\"middle\" x=\"295.4829\" y=\"-142.8798\" font-family=\"Times,serif\" font-size=\"14.00\" fill=\"#0000ff\">15</text>\n",
       "</g>\n",
       "<!-- 12&#45;&gt;9 -->\n",
       "<g id=\"edge16\" class=\"edge\">\n",
       "<title>12&#45;&gt;9</title>\n",
       "<path fill=\"none\" stroke=\"#000000\" d=\"M186.8276,-159.11C169.4609,-150.7227 145.0205,-138.9192 125.6779,-129.5777\"/>\n",
       "<polygon fill=\"#000000\" stroke=\"#000000\" points=\"127.1723,-126.4126 116.6453,-125.2154 124.128,-132.716 127.1723,-126.4126\"/>\n",
       "<text text-anchor=\"middle\" x=\"149.2528\" y=\"-147.1439\" font-family=\"Times,serif\" font-size=\"14.00\" fill=\"#000000\">16</text>\n",
       "</g>\n",
       "<!-- 12&#45;&gt;14 -->\n",
       "<g id=\"edge17\" class=\"edge\">\n",
       "<title>12&#45;&gt;14</title>\n",
       "<path fill=\"none\" stroke=\"#ff0000\" d=\"M224.2145,-154.5812C238.1442,-140.8572 258.8406,-120.4664 274.6311,-104.9091\"/>\n",
       "<polygon fill=\"#ff0000\" stroke=\"#ff0000\" points=\"277.2704,-107.2221 281.9375,-97.7105 272.3576,-102.2356 277.2704,-107.2221\"/>\n",
       "<text text-anchor=\"middle\" x=\"242.4228\" y=\"-132.5452\" font-family=\"Times,serif\" font-size=\"14.00\" fill=\"#ff0000\">17</text>\n",
       "</g>\n",
       "<!-- 12&#45;&gt;15 -->\n",
       "<g id=\"edge18\" class=\"edge\">\n",
       "<title>12&#45;&gt;15</title>\n",
       "<path fill=\"none\" stroke=\"#000000\" d=\"M222.4829,-185.8038C239.1886,-205.4656 267.6188,-238.9265 286.8461,-261.5561\"/>\n",
       "<polygon fill=\"#000000\" stroke=\"#000000\" points=\"284.3324,-264.0031 293.4746,-269.3576 289.6669,-259.4706 284.3324,-264.0031\"/>\n",
       "<text text-anchor=\"middle\" x=\"247.6645\" y=\"-226.4799\" font-family=\"Times,serif\" font-size=\"14.00\" fill=\"#000000\">18</text>\n",
       "</g>\n",
       "<!-- 13&#45;&gt;14 -->\n",
       "<g id=\"edge19\" class=\"edge\">\n",
       "<title>13&#45;&gt;14</title>\n",
       "<path fill=\"none\" stroke=\"#000000\" d=\"M389.8982,-51.1059C372.8778,-56.9087 349.8836,-64.7481 331.0483,-71.1696\"/>\n",
       "<polygon fill=\"#000000\" stroke=\"#000000\" points=\"329.6902,-67.9347 321.3546,-74.4744 331.9491,-74.5602 329.6902,-67.9347\"/>\n",
       "<text text-anchor=\"middle\" x=\"353.4733\" y=\"-63.9377\" font-family=\"Times,serif\" font-size=\"14.00\" fill=\"#000000\">19</text>\n",
       "</g>\n",
       "<!-- 15&#45;&gt;4 -->\n",
       "<g id=\"edge20\" class=\"edge\">\n",
       "<title>15&#45;&gt;4</title>\n",
       "<path fill=\"none\" stroke=\"#000000\" d=\"M292.1987,-300.4242C277.787,-315.1522 255.7165,-337.7068 239.2645,-354.5198\"/>\n",
       "<polygon fill=\"#000000\" stroke=\"#000000\" points=\"236.6409,-352.1966 232.1486,-361.7919 241.6441,-357.0923 236.6409,-352.1966\"/>\n",
       "<text text-anchor=\"middle\" x=\"258.7316\" y=\"-330.272\" font-family=\"Times,serif\" font-size=\"14.00\" fill=\"#000000\">20</text>\n",
       "</g>\n",
       "</g>\n",
       "</svg>\n"
      ],
      "text/plain": [
       "DiGraph(DiNode[DiNode(1, Dict{Symbol,Any}()), DiNode(2, Dict{Symbol,Any}()), DiNode(3, Dict{Symbol,Any}()), DiNode(4, Dict{Symbol,Any}()), DiNode(5, Dict{Symbol,Any}()), DiNode(6, Dict{Symbol,Any}()), DiNode(7, Dict{Symbol,Any}()), DiNode(8, Dict{Symbol,Any}()), DiNode(9, Dict{Symbol,Any}()), DiNode(10, Dict{Symbol,Any}()), DiNode(11, Dict{Symbol,Any}()), DiNode(12, Dict{Symbol,Any}()), DiNode(13, Dict{Symbol,Any}()), DiNode(14, Dict{Symbol,Any}()), DiNode(15, Dict{Symbol,Any}())], DiEdge[DiEdge(3=>5, Dict{Symbol,Any}(Pair{Symbol,Any}(:label, 1),Pair{Symbol,Any}(:len, 1.5))), DiEdge(3=>13, Dict{Symbol,Any}(Pair{Symbol,Any}(:label, 2),Pair{Symbol,Any}(:len, 1.5))), DiEdge(4=>2, Dict{Symbol,Any}(Pair{Symbol,Any}(:label, 3),Pair{Symbol,Any}(:len, 1.5))), DiEdge(4=>7, Dict{Symbol,Any}(Pair{Symbol,Any}(:color, \"red\"),Pair{Symbol,Any}(:label, 4),Pair{Symbol,Any}(:fontcolor, \"red\"),Pair{Symbol,Any}(:len, 1.5))), DiEdge(5=>11, Dict{Symbol,Any}(Pair{Symbol,Any}(:label, 5),Pair{Symbol,Any}(:len, 1.5))), DiEdge(5=>15, Dict{Symbol,Any}(Pair{Symbol,Any}(:label, 6),Pair{Symbol,Any}(:len, 1.5))), DiEdge(6=>4, Dict{Symbol,Any}(Pair{Symbol,Any}(:color, \"red\"),Pair{Symbol,Any}(:label, 7),Pair{Symbol,Any}(:fontcolor, \"red\"),Pair{Symbol,Any}(:len, 1.5))), DiEdge(6=>7, Dict{Symbol,Any}(Pair{Symbol,Any}(:label, 8),Pair{Symbol,Any}(:len, 1.5))), DiEdge(7=>1, Dict{Symbol,Any}(Pair{Symbol,Any}(:label, 9),Pair{Symbol,Any}(:len, 1.5))), DiEdge(7=>12, Dict{Symbol,Any}(Pair{Symbol,Any}(:color, \"red\"),Pair{Symbol,Any}(:label, 10),Pair{Symbol,Any}(:fontcolor, \"red\"),Pair{Symbol,Any}(:len, 1.5))), DiEdge(8=>9, Dict{Symbol,Any}(Pair{Symbol,Any}(:label, 11),Pair{Symbol,Any}(:len, 1.5))), DiEdge(9=>1, Dict{Symbol,Any}(Pair{Symbol,Any}(:label, 12),Pair{Symbol,Any}(:len, 1.5))), DiEdge(11=>6, Dict{Symbol,Any}(Pair{Symbol,Any}(:color, \"red\"),Pair{Symbol,Any}(:label, 13),Pair{Symbol,Any}(:fontcolor, \"red\"),Pair{Symbol,Any}(:len, 1.5))), DiEdge(11=>12, Dict{Symbol,Any}(Pair{Symbol,Any}(:label, 14),Pair{Symbol,Any}(:len, 1.5))), DiEdge(11=>14, Dict{Symbol,Any}(Pair{Symbol,Any}(:color, \"blue\"),Pair{Symbol,Any}(:label, 15),Pair{Symbol,Any}(:fontcolor, \"blue\"),Pair{Symbol,Any}(:len, 1.5))), DiEdge(12=>9, Dict{Symbol,Any}(Pair{Symbol,Any}(:label, 16),Pair{Symbol,Any}(:len, 1.5))), DiEdge(12=>14, Dict{Symbol,Any}(Pair{Symbol,Any}(:color, \"red\"),Pair{Symbol,Any}(:label, 17),Pair{Symbol,Any}(:fontcolor, \"red\"),Pair{Symbol,Any}(:len, 1.5))), DiEdge(12=>15, Dict{Symbol,Any}(Pair{Symbol,Any}(:label, 18),Pair{Symbol,Any}(:len, 1.5))), DiEdge(13=>14, Dict{Symbol,Any}(Pair{Symbol,Any}(:label, 19),Pair{Symbol,Any}(:len, 1.5))), DiEdge(15=>4, Dict{Symbol,Any}(Pair{Symbol,Any}(:label, 20),Pair{Symbol,Any}(:len, 1.5)))], Dict{Symbol,Any}())"
      ]
     },
     "execution_count": 21,
     "metadata": {
      "comm_id": "6bce2ffa-45f6-47fd-8515-85ef49515867",
      "reactive": true
     },
     "output_type": "execute_result"
    }
   ],
   "source": [
    "gbig = edgelen!(randgraph(15, 1.5), 1.5)\n",
    "animloops(gbig)"
   ]
  },
  {
   "cell_type": "markdown",
   "metadata": {},
   "source": [
    "Conversely, the *independent* rows of $A$ (corresponding to the **pivot columns** of the rref form of $A^T$) form a **maximal set of edges with no loops**.  A graph with no loops is called a [tree](https://en.wikipedia.org/wiki/Tree_(graph_theory)), and this particular tree is called a [spanning tree](https://en.wikipedia.org/wiki/Spanning_tree) because it touches all of (\"spans\") the nodes (assuming the graph is connected).\n",
    "\n",
    "Let's color the spanning tree (loop-free edges) of our example graph red:"
   ]
  },
  {
   "cell_type": "code",
   "execution_count": 22,
   "metadata": {},
   "outputs": [
    {
     "data": {
      "image/svg+xml": [
       "<?xml version=\"1.0\" encoding=\"UTF-8\" standalone=\"no\"?>\n",
       "<!DOCTYPE svg PUBLIC \"-//W3C//DTD SVG 1.1//EN\"\n",
       " \"http://www.w3.org/Graphics/SVG/1.1/DTD/svg11.dtd\">\n",
       "<!-- Generated by graphviz version 2.40.1 (20161225.0304)\n",
       " -->\n",
       "<!-- Title: MyDiGraph Pages: 1 -->\n",
       "<svg width=\"259pt\" height=\"257pt\"\n",
       " viewBox=\"0.00 0.00 258.52 256.56\" xmlns=\"http://www.w3.org/2000/svg\" xmlns:xlink=\"http://www.w3.org/1999/xlink\">\n",
       "<g id=\"graph0\" class=\"graph\" transform=\"scale(1 1) rotate(0) translate(4 252.5612)\">\n",
       "<title>MyDiGraph</title>\n",
       "<polygon fill=\"#ffffff\" stroke=\"transparent\" points=\"-4,4 -4,-252.5612 254.5182,-252.5612 254.5182,4 -4,4\"/>\n",
       "<!-- 1 -->\n",
       "<g id=\"node1\" class=\"node\">\n",
       "<title>1</title>\n",
       "<ellipse fill=\"none\" stroke=\"#000000\" cx=\"27\" cy=\"-140.9451\" rx=\"27\" ry=\"18\"/>\n",
       "<text text-anchor=\"middle\" x=\"27\" y=\"-136.7451\" font-family=\"Times,serif\" font-size=\"14.00\" fill=\"#000000\">1</text>\n",
       "</g>\n",
       "<!-- 4 -->\n",
       "<g id=\"node4\" class=\"node\">\n",
       "<title>4</title>\n",
       "<ellipse fill=\"none\" stroke=\"#000000\" cx=\"116.8883\" cy=\"-215.532\" rx=\"27\" ry=\"18\"/>\n",
       "<text text-anchor=\"middle\" x=\"116.8883\" y=\"-211.332\" font-family=\"Times,serif\" font-size=\"14.00\" fill=\"#000000\">4</text>\n",
       "</g>\n",
       "<!-- 1&#45;&gt;4 -->\n",
       "<g id=\"edge1\" class=\"edge\">\n",
       "<title>1&#45;&gt;4</title>\n",
       "<path fill=\"none\" stroke=\"#ff0000\" d=\"M44.3314,-155.3262C57.8476,-166.5416 76.8036,-182.2708 91.9506,-194.8393\"/>\n",
       "<polygon fill=\"#ff0000\" stroke=\"#ff0000\" points=\"89.9843,-197.7558 99.915,-201.448 94.4543,-192.3688 89.9843,-197.7558\"/>\n",
       "<text text-anchor=\"middle\" x=\"64.641\" y=\"-177.8828\" font-family=\"Times,serif\" font-size=\"14.00\" fill=\"#ff0000\">1</text>\n",
       "</g>\n",
       "<!-- 2 -->\n",
       "<g id=\"node2\" class=\"node\">\n",
       "<title>2</title>\n",
       "<ellipse fill=\"none\" stroke=\"#000000\" cx=\"102.2914\" cy=\"-51.6524\" rx=\"27\" ry=\"18\"/>\n",
       "<text text-anchor=\"middle\" x=\"102.2914\" y=\"-47.4524\" font-family=\"Times,serif\" font-size=\"14.00\" fill=\"#000000\">2</text>\n",
       "</g>\n",
       "<!-- 2&#45;&gt;1 -->\n",
       "<g id=\"edge6\" class=\"edge\">\n",
       "<title>2&#45;&gt;1</title>\n",
       "<path fill=\"none\" stroke=\"#000000\" d=\"M88.8308,-67.6162C77.1606,-81.4566 60.1129,-101.6744 46.8723,-117.3772\"/>\n",
       "<polygon fill=\"#000000\" stroke=\"#000000\" points=\"44.1146,-115.2183 40.3441,-125.1195 49.4661,-119.7307 44.1146,-115.2183\"/>\n",
       "<text text-anchor=\"middle\" x=\"64.3516\" y=\"-95.2967\" font-family=\"Times,serif\" font-size=\"14.00\" fill=\"#000000\">6</text>\n",
       "</g>\n",
       "<!-- 6 -->\n",
       "<g id=\"node6\" class=\"node\">\n",
       "<title>6</title>\n",
       "<ellipse fill=\"none\" stroke=\"#000000\" cx=\"192.6702\" cy=\"-126.1901\" rx=\"27\" ry=\"18\"/>\n",
       "<text text-anchor=\"middle\" x=\"192.6702\" y=\"-121.9901\" font-family=\"Times,serif\" font-size=\"14.00\" fill=\"#000000\">6</text>\n",
       "</g>\n",
       "<!-- 2&#45;&gt;6 -->\n",
       "<g id=\"edge7\" class=\"edge\">\n",
       "<title>2&#45;&gt;6</title>\n",
       "<path fill=\"none\" stroke=\"#000000\" d=\"M119.2909,-65.6724C132.8382,-76.8452 152.0133,-92.6594 167.3645,-105.3199\"/>\n",
       "<polygon fill=\"#000000\" stroke=\"#000000\" points=\"165.4978,-108.3172 175.4396,-111.9796 169.9517,-102.9168 165.4978,-108.3172\"/>\n",
       "<text text-anchor=\"middle\" x=\"139.8277\" y=\"-88.2962\" font-family=\"Times,serif\" font-size=\"14.00\" fill=\"#000000\">7</text>\n",
       "</g>\n",
       "<!-- 3 -->\n",
       "<g id=\"node3\" class=\"node\">\n",
       "<title>3</title>\n",
       "<ellipse fill=\"none\" stroke=\"#000000\" cx=\"204.5704\" cy=\"-18\" rx=\"27\" ry=\"18\"/>\n",
       "<text text-anchor=\"middle\" x=\"204.5704\" y=\"-13.8\" font-family=\"Times,serif\" font-size=\"14.00\" fill=\"#000000\">3</text>\n",
       "</g>\n",
       "<!-- 3&#45;&gt;2 -->\n",
       "<g id=\"edge5\" class=\"edge\">\n",
       "<title>3&#45;&gt;2</title>\n",
       "<path fill=\"none\" stroke=\"#ff0000\" d=\"M180.3317,-25.9752C167.1806,-30.3022 150.7115,-35.721 136.2962,-40.464\"/>\n",
       "<polygon fill=\"#ff0000\" stroke=\"#ff0000\" points=\"135.1157,-37.1677 126.7105,-43.6179 137.3035,-43.8171 135.1157,-37.1677\"/>\n",
       "<text text-anchor=\"middle\" x=\"154.814\" y=\"-36.0196\" font-family=\"Times,serif\" font-size=\"14.00\" fill=\"#ff0000\">5</text>\n",
       "</g>\n",
       "<!-- 5 -->\n",
       "<g id=\"node5\" class=\"node\">\n",
       "<title>5</title>\n",
       "<ellipse fill=\"none\" stroke=\"#000000\" cx=\"223.5182\" cy=\"-230.5612\" rx=\"27\" ry=\"18\"/>\n",
       "<text text-anchor=\"middle\" x=\"223.5182\" y=\"-226.3612\" font-family=\"Times,serif\" font-size=\"14.00\" fill=\"#000000\">5</text>\n",
       "</g>\n",
       "<!-- 4&#45;&gt;5 -->\n",
       "<g id=\"edge2\" class=\"edge\">\n",
       "<title>4&#45;&gt;5</title>\n",
       "<path fill=\"none\" stroke=\"#ff0000\" d=\"M143.5205,-219.2857C156.6248,-221.1327 172.6268,-223.3882 186.8659,-225.3951\"/>\n",
       "<polygon fill=\"#ff0000\" stroke=\"#ff0000\" points=\"186.4654,-228.8732 196.856,-226.8032 187.4424,-221.9417 186.4654,-228.8732\"/>\n",
       "<text text-anchor=\"middle\" x=\"161.6932\" y=\"-225.1404\" font-family=\"Times,serif\" font-size=\"14.00\" fill=\"#ff0000\">2</text>\n",
       "</g>\n",
       "<!-- 4&#45;&gt;6 -->\n",
       "<g id=\"edge8\" class=\"edge\">\n",
       "<title>4&#45;&gt;6</title>\n",
       "<path fill=\"none\" stroke=\"#000000\" d=\"M130.4366,-199.5595C142.1828,-185.7114 159.3415,-165.4824 172.6684,-149.771\"/>\n",
       "<polygon fill=\"#000000\" stroke=\"#000000\" points=\"175.4397,-151.9145 179.2392,-142.0244 170.1014,-147.3865 175.4397,-151.9145\"/>\n",
       "<text text-anchor=\"middle\" x=\"148.0525\" y=\"-177.4652\" font-family=\"Times,serif\" font-size=\"14.00\" fill=\"#000000\">8</text>\n",
       "</g>\n",
       "<!-- 5&#45;&gt;6 -->\n",
       "<g id=\"edge3\" class=\"edge\">\n",
       "<title>5&#45;&gt;6</title>\n",
       "<path fill=\"none\" stroke=\"#ff0000\" d=\"M218.2853,-212.856C213.499,-196.6623 206.343,-172.4508 200.8102,-153.7311\"/>\n",
       "<polygon fill=\"#ff0000\" stroke=\"#ff0000\" points=\"204.1197,-152.58 197.9288,-143.9821 197.4068,-154.5641 204.1197,-152.58\"/>\n",
       "<text text-anchor=\"middle\" x=\"206.0477\" y=\"-186.0936\" font-family=\"Times,serif\" font-size=\"14.00\" fill=\"#ff0000\">3</text>\n",
       "</g>\n",
       "<!-- 6&#45;&gt;3 -->\n",
       "<g id=\"edge4\" class=\"edge\">\n",
       "<title>6&#45;&gt;3</title>\n",
       "<path fill=\"none\" stroke=\"#ff0000\" d=\"M194.6889,-107.8372C196.5465,-90.9492 199.3293,-65.6489 201.469,-46.1966\"/>\n",
       "<polygon fill=\"#ff0000\" stroke=\"#ff0000\" points=\"204.9671,-46.4047 202.5815,-36.0819 198.009,-45.6393 204.9671,-46.4047\"/>\n",
       "<text text-anchor=\"middle\" x=\"194.5789\" y=\"-79.8169\" font-family=\"Times,serif\" font-size=\"14.00\" fill=\"#ff0000\">4</text>\n",
       "</g>\n",
       "</g>\n",
       "</svg>\n"
      ],
      "text/plain": [
       "DiGraph(DiNode[DiNode(1, Dict{Symbol,Any}()), DiNode(2, Dict{Symbol,Any}()), DiNode(3, Dict{Symbol,Any}()), DiNode(4, Dict{Symbol,Any}()), DiNode(5, Dict{Symbol,Any}()), DiNode(6, Dict{Symbol,Any}())], DiEdge[DiEdge(1=>4, Dict{Symbol,Any}(Pair{Symbol,Any}(:color, \"red\"),Pair{Symbol,Any}(:label, 1),Pair{Symbol,Any}(:fontcolor, \"red\"),Pair{Symbol,Any}(:len, 1.5))), DiEdge(4=>5, Dict{Symbol,Any}(Pair{Symbol,Any}(:color, \"red\"),Pair{Symbol,Any}(:label, 2),Pair{Symbol,Any}(:fontcolor, \"red\"),Pair{Symbol,Any}(:len, 1.5))), DiEdge(5=>6, Dict{Symbol,Any}(Pair{Symbol,Any}(:color, \"red\"),Pair{Symbol,Any}(:label, 3),Pair{Symbol,Any}(:fontcolor, \"red\"),Pair{Symbol,Any}(:len, 1.5))), DiEdge(6=>3, Dict{Symbol,Any}(Pair{Symbol,Any}(:color, \"red\"),Pair{Symbol,Any}(:label, 4),Pair{Symbol,Any}(:fontcolor, \"red\"),Pair{Symbol,Any}(:len, 1.5))), DiEdge(3=>2, Dict{Symbol,Any}(Pair{Symbol,Any}(:color, \"red\"),Pair{Symbol,Any}(:label, 5),Pair{Symbol,Any}(:fontcolor, \"red\"),Pair{Symbol,Any}(:len, 1.5))), DiEdge(2=>1, Dict{Symbol,Any}(Pair{Symbol,Any}(:label, 6),Pair{Symbol,Any}(:len, 1.5))), DiEdge(2=>6, Dict{Symbol,Any}(Pair{Symbol,Any}(:label, 7),Pair{Symbol,Any}(:len, 1.5))), DiEdge(4=>6, Dict{Symbol,Any}(Pair{Symbol,Any}(:label, 8),Pair{Symbol,Any}(:len, 1.5)))], Dict{Symbol,Any}())"
      ]
     },
     "execution_count": 22,
     "metadata": {},
     "output_type": "execute_result"
    }
   ],
   "source": [
    "colortree(g)"
   ]
  },
  {
   "cell_type": "markdown",
   "metadata": {},
   "source": [
    "We can also discard all of the edges that are *not* in the spanning tree, and we are left with a more boring graph of *just* the spanning tree:"
   ]
  },
  {
   "cell_type": "code",
   "execution_count": 23,
   "metadata": {},
   "outputs": [
    {
     "data": {
      "image/svg+xml": [
       "<?xml version=\"1.0\" encoding=\"UTF-8\" standalone=\"no\"?>\n",
       "<!DOCTYPE svg PUBLIC \"-//W3C//DTD SVG 1.1//EN\"\n",
       " \"http://www.w3.org/Graphics/SVG/1.1/DTD/svg11.dtd\">\n",
       "<!-- Generated by graphviz version 2.40.1 (20161225.0304)\n",
       " -->\n",
       "<!-- Title: MyDiGraph Pages: 1 -->\n",
       "<svg width=\"492pt\" height=\"364pt\"\n",
       " viewBox=\"0.00 0.00 492.28 363.85\" xmlns=\"http://www.w3.org/2000/svg\" xmlns:xlink=\"http://www.w3.org/1999/xlink\">\n",
       "<g id=\"graph0\" class=\"graph\" transform=\"scale(1 1) rotate(0) translate(4 359.8467)\">\n",
       "<title>MyDiGraph</title>\n",
       "<polygon fill=\"#ffffff\" stroke=\"transparent\" points=\"-4,4 -4,-359.8467 488.2785,-359.8467 488.2785,4 -4,4\"/>\n",
       "<!-- 1 -->\n",
       "<g id=\"node1\" class=\"node\">\n",
       "<title>1</title>\n",
       "<ellipse fill=\"none\" stroke=\"#000000\" cx=\"27\" cy=\"-337.8467\" rx=\"27\" ry=\"18\"/>\n",
       "<text text-anchor=\"middle\" x=\"27\" y=\"-333.6467\" font-family=\"Times,serif\" font-size=\"14.00\" fill=\"#000000\">1</text>\n",
       "</g>\n",
       "<!-- 4 -->\n",
       "<g id=\"node4\" class=\"node\">\n",
       "<title>4</title>\n",
       "<ellipse fill=\"none\" stroke=\"#000000\" cx=\"126.3206\" cy=\"-293.7202\" rx=\"27\" ry=\"18\"/>\n",
       "<text text-anchor=\"middle\" x=\"126.3206\" y=\"-289.5202\" font-family=\"Times,serif\" font-size=\"14.00\" fill=\"#000000\">4</text>\n",
       "</g>\n",
       "<!-- 1&#45;&gt;4 -->\n",
       "<g id=\"edge1\" class=\"edge\">\n",
       "<title>1&#45;&gt;4</title>\n",
       "<path fill=\"none\" stroke=\"#000000\" d=\"M49.5374,-327.8337C62.7772,-321.9515 79.7273,-314.4208 94.3323,-307.9321\"/>\n",
       "<polygon fill=\"#000000\" stroke=\"#000000\" points=\"95.811,-311.1051 103.5286,-303.8463 92.9689,-304.708 95.811,-311.1051\"/>\n",
       "<text text-anchor=\"middle\" x=\"68.4348\" y=\"-320.6829\" font-family=\"Times,serif\" font-size=\"14.00\" fill=\"#000000\">1</text>\n",
       "</g>\n",
       "<!-- 2 -->\n",
       "<g id=\"node2\" class=\"node\">\n",
       "<title>2</title>\n",
       "<ellipse fill=\"none\" stroke=\"#000000\" cx=\"457.2785\" cy=\"-18\" rx=\"27\" ry=\"18\"/>\n",
       "<text text-anchor=\"middle\" x=\"457.2785\" y=\"-13.8\" font-family=\"Times,serif\" font-size=\"14.00\" fill=\"#000000\">2</text>\n",
       "</g>\n",
       "<!-- 3 -->\n",
       "<g id=\"node3\" class=\"node\">\n",
       "<title>3</title>\n",
       "<ellipse fill=\"none\" stroke=\"#000000\" cx=\"363.1409\" cy=\"-72.0233\" rx=\"27\" ry=\"18\"/>\n",
       "<text text-anchor=\"middle\" x=\"363.1409\" y=\"-67.8233\" font-family=\"Times,serif\" font-size=\"14.00\" fill=\"#000000\">3</text>\n",
       "</g>\n",
       "<!-- 3&#45;&gt;2 -->\n",
       "<g id=\"edge5\" class=\"edge\">\n",
       "<title>3&#45;&gt;2</title>\n",
       "<path fill=\"none\" stroke=\"#000000\" d=\"M384.0331,-60.0338C396.919,-52.6389 413.6428,-43.0415 427.8563,-34.8847\"/>\n",
       "<polygon fill=\"#000000\" stroke=\"#000000\" points=\"429.8374,-37.7832 436.7686,-29.7701 426.3532,-31.7119 429.8374,-37.7832\"/>\n",
       "<text text-anchor=\"middle\" x=\"402.4447\" y=\"-50.2592\" font-family=\"Times,serif\" font-size=\"14.00\" fill=\"#000000\">5</text>\n",
       "</g>\n",
       "<!-- 5 -->\n",
       "<g id=\"node5\" class=\"node\">\n",
       "<title>5</title>\n",
       "<ellipse fill=\"none\" stroke=\"#000000\" cx=\"213.7722\" cy=\"-229.1838\" rx=\"27\" ry=\"18\"/>\n",
       "<text text-anchor=\"middle\" x=\"213.7722\" y=\"-224.9838\" font-family=\"Times,serif\" font-size=\"14.00\" fill=\"#000000\">5</text>\n",
       "</g>\n",
       "<!-- 4&#45;&gt;5 -->\n",
       "<g id=\"edge2\" class=\"edge\">\n",
       "<title>4&#45;&gt;5</title>\n",
       "<path fill=\"none\" stroke=\"#000000\" d=\"M144.4406,-280.3482C156.787,-271.237 173.3386,-259.0225 187.1734,-248.8129\"/>\n",
       "<polygon fill=\"#000000\" stroke=\"#000000\" points=\"189.4065,-251.5148 195.3745,-242.7607 185.25,-245.8824 189.4065,-251.5148\"/>\n",
       "<text text-anchor=\"middle\" x=\"162.307\" y=\"-267.3806\" font-family=\"Times,serif\" font-size=\"14.00\" fill=\"#000000\">2</text>\n",
       "</g>\n",
       "<!-- 6 -->\n",
       "<g id=\"node6\" class=\"node\">\n",
       "<title>6</title>\n",
       "<ellipse fill=\"none\" stroke=\"#000000\" cx=\"284.6602\" cy=\"-146.8726\" rx=\"27\" ry=\"18\"/>\n",
       "<text text-anchor=\"middle\" x=\"284.6602\" y=\"-142.6726\" font-family=\"Times,serif\" font-size=\"14.00\" fill=\"#000000\">6</text>\n",
       "</g>\n",
       "<!-- 5&#45;&gt;6 -->\n",
       "<g id=\"edge3\" class=\"edge\">\n",
       "<title>5&#45;&gt;6</title>\n",
       "<path fill=\"none\" stroke=\"#000000\" d=\"M227.4401,-213.3134C237.9333,-201.1292 252.584,-184.1177 264.4336,-170.3586\"/>\n",
       "<polygon fill=\"#000000\" stroke=\"#000000\" points=\"267.1606,-172.5556 271.0343,-162.6943 261.8565,-167.9876 267.1606,-172.5556\"/>\n",
       "<text text-anchor=\"middle\" x=\"242.4369\" y=\"-194.636\" font-family=\"Times,serif\" font-size=\"14.00\" fill=\"#000000\">3</text>\n",
       "</g>\n",
       "<!-- 6&#45;&gt;3 -->\n",
       "<g id=\"edge4\" class=\"edge\">\n",
       "<title>6&#45;&gt;3</title>\n",
       "<path fill=\"none\" stroke=\"#000000\" d=\"M300.1655,-132.0848C311.5594,-121.218 327.2299,-106.2727 340.0884,-94.0092\"/>\n",
       "<polygon fill=\"#000000\" stroke=\"#000000\" points=\"342.8469,-96.2149 347.6678,-86.7804 338.0157,-91.1493 342.8469,-96.2149\"/>\n",
       "<text text-anchor=\"middle\" x=\"316.6269\" y=\"-115.847\" font-family=\"Times,serif\" font-size=\"14.00\" fill=\"#000000\">4</text>\n",
       "</g>\n",
       "</g>\n",
       "</svg>\n"
      ],
      "text/plain": [
       "DiGraph(DiNode[DiNode(1, Dict{Symbol,Any}()), DiNode(2, Dict{Symbol,Any}()), DiNode(3, Dict{Symbol,Any}()), DiNode(4, Dict{Symbol,Any}()), DiNode(5, Dict{Symbol,Any}()), DiNode(6, Dict{Symbol,Any}())], DiEdge[DiEdge(1=>4, Dict{Symbol,Any}(Pair{Symbol,Any}(:label, 1),Pair{Symbol,Any}(:len, 1.5))), DiEdge(4=>5, Dict{Symbol,Any}(Pair{Symbol,Any}(:label, 2),Pair{Symbol,Any}(:len, 1.5))), DiEdge(5=>6, Dict{Symbol,Any}(Pair{Symbol,Any}(:label, 3),Pair{Symbol,Any}(:len, 1.5))), DiEdge(6=>3, Dict{Symbol,Any}(Pair{Symbol,Any}(:label, 4),Pair{Symbol,Any}(:len, 1.5))), DiEdge(3=>2, Dict{Symbol,Any}(Pair{Symbol,Any}(:label, 5),Pair{Symbol,Any}(:len, 1.5)))], Dict{Symbol,Any}())"
      ]
     },
     "execution_count": 23,
     "metadata": {},
     "output_type": "execute_result"
    }
   ],
   "source": [
    "tree(g)"
   ]
  },
  {
   "cell_type": "markdown",
   "metadata": {},
   "source": [
    "We can do the same thing for our bigger random example:"
   ]
  },
  {
   "cell_type": "code",
   "execution_count": 24,
   "metadata": {},
   "outputs": [
    {
     "data": {
      "image/svg+xml": [
       "<?xml version=\"1.0\" encoding=\"UTF-8\" standalone=\"no\"?>\n",
       "<!DOCTYPE svg PUBLIC \"-//W3C//DTD SVG 1.1//EN\"\n",
       " \"http://www.w3.org/Graphics/SVG/1.1/DTD/svg11.dtd\">\n",
       "<!-- Generated by graphviz version 2.40.1 (20161225.0304)\n",
       " -->\n",
       "<!-- Title: MyDiGraph Pages: 1 -->\n",
       "<svg width=\"526pt\" height=\"517pt\"\n",
       " viewBox=\"0.00 0.00 525.89 516.99\" xmlns=\"http://www.w3.org/2000/svg\" xmlns:xlink=\"http://www.w3.org/1999/xlink\">\n",
       "<g id=\"graph0\" class=\"graph\" transform=\"scale(1 1) rotate(0) translate(4 512.993)\">\n",
       "<title>MyDiGraph</title>\n",
       "<polygon fill=\"#ffffff\" stroke=\"transparent\" points=\"-4,4 -4,-512.993 521.893,-512.993 521.893,4 -4,4\"/>\n",
       "<!-- 1 -->\n",
       "<g id=\"node1\" class=\"node\">\n",
       "<title>1</title>\n",
       "<ellipse fill=\"none\" stroke=\"#000000\" cx=\"28.8074\" cy=\"-222.424\" rx=\"27\" ry=\"18\"/>\n",
       "<text text-anchor=\"middle\" x=\"28.8074\" y=\"-218.224\" font-family=\"Times,serif\" font-size=\"14.00\" fill=\"#000000\">1</text>\n",
       "</g>\n",
       "<!-- 2 -->\n",
       "<g id=\"node2\" class=\"node\">\n",
       "<title>2</title>\n",
       "<ellipse fill=\"none\" stroke=\"#000000\" cx=\"217.3786\" cy=\"-490.993\" rx=\"27\" ry=\"18\"/>\n",
       "<text text-anchor=\"middle\" x=\"217.3786\" y=\"-486.793\" font-family=\"Times,serif\" font-size=\"14.00\" fill=\"#000000\">2</text>\n",
       "</g>\n",
       "<!-- 3 -->\n",
       "<g id=\"node3\" class=\"node\">\n",
       "<title>3</title>\n",
       "<ellipse fill=\"none\" stroke=\"#000000\" cx=\"490.893\" cy=\"-141.2202\" rx=\"27\" ry=\"18\"/>\n",
       "<text text-anchor=\"middle\" x=\"490.893\" y=\"-137.0202\" font-family=\"Times,serif\" font-size=\"14.00\" fill=\"#000000\">3</text>\n",
       "</g>\n",
       "<!-- 5 -->\n",
       "<g id=\"node5\" class=\"node\">\n",
       "<title>5</title>\n",
       "<ellipse fill=\"none\" stroke=\"#000000\" cx=\"414.0009\" cy=\"-235.799\" rx=\"27\" ry=\"18\"/>\n",
       "<text text-anchor=\"middle\" x=\"414.0009\" y=\"-231.599\" font-family=\"Times,serif\" font-size=\"14.00\" fill=\"#000000\">5</text>\n",
       "</g>\n",
       "<!-- 3&#45;&gt;5 -->\n",
       "<g id=\"edge1\" class=\"edge\">\n",
       "<title>3&#45;&gt;5</title>\n",
       "<path fill=\"none\" stroke=\"#ff0000\" d=\"M477.8493,-157.2642C465.6982,-172.2104 447.4193,-194.6937 433.5289,-211.7792\"/>\n",
       "<polygon fill=\"#ff0000\" stroke=\"#ff0000\" points=\"430.7011,-209.7091 427.1086,-219.6763 436.1326,-214.1249 430.7011,-209.7091\"/>\n",
       "<text text-anchor=\"middle\" x=\"452.1891\" y=\"-187.3217\" font-family=\"Times,serif\" font-size=\"14.00\" fill=\"#ff0000\">1</text>\n",
       "</g>\n",
       "<!-- 13 -->\n",
       "<g id=\"node13\" class=\"node\">\n",
       "<title>13</title>\n",
       "<ellipse fill=\"none\" stroke=\"#000000\" cx=\"414.1398\" cy=\"-42.8412\" rx=\"27\" ry=\"18\"/>\n",
       "<text text-anchor=\"middle\" x=\"414.1398\" y=\"-38.6412\" font-family=\"Times,serif\" font-size=\"14.00\" fill=\"#000000\">13</text>\n",
       "</g>\n",
       "<!-- 3&#45;&gt;13 -->\n",
       "<g id=\"edge2\" class=\"edge\">\n",
       "<title>3&#45;&gt;13</title>\n",
       "<path fill=\"none\" stroke=\"#ff0000\" d=\"M478.2188,-124.9749C465.9975,-109.3102 447.3401,-85.3959 433.3038,-67.4048\"/>\n",
       "<polygon fill=\"#ff0000\" stroke=\"#ff0000\" points=\"435.7437,-64.8421 426.8329,-59.1107 430.2246,-69.1479 435.7437,-64.8421\"/>\n",
       "<text text-anchor=\"middle\" x=\"452.2613\" y=\"-98.9898\" font-family=\"Times,serif\" font-size=\"14.00\" fill=\"#ff0000\">2</text>\n",
       "</g>\n",
       "<!-- 4 -->\n",
       "<g id=\"node4\" class=\"node\">\n",
       "<title>4</title>\n",
       "<ellipse fill=\"none\" stroke=\"#000000\" cx=\"217.3153\" cy=\"-376.9505\" rx=\"27\" ry=\"18\"/>\n",
       "<text text-anchor=\"middle\" x=\"217.3153\" y=\"-372.7505\" font-family=\"Times,serif\" font-size=\"14.00\" fill=\"#000000\">4</text>\n",
       "</g>\n",
       "<!-- 4&#45;&gt;2 -->\n",
       "<g id=\"edge3\" class=\"edge\">\n",
       "<title>4&#45;&gt;2</title>\n",
       "<path fill=\"none\" stroke=\"#ff0000\" d=\"M217.3254,-395.0209C217.3354,-413.1813 217.3511,-441.4386 217.3628,-462.5965\"/>\n",
       "<polygon fill=\"#ff0000\" stroke=\"#ff0000\" points=\"213.8628,-462.6315 217.3684,-472.6295 220.8628,-462.6275 213.8628,-462.6315\"/>\n",
       "<text text-anchor=\"middle\" x=\"213.8441\" y=\"-431.6087\" font-family=\"Times,serif\" font-size=\"14.00\" fill=\"#ff0000\">3</text>\n",
       "</g>\n",
       "<!-- 7 -->\n",
       "<g id=\"node7\" class=\"node\">\n",
       "<title>7</title>\n",
       "<ellipse fill=\"none\" stroke=\"#000000\" cx=\"133.4143\" cy=\"-279.2848\" rx=\"27\" ry=\"18\"/>\n",
       "<text text-anchor=\"middle\" x=\"133.4143\" y=\"-275.0848\" font-family=\"Times,serif\" font-size=\"14.00\" fill=\"#000000\">7</text>\n",
       "</g>\n",
       "<!-- 4&#45;&gt;7 -->\n",
       "<g id=\"edge4\" class=\"edge\">\n",
       "<title>4&#45;&gt;7</title>\n",
       "<path fill=\"none\" stroke=\"#ff0000\" d=\"M203.8352,-361.2589C190.2578,-345.4539 169.1467,-320.8794 153.5775,-302.756\"/>\n",
       "<polygon fill=\"#ff0000\" stroke=\"#ff0000\" points=\"156.0322,-300.2422 146.861,-294.9376 150.7225,-304.8037 156.0322,-300.2422\"/>\n",
       "<text text-anchor=\"middle\" x=\"175.2063\" y=\"-334.8074\" font-family=\"Times,serif\" font-size=\"14.00\" fill=\"#ff0000\">4</text>\n",
       "</g>\n",
       "<!-- 11 -->\n",
       "<g id=\"node11\" class=\"node\">\n",
       "<title>11</title>\n",
       "<ellipse fill=\"none\" stroke=\"#000000\" cx=\"306.891\" cy=\"-187.4331\" rx=\"27\" ry=\"18\"/>\n",
       "<text text-anchor=\"middle\" x=\"306.891\" y=\"-183.2331\" font-family=\"Times,serif\" font-size=\"14.00\" fill=\"#000000\">11</text>\n",
       "</g>\n",
       "<!-- 5&#45;&gt;11 -->\n",
       "<g id=\"edge5\" class=\"edge\">\n",
       "<title>5&#45;&gt;11</title>\n",
       "<path fill=\"none\" stroke=\"#ff0000\" d=\"M391.5472,-225.6599C376.2659,-218.7596 355.8145,-209.5247 338.8414,-201.8604\"/>\n",
       "<polygon fill=\"#ff0000\" stroke=\"#ff0000\" points=\"339.8696,-198.4844 329.3152,-197.5588 336.9887,-204.8642 339.8696,-198.4844\"/>\n",
       "<text text-anchor=\"middle\" x=\"361.6943\" y=\"-216.5602\" font-family=\"Times,serif\" font-size=\"14.00\" fill=\"#ff0000\">5</text>\n",
       "</g>\n",
       "<!-- 15 -->\n",
       "<g id=\"node15\" class=\"node\">\n",
       "<title>15</title>\n",
       "<ellipse fill=\"none\" stroke=\"#000000\" cx=\"307.01\" cy=\"-285.288\" rx=\"27\" ry=\"18\"/>\n",
       "<text text-anchor=\"middle\" x=\"307.01\" y=\"-281.088\" font-family=\"Times,serif\" font-size=\"14.00\" fill=\"#000000\">15</text>\n",
       "</g>\n",
       "<!-- 5&#45;&gt;15 -->\n",
       "<g id=\"edge6\" class=\"edge\">\n",
       "<title>5&#45;&gt;15</title>\n",
       "<path fill=\"none\" stroke=\"#ff0000\" d=\"M391.5721,-246.1735C376.3078,-253.2341 355.8791,-262.6834 338.9249,-270.5257\"/>\n",
       "<polygon fill=\"#ff0000\" stroke=\"#ff0000\" points=\"337.016,-267.5523 329.4092,-274.9271 339.9547,-273.9055 337.016,-267.5523\"/>\n",
       "<text text-anchor=\"middle\" x=\"361.7485\" y=\"-261.1496\" font-family=\"Times,serif\" font-size=\"14.00\" fill=\"#ff0000\">6</text>\n",
       "</g>\n",
       "<!-- 6 -->\n",
       "<g id=\"node6\" class=\"node\">\n",
       "<title>6</title>\n",
       "<ellipse fill=\"none\" stroke=\"#000000\" cx=\"229.2975\" cy=\"-292.1404\" rx=\"27\" ry=\"18\"/>\n",
       "<text text-anchor=\"middle\" x=\"229.2975\" y=\"-287.9404\" font-family=\"Times,serif\" font-size=\"14.00\" fill=\"#000000\">6</text>\n",
       "</g>\n",
       "<!-- 6&#45;&gt;4 -->\n",
       "<g id=\"edge7\" class=\"edge\">\n",
       "<title>6&#45;&gt;4</title>\n",
       "<path fill=\"none\" stroke=\"#ff0000\" d=\"M226.7564,-310.1265C225.1678,-321.3707 223.0883,-336.0897 221.2853,-348.8508\"/>\n",
       "<polygon fill=\"#ff0000\" stroke=\"#ff0000\" points=\"217.7862,-348.5991 219.8528,-358.9904 224.7174,-349.5784 217.7862,-348.5991\"/>\n",
       "<text text-anchor=\"middle\" x=\"220.5209\" y=\"-332.2886\" font-family=\"Times,serif\" font-size=\"14.00\" fill=\"#ff0000\">7</text>\n",
       "</g>\n",
       "<!-- 6&#45;&gt;7 -->\n",
       "<g id=\"edge8\" class=\"edge\">\n",
       "<title>6&#45;&gt;7</title>\n",
       "<path fill=\"none\" stroke=\"#000000\" d=\"M202.5887,-288.5594C192.5106,-287.2082 180.8637,-285.6466 170.0343,-284.1947\"/>\n",
       "<polygon fill=\"#000000\" stroke=\"#000000\" points=\"170.3563,-280.7066 159.9799,-282.8466 169.4261,-287.6445 170.3563,-280.7066\"/>\n",
       "<text text-anchor=\"middle\" x=\"182.8115\" y=\"-289.1771\" font-family=\"Times,serif\" font-size=\"14.00\" fill=\"#000000\">8</text>\n",
       "</g>\n",
       "<!-- 7&#45;&gt;1 -->\n",
       "<g id=\"edge9\" class=\"edge\">\n",
       "<title>7&#45;&gt;1</title>\n",
       "<path fill=\"none\" stroke=\"#ff0000\" d=\"M112.2455,-267.7782C96.9325,-259.4545 76.0213,-248.0879 58.9643,-238.8162\"/>\n",
       "<polygon fill=\"#ff0000\" stroke=\"#ff0000\" points=\"60.4022,-235.6142 49.9447,-233.9135 57.0591,-241.7644 60.4022,-235.6142\"/>\n",
       "<text text-anchor=\"middle\" x=\"82.1049\" y=\"-256.0972\" font-family=\"Times,serif\" font-size=\"14.00\" fill=\"#ff0000\">9</text>\n",
       "</g>\n",
       "<!-- 12 -->\n",
       "<g id=\"node12\" class=\"node\">\n",
       "<title>12</title>\n",
       "<ellipse fill=\"none\" stroke=\"#000000\" cx=\"208.8316\" cy=\"-169.7369\" rx=\"27\" ry=\"18\"/>\n",
       "<text text-anchor=\"middle\" x=\"208.8316\" y=\"-165.5369\" font-family=\"Times,serif\" font-size=\"14.00\" fill=\"#000000\">12</text>\n",
       "</g>\n",
       "<!-- 7&#45;&gt;12 -->\n",
       "<g id=\"edge10\" class=\"edge\">\n",
       "<title>7&#45;&gt;12</title>\n",
       "<path fill=\"none\" stroke=\"#ff0000\" d=\"M144.8686,-262.6468C157.3439,-244.5258 177.4301,-215.3494 191.7645,-194.5279\"/>\n",
       "<polygon fill=\"#ff0000\" stroke=\"#ff0000\" points=\"194.729,-196.3941 197.5167,-186.1725 188.9632,-192.4246 194.729,-196.3941\"/>\n",
       "<text text-anchor=\"middle\" x=\"161.3165\" y=\"-231.3874\" font-family=\"Times,serif\" font-size=\"14.00\" fill=\"#ff0000\">10</text>\n",
       "</g>\n",
       "<!-- 8 -->\n",
       "<g id=\"node8\" class=\"node\">\n",
       "<title>8</title>\n",
       "<ellipse fill=\"none\" stroke=\"#000000\" cx=\"27\" cy=\"-18\" rx=\"27\" ry=\"18\"/>\n",
       "<text text-anchor=\"middle\" x=\"27\" y=\"-13.8\" font-family=\"Times,serif\" font-size=\"14.00\" fill=\"#000000\">8</text>\n",
       "</g>\n",
       "<!-- 9 -->\n",
       "<g id=\"node9\" class=\"node\">\n",
       "<title>9</title>\n",
       "<ellipse fill=\"none\" stroke=\"#000000\" cx=\"94.7088\" cy=\"-114.6211\" rx=\"27\" ry=\"18\"/>\n",
       "<text text-anchor=\"middle\" x=\"94.7088\" y=\"-110.4211\" font-family=\"Times,serif\" font-size=\"14.00\" fill=\"#000000\">9</text>\n",
       "</g>\n",
       "<!-- 8&#45;&gt;9 -->\n",
       "<g id=\"edge11\" class=\"edge\">\n",
       "<title>8&#45;&gt;9</title>\n",
       "<path fill=\"none\" stroke=\"#ff0000\" d=\"M38.4859,-34.3905C49.0885,-49.5205 64.9894,-72.2112 77.1785,-89.6052\"/>\n",
       "<polygon fill=\"#ff0000\" stroke=\"#ff0000\" points=\"74.5614,-91.9695 83.1666,-98.1502 80.294,-87.9522 74.5614,-91.9695\"/>\n",
       "<text text-anchor=\"middle\" x=\"51.0886\" y=\"-64.7978\" font-family=\"Times,serif\" font-size=\"14.00\" fill=\"#ff0000\">11</text>\n",
       "</g>\n",
       "<!-- 9&#45;&gt;1 -->\n",
       "<g id=\"edge12\" class=\"edge\">\n",
       "<title>9&#45;&gt;1</title>\n",
       "<path fill=\"none\" stroke=\"#ff0000\" d=\"M84.4117,-131.4653C73.6754,-149.028 56.72,-176.764 44.3528,-196.9946\"/>\n",
       "<polygon fill=\"#ff0000\" stroke=\"#ff0000\" points=\"41.2618,-195.3405 39.0322,-205.6981 47.2342,-198.9915 41.2618,-195.3405\"/>\n",
       "<text text-anchor=\"middle\" x=\"57.3822\" y=\"-167.0299\" font-family=\"Times,serif\" font-size=\"14.00\" fill=\"#ff0000\">12</text>\n",
       "</g>\n",
       "<!-- 10 -->\n",
       "<g id=\"node10\" class=\"node\">\n",
       "<title>10</title>\n",
       "<ellipse fill=\"none\" stroke=\"#000000\" cx=\"387\" cy=\"-378\" rx=\"27\" ry=\"18\"/>\n",
       "<text text-anchor=\"middle\" x=\"387\" y=\"-373.8\" font-family=\"Times,serif\" font-size=\"14.00\" fill=\"#000000\">10</text>\n",
       "</g>\n",
       "<!-- 11&#45;&gt;6 -->\n",
       "<g id=\"edge13\" class=\"edge\">\n",
       "<title>11&#45;&gt;6</title>\n",
       "<path fill=\"none\" stroke=\"#ff0000\" d=\"M294.7671,-203.7936C282.069,-220.9289 261.9823,-248.0345 247.4044,-267.7063\"/>\n",
       "<polygon fill=\"#ff0000\" stroke=\"#ff0000\" points=\"244.4783,-265.7765 241.3364,-275.8948 250.1023,-269.9443 244.4783,-265.7765\"/>\n",
       "<text text-anchor=\"middle\" x=\"264.0858\" y=\"-238.55\" font-family=\"Times,serif\" font-size=\"14.00\" fill=\"#ff0000\">13</text>\n",
       "</g>\n",
       "<!-- 11&#45;&gt;12 -->\n",
       "<g id=\"edge14\" class=\"edge\">\n",
       "<title>11&#45;&gt;12</title>\n",
       "<path fill=\"none\" stroke=\"#000000\" d=\"M280.6129,-182.6908C269.7312,-180.7271 256.9282,-178.4166 245.1708,-176.2948\"/>\n",
       "<polygon fill=\"#000000\" stroke=\"#000000\" points=\"245.6449,-172.8239 235.1823,-174.4923 244.4017,-179.7126 245.6449,-172.8239\"/>\n",
       "<text text-anchor=\"middle\" x=\"255.8919\" y=\"-182.2928\" font-family=\"Times,serif\" font-size=\"14.00\" fill=\"#000000\">14</text>\n",
       "</g>\n",
       "<!-- 14 -->\n",
       "<g id=\"node14\" class=\"node\">\n",
       "<title>14</title>\n",
       "<ellipse fill=\"none\" stroke=\"#000000\" cx=\"297.1441\" cy=\"-82.7285\" rx=\"27\" ry=\"18\"/>\n",
       "<text text-anchor=\"middle\" x=\"297.1441\" y=\"-78.5285\" font-family=\"Times,serif\" font-size=\"14.00\" fill=\"#000000\">14</text>\n",
       "</g>\n",
       "<!-- 11&#45;&gt;14 -->\n",
       "<g id=\"edge15\" class=\"edge\">\n",
       "<title>11&#45;&gt;14</title>\n",
       "<path fill=\"none\" stroke=\"#ff0000\" d=\"M305.1933,-169.1949C303.6978,-153.13 301.4956,-129.4741 299.7726,-110.9647\"/>\n",
       "<polygon fill=\"#ff0000\" stroke=\"#ff0000\" points=\"303.2343,-110.3902 298.8224,-100.7576 296.2645,-111.039 303.2343,-110.3902\"/>\n",
       "<text text-anchor=\"middle\" x=\"295.4829\" y=\"-142.8798\" font-family=\"Times,serif\" font-size=\"14.00\" fill=\"#ff0000\">15</text>\n",
       "</g>\n",
       "<!-- 12&#45;&gt;9 -->\n",
       "<g id=\"edge16\" class=\"edge\">\n",
       "<title>12&#45;&gt;9</title>\n",
       "<path fill=\"none\" stroke=\"#000000\" d=\"M186.8276,-159.11C169.4609,-150.7227 145.0205,-138.9192 125.6779,-129.5777\"/>\n",
       "<polygon fill=\"#000000\" stroke=\"#000000\" points=\"127.1723,-126.4126 116.6453,-125.2154 124.128,-132.716 127.1723,-126.4126\"/>\n",
       "<text text-anchor=\"middle\" x=\"149.2528\" y=\"-147.1439\" font-family=\"Times,serif\" font-size=\"14.00\" fill=\"#000000\">16</text>\n",
       "</g>\n",
       "<!-- 12&#45;&gt;14 -->\n",
       "<g id=\"edge17\" class=\"edge\">\n",
       "<title>12&#45;&gt;14</title>\n",
       "<path fill=\"none\" stroke=\"#000000\" d=\"M224.2145,-154.5812C238.1442,-140.8572 258.8406,-120.4664 274.6311,-104.9091\"/>\n",
       "<polygon fill=\"#000000\" stroke=\"#000000\" points=\"277.2704,-107.2221 281.9375,-97.7105 272.3576,-102.2356 277.2704,-107.2221\"/>\n",
       "<text text-anchor=\"middle\" x=\"242.4228\" y=\"-132.5452\" font-family=\"Times,serif\" font-size=\"14.00\" fill=\"#000000\">17</text>\n",
       "</g>\n",
       "<!-- 12&#45;&gt;15 -->\n",
       "<g id=\"edge18\" class=\"edge\">\n",
       "<title>12&#45;&gt;15</title>\n",
       "<path fill=\"none\" stroke=\"#000000\" d=\"M222.4829,-185.8038C239.1886,-205.4656 267.6188,-238.9265 286.8461,-261.5561\"/>\n",
       "<polygon fill=\"#000000\" stroke=\"#000000\" points=\"284.3324,-264.0031 293.4746,-269.3576 289.6669,-259.4706 284.3324,-264.0031\"/>\n",
       "<text text-anchor=\"middle\" x=\"247.6645\" y=\"-226.4799\" font-family=\"Times,serif\" font-size=\"14.00\" fill=\"#000000\">18</text>\n",
       "</g>\n",
       "<!-- 13&#45;&gt;14 -->\n",
       "<g id=\"edge19\" class=\"edge\">\n",
       "<title>13&#45;&gt;14</title>\n",
       "<path fill=\"none\" stroke=\"#000000\" d=\"M389.8982,-51.1059C372.8778,-56.9087 349.8836,-64.7481 331.0483,-71.1696\"/>\n",
       "<polygon fill=\"#000000\" stroke=\"#000000\" points=\"329.6902,-67.9347 321.3546,-74.4744 331.9491,-74.5602 329.6902,-67.9347\"/>\n",
       "<text text-anchor=\"middle\" x=\"353.4733\" y=\"-63.9377\" font-family=\"Times,serif\" font-size=\"14.00\" fill=\"#000000\">19</text>\n",
       "</g>\n",
       "<!-- 15&#45;&gt;4 -->\n",
       "<g id=\"edge20\" class=\"edge\">\n",
       "<title>15&#45;&gt;4</title>\n",
       "<path fill=\"none\" stroke=\"#000000\" d=\"M292.1987,-300.4242C277.787,-315.1522 255.7165,-337.7068 239.2645,-354.5198\"/>\n",
       "<polygon fill=\"#000000\" stroke=\"#000000\" points=\"236.6409,-352.1966 232.1486,-361.7919 241.6441,-357.0923 236.6409,-352.1966\"/>\n",
       "<text text-anchor=\"middle\" x=\"258.7316\" y=\"-330.272\" font-family=\"Times,serif\" font-size=\"14.00\" fill=\"#000000\">20</text>\n",
       "</g>\n",
       "</g>\n",
       "</svg>\n"
      ],
      "text/plain": [
       "DiGraph(DiNode[DiNode(1, Dict{Symbol,Any}()), DiNode(2, Dict{Symbol,Any}()), DiNode(3, Dict{Symbol,Any}()), DiNode(4, Dict{Symbol,Any}()), DiNode(5, Dict{Symbol,Any}()), DiNode(6, Dict{Symbol,Any}()), DiNode(7, Dict{Symbol,Any}()), DiNode(8, Dict{Symbol,Any}()), DiNode(9, Dict{Symbol,Any}()), DiNode(10, Dict{Symbol,Any}()), DiNode(11, Dict{Symbol,Any}()), DiNode(12, Dict{Symbol,Any}()), DiNode(13, Dict{Symbol,Any}()), DiNode(14, Dict{Symbol,Any}()), DiNode(15, Dict{Symbol,Any}())], DiEdge[DiEdge(3=>5, Dict{Symbol,Any}(Pair{Symbol,Any}(:color, \"red\"),Pair{Symbol,Any}(:label, 1),Pair{Symbol,Any}(:fontcolor, \"red\"),Pair{Symbol,Any}(:len, 1.5))), DiEdge(3=>13, Dict{Symbol,Any}(Pair{Symbol,Any}(:color, \"red\"),Pair{Symbol,Any}(:label, 2),Pair{Symbol,Any}(:fontcolor, \"red\"),Pair{Symbol,Any}(:len, 1.5))), DiEdge(4=>2, Dict{Symbol,Any}(Pair{Symbol,Any}(:color, \"red\"),Pair{Symbol,Any}(:label, 3),Pair{Symbol,Any}(:fontcolor, \"red\"),Pair{Symbol,Any}(:len, 1.5))), DiEdge(4=>7, Dict{Symbol,Any}(Pair{Symbol,Any}(:color, \"red\"),Pair{Symbol,Any}(:label, 4),Pair{Symbol,Any}(:fontcolor, \"red\"),Pair{Symbol,Any}(:len, 1.5))), DiEdge(5=>11, Dict{Symbol,Any}(Pair{Symbol,Any}(:color, \"red\"),Pair{Symbol,Any}(:label, 5),Pair{Symbol,Any}(:fontcolor, \"red\"),Pair{Symbol,Any}(:len, 1.5))), DiEdge(5=>15, Dict{Symbol,Any}(Pair{Symbol,Any}(:color, \"red\"),Pair{Symbol,Any}(:label, 6),Pair{Symbol,Any}(:fontcolor, \"red\"),Pair{Symbol,Any}(:len, 1.5))), DiEdge(6=>4, Dict{Symbol,Any}(Pair{Symbol,Any}(:color, \"red\"),Pair{Symbol,Any}(:label, 7),Pair{Symbol,Any}(:fontcolor, \"red\"),Pair{Symbol,Any}(:len, 1.5))), DiEdge(6=>7, Dict{Symbol,Any}(Pair{Symbol,Any}(:label, 8),Pair{Symbol,Any}(:len, 1.5))), DiEdge(7=>1, Dict{Symbol,Any}(Pair{Symbol,Any}(:color, \"red\"),Pair{Symbol,Any}(:label, 9),Pair{Symbol,Any}(:fontcolor, \"red\"),Pair{Symbol,Any}(:len, 1.5))), DiEdge(7=>12, Dict{Symbol,Any}(Pair{Symbol,Any}(:color, \"red\"),Pair{Symbol,Any}(:label, 10),Pair{Symbol,Any}(:fontcolor, \"red\"),Pair{Symbol,Any}(:len, 1.5))), DiEdge(8=>9, Dict{Symbol,Any}(Pair{Symbol,Any}(:color, \"red\"),Pair{Symbol,Any}(:label, 11),Pair{Symbol,Any}(:fontcolor, \"red\"),Pair{Symbol,Any}(:len, 1.5))), DiEdge(9=>1, Dict{Symbol,Any}(Pair{Symbol,Any}(:color, \"red\"),Pair{Symbol,Any}(:label, 12),Pair{Symbol,Any}(:fontcolor, \"red\"),Pair{Symbol,Any}(:len, 1.5))), DiEdge(11=>6, Dict{Symbol,Any}(Pair{Symbol,Any}(:color, \"red\"),Pair{Symbol,Any}(:label, 13),Pair{Symbol,Any}(:fontcolor, \"red\"),Pair{Symbol,Any}(:len, 1.5))), DiEdge(11=>12, Dict{Symbol,Any}(Pair{Symbol,Any}(:label, 14),Pair{Symbol,Any}(:len, 1.5))), DiEdge(11=>14, Dict{Symbol,Any}(Pair{Symbol,Any}(:color, \"red\"),Pair{Symbol,Any}(:label, 15),Pair{Symbol,Any}(:fontcolor, \"red\"),Pair{Symbol,Any}(:len, 1.5))), DiEdge(12=>9, Dict{Symbol,Any}(Pair{Symbol,Any}(:label, 16),Pair{Symbol,Any}(:len, 1.5))), DiEdge(12=>14, Dict{Symbol,Any}(Pair{Symbol,Any}(:label, 17),Pair{Symbol,Any}(:len, 1.5))), DiEdge(12=>15, Dict{Symbol,Any}(Pair{Symbol,Any}(:label, 18),Pair{Symbol,Any}(:len, 1.5))), DiEdge(13=>14, Dict{Symbol,Any}(Pair{Symbol,Any}(:label, 19),Pair{Symbol,Any}(:len, 1.5))), DiEdge(15=>4, Dict{Symbol,Any}(Pair{Symbol,Any}(:label, 20),Pair{Symbol,Any}(:len, 1.5)))], Dict{Symbol,Any}())"
      ]
     },
     "execution_count": 24,
     "metadata": {},
     "output_type": "execute_result"
    }
   ],
   "source": [
    "colortree(gbig)"
   ]
  },
  {
   "cell_type": "code",
   "execution_count": 25,
   "metadata": {},
   "outputs": [
    {
     "data": {
      "image/svg+xml": [
       "<?xml version=\"1.0\" encoding=\"UTF-8\" standalone=\"no\"?>\n",
       "<!DOCTYPE svg PUBLIC \"-//W3C//DTD SVG 1.1//EN\"\n",
       " \"http://www.w3.org/Graphics/SVG/1.1/DTD/svg11.dtd\">\n",
       "<!-- Generated by graphviz version 2.40.1 (20161225.0304)\n",
       " -->\n",
       "<!-- Title: MyDiGraph Pages: 1 -->\n",
       "<svg width=\"675pt\" height=\"888pt\"\n",
       " viewBox=\"0.00 0.00 674.57 888.16\" xmlns=\"http://www.w3.org/2000/svg\" xmlns:xlink=\"http://www.w3.org/1999/xlink\">\n",
       "<g id=\"graph0\" class=\"graph\" transform=\"scale(1 1) rotate(0) translate(4 884.1558)\">\n",
       "<title>MyDiGraph</title>\n",
       "<polygon fill=\"#ffffff\" stroke=\"transparent\" points=\"-4,4 -4,-884.1558 670.5714,-884.1558 670.5714,4 -4,4\"/>\n",
       "<!-- 1 -->\n",
       "<g id=\"node1\" class=\"node\">\n",
       "<title>1</title>\n",
       "<ellipse fill=\"none\" stroke=\"#000000\" cx=\"179.0294\" cy=\"-179.128\" rx=\"27\" ry=\"18\"/>\n",
       "<text text-anchor=\"middle\" x=\"179.0294\" y=\"-174.928\" font-family=\"Times,serif\" font-size=\"14.00\" fill=\"#000000\">1</text>\n",
       "</g>\n",
       "<!-- 2 -->\n",
       "<g id=\"node2\" class=\"node\">\n",
       "<title>2</title>\n",
       "<ellipse fill=\"none\" stroke=\"#000000\" cx=\"192.0885\" cy=\"-432.9985\" rx=\"27\" ry=\"18\"/>\n",
       "<text text-anchor=\"middle\" x=\"192.0885\" y=\"-428.7985\" font-family=\"Times,serif\" font-size=\"14.00\" fill=\"#000000\">2</text>\n",
       "</g>\n",
       "<!-- 3 -->\n",
       "<g id=\"node3\" class=\"node\">\n",
       "<title>3</title>\n",
       "<ellipse fill=\"none\" stroke=\"#000000\" cx=\"478.4597\" cy=\"-749.5568\" rx=\"27\" ry=\"18\"/>\n",
       "<text text-anchor=\"middle\" x=\"478.4597\" y=\"-745.3568\" font-family=\"Times,serif\" font-size=\"14.00\" fill=\"#000000\">3</text>\n",
       "</g>\n",
       "<!-- 5 -->\n",
       "<g id=\"node5\" class=\"node\">\n",
       "<title>5</title>\n",
       "<ellipse fill=\"none\" stroke=\"#000000\" cx=\"519.6175\" cy=\"-636.9679\" rx=\"27\" ry=\"18\"/>\n",
       "<text text-anchor=\"middle\" x=\"519.6175\" y=\"-632.7679\" font-family=\"Times,serif\" font-size=\"14.00\" fill=\"#000000\">5</text>\n",
       "</g>\n",
       "<!-- 3&#45;&gt;5 -->\n",
       "<g id=\"edge1\" class=\"edge\">\n",
       "<title>3&#45;&gt;5</title>\n",
       "<path fill=\"none\" stroke=\"#000000\" d=\"M484.8906,-731.9647C491.4965,-713.8939 501.8724,-685.5103 509.564,-664.4697\"/>\n",
       "<polygon fill=\"#000000\" stroke=\"#000000\" points=\"512.9497,-665.4018 513.0959,-654.8079 506.3752,-662.9984 512.9497,-665.4018\"/>\n",
       "<text text-anchor=\"middle\" x=\"493.7273\" y=\"-701.0172\" font-family=\"Times,serif\" font-size=\"14.00\" fill=\"#000000\">1</text>\n",
       "</g>\n",
       "<!-- 13 -->\n",
       "<g id=\"node13\" class=\"node\">\n",
       "<title>13</title>\n",
       "<ellipse fill=\"none\" stroke=\"#000000\" cx=\"467.2839\" cy=\"-862.1558\" rx=\"27\" ry=\"18\"/>\n",
       "<text text-anchor=\"middle\" x=\"467.2839\" y=\"-857.9558\" font-family=\"Times,serif\" font-size=\"14.00\" fill=\"#000000\">13</text>\n",
       "</g>\n",
       "<!-- 3&#45;&gt;13 -->\n",
       "<g id=\"edge2\" class=\"edge\">\n",
       "<title>3&#45;&gt;13</title>\n",
       "<path fill=\"none\" stroke=\"#000000\" d=\"M476.6641,-767.6477C474.8881,-785.541 472.1445,-813.1836 470.0825,-833.9593\"/>\n",
       "<polygon fill=\"#000000\" stroke=\"#000000\" points=\"466.5799,-833.8129 469.075,-844.1097 473.5457,-834.5044 466.5799,-833.8129\"/>\n",
       "<text text-anchor=\"middle\" x=\"469.8733\" y=\"-803.6035\" font-family=\"Times,serif\" font-size=\"14.00\" fill=\"#000000\">2</text>\n",
       "</g>\n",
       "<!-- 4 -->\n",
       "<g id=\"node4\" class=\"node\">\n",
       "<title>4</title>\n",
       "<ellipse fill=\"none\" stroke=\"#000000\" cx=\"297.0595\" cy=\"-367.7687\" rx=\"27\" ry=\"18\"/>\n",
       "<text text-anchor=\"middle\" x=\"297.0595\" y=\"-363.5687\" font-family=\"Times,serif\" font-size=\"14.00\" fill=\"#000000\">4</text>\n",
       "</g>\n",
       "<!-- 4&#45;&gt;2 -->\n",
       "<g id=\"edge3\" class=\"edge\">\n",
       "<title>4&#45;&gt;2</title>\n",
       "<path fill=\"none\" stroke=\"#000000\" d=\"M276.8201,-380.3456C260.8898,-390.2448 238.4887,-404.165 220.7204,-415.2064\"/>\n",
       "<polygon fill=\"#000000\" stroke=\"#000000\" points=\"218.5562,-412.4305 211.9099,-420.6813 222.2509,-418.376 218.5562,-412.4305\"/>\n",
       "<text text-anchor=\"middle\" x=\"245.2703\" y=\"-400.576\" font-family=\"Times,serif\" font-size=\"14.00\" fill=\"#000000\">3</text>\n",
       "</g>\n",
       "<!-- 7 -->\n",
       "<g id=\"node7\" class=\"node\">\n",
       "<title>7</title>\n",
       "<ellipse fill=\"none\" stroke=\"#000000\" cx=\"280.3015\" cy=\"-243.2546\" rx=\"27\" ry=\"18\"/>\n",
       "<text text-anchor=\"middle\" x=\"280.3015\" y=\"-239.0546\" font-family=\"Times,serif\" font-size=\"14.00\" fill=\"#000000\">7</text>\n",
       "</g>\n",
       "<!-- 4&#45;&gt;7 -->\n",
       "<g id=\"edge4\" class=\"edge\">\n",
       "<title>4&#45;&gt;7</title>\n",
       "<path fill=\"none\" stroke=\"#000000\" d=\"M294.6228,-349.6632C291.8551,-329.0993 287.3054,-295.2946 284.0774,-271.3099\"/>\n",
       "<polygon fill=\"#000000\" stroke=\"#000000\" points=\"287.5438,-270.8256 282.7412,-261.3818 280.6064,-271.7594 287.5438,-270.8256\"/>\n",
       "<text text-anchor=\"middle\" x=\"285.8501\" y=\"-313.2866\" font-family=\"Times,serif\" font-size=\"14.00\" fill=\"#000000\">4</text>\n",
       "</g>\n",
       "<!-- 11 -->\n",
       "<g id=\"node11\" class=\"node\">\n",
       "<title>11</title>\n",
       "<ellipse fill=\"none\" stroke=\"#000000\" cx=\"488.7429\" cy=\"-516.6305\" rx=\"27\" ry=\"18\"/>\n",
       "<text text-anchor=\"middle\" x=\"488.7429\" y=\"-512.4305\" font-family=\"Times,serif\" font-size=\"14.00\" fill=\"#000000\">11</text>\n",
       "</g>\n",
       "<!-- 5&#45;&gt;11 -->\n",
       "<g id=\"edge5\" class=\"edge\">\n",
       "<title>5&#45;&gt;11</title>\n",
       "<path fill=\"none\" stroke=\"#000000\" d=\"M515.0618,-619.2117C509.9998,-599.4816 501.7615,-567.3721 495.8499,-544.3309\"/>\n",
       "<polygon fill=\"#000000\" stroke=\"#000000\" points=\"499.1927,-543.276 493.3172,-534.4595 492.4123,-545.0157 499.1927,-543.276\"/>\n",
       "<text text-anchor=\"middle\" x=\"501.9559\" y=\"-584.5713\" font-family=\"Times,serif\" font-size=\"14.00\" fill=\"#000000\">5</text>\n",
       "</g>\n",
       "<!-- 15 -->\n",
       "<g id=\"node15\" class=\"node\">\n",
       "<title>15</title>\n",
       "<ellipse fill=\"none\" stroke=\"#000000\" cx=\"639.5714\" cy=\"-663.7141\" rx=\"27\" ry=\"18\"/>\n",
       "<text text-anchor=\"middle\" x=\"639.5714\" y=\"-659.5141\" font-family=\"Times,serif\" font-size=\"14.00\" fill=\"#000000\">15</text>\n",
       "</g>\n",
       "<!-- 5&#45;&gt;15 -->\n",
       "<g id=\"edge6\" class=\"edge\">\n",
       "<title>5&#45;&gt;15</title>\n",
       "<path fill=\"none\" stroke=\"#000000\" d=\"M545.3506,-642.7056C562.4274,-646.5132 585.074,-651.5628 603.8848,-655.757\"/>\n",
       "<polygon fill=\"#000000\" stroke=\"#000000\" points=\"603.3588,-659.2256 613.8808,-657.9858 604.8822,-652.3934 603.3588,-659.2256\"/>\n",
       "<text text-anchor=\"middle\" x=\"571.1177\" y=\"-652.0313\" font-family=\"Times,serif\" font-size=\"14.00\" fill=\"#000000\">6</text>\n",
       "</g>\n",
       "<!-- 6 -->\n",
       "<g id=\"node6\" class=\"node\">\n",
       "<title>6</title>\n",
       "<ellipse fill=\"none\" stroke=\"#000000\" cx=\"392.0521\" cy=\"-443.5444\" rx=\"27\" ry=\"18\"/>\n",
       "<text text-anchor=\"middle\" x=\"392.0521\" y=\"-439.3444\" font-family=\"Times,serif\" font-size=\"14.00\" fill=\"#000000\">6</text>\n",
       "</g>\n",
       "<!-- 6&#45;&gt;4 -->\n",
       "<g id=\"edge7\" class=\"edge\">\n",
       "<title>6&#45;&gt;4</title>\n",
       "<path fill=\"none\" stroke=\"#000000\" d=\"M374.629,-429.646C360.1247,-418.0758 339.2641,-401.4353 322.8283,-388.3245\"/>\n",
       "<polygon fill=\"#000000\" stroke=\"#000000\" points=\"324.6939,-385.3355 314.6939,-381.8356 320.3287,-390.8077 324.6939,-385.3355\"/>\n",
       "<text text-anchor=\"middle\" x=\"345.2286\" y=\"-411.7852\" font-family=\"Times,serif\" font-size=\"14.00\" fill=\"#000000\">7</text>\n",
       "</g>\n",
       "<!-- 7&#45;&gt;1 -->\n",
       "<g id=\"edge8\" class=\"edge\">\n",
       "<title>7&#45;&gt;1</title>\n",
       "<path fill=\"none\" stroke=\"#000000\" d=\"M260.2934,-230.5852C245.2158,-221.038 224.335,-207.816 207.5152,-197.1656\"/>\n",
       "<polygon fill=\"#000000\" stroke=\"#000000\" points=\"208.9724,-193.9457 198.6513,-191.5529 205.2276,-199.8597 208.9724,-193.9457\"/>\n",
       "<text text-anchor=\"middle\" x=\"230.4043\" y=\"-216.6754\" font-family=\"Times,serif\" font-size=\"14.00\" fill=\"#000000\">9</text>\n",
       "</g>\n",
       "<!-- 12 -->\n",
       "<g id=\"node12\" class=\"node\">\n",
       "<title>12</title>\n",
       "<ellipse fill=\"none\" stroke=\"#000000\" cx=\"361.8021\" cy=\"-151.3961\" rx=\"27\" ry=\"18\"/>\n",
       "<text text-anchor=\"middle\" x=\"361.8021\" y=\"-147.1961\" font-family=\"Times,serif\" font-size=\"14.00\" fill=\"#000000\">12</text>\n",
       "</g>\n",
       "<!-- 7&#45;&gt;12 -->\n",
       "<g id=\"edge9\" class=\"edge\">\n",
       "<title>7&#45;&gt;12</title>\n",
       "<path fill=\"none\" stroke=\"#000000\" d=\"M294.1269,-227.672C307.0064,-213.1558 326.3808,-191.3191 341.1037,-174.725\"/>\n",
       "<polygon fill=\"#000000\" stroke=\"#000000\" points=\"343.8901,-176.8582 347.9088,-167.0551 338.654,-172.2124 343.8901,-176.8582\"/>\n",
       "<text text-anchor=\"middle\" x=\"310.6153\" y=\"-203.9985\" font-family=\"Times,serif\" font-size=\"14.00\" fill=\"#000000\">10</text>\n",
       "</g>\n",
       "<!-- 8 -->\n",
       "<g id=\"node8\" class=\"node\">\n",
       "<title>8</title>\n",
       "<ellipse fill=\"none\" stroke=\"#000000\" cx=\"27\" cy=\"-18\" rx=\"27\" ry=\"18\"/>\n",
       "<text text-anchor=\"middle\" x=\"27\" y=\"-13.8\" font-family=\"Times,serif\" font-size=\"14.00\" fill=\"#000000\">8</text>\n",
       "</g>\n",
       "<!-- 9 -->\n",
       "<g id=\"node9\" class=\"node\">\n",
       "<title>9</title>\n",
       "<ellipse fill=\"none\" stroke=\"#000000\" cx=\"93.6934\" cy=\"-105.5977\" rx=\"27\" ry=\"18\"/>\n",
       "<text text-anchor=\"middle\" x=\"93.6934\" y=\"-101.3977\" font-family=\"Times,serif\" font-size=\"14.00\" fill=\"#000000\">9</text>\n",
       "</g>\n",
       "<!-- 8&#45;&gt;9 -->\n",
       "<g id=\"edge10\" class=\"edge\">\n",
       "<title>8&#45;&gt;9</title>\n",
       "<path fill=\"none\" stroke=\"#000000\" d=\"M39.2326,-34.0668C49.2291,-47.1966 63.526,-65.9747 74.9631,-80.9966\"/>\n",
       "<polygon fill=\"#000000\" stroke=\"#000000\" points=\"72.47,-83.4999 81.3125,-89.3362 78.0395,-79.2595 72.47,-83.4999\"/>\n",
       "<text text-anchor=\"middle\" x=\"50.3542\" y=\"-60.3317\" font-family=\"Times,serif\" font-size=\"14.00\" fill=\"#000000\">11</text>\n",
       "</g>\n",
       "<!-- 9&#45;&gt;1 -->\n",
       "<g id=\"edge11\" class=\"edge\">\n",
       "<title>9&#45;&gt;1</title>\n",
       "<path fill=\"none\" stroke=\"#000000\" d=\"M110.5531,-120.125C123.1404,-130.9709 140.5276,-145.9528 154.6315,-158.1055\"/>\n",
       "<polygon fill=\"#000000\" stroke=\"#000000\" points=\"152.6348,-161.005 162.4951,-164.8812 157.2041,-155.7021 152.6348,-161.005\"/>\n",
       "<text text-anchor=\"middle\" x=\"125.5923\" y=\"-141.9152\" font-family=\"Times,serif\" font-size=\"14.00\" fill=\"#000000\">12</text>\n",
       "</g>\n",
       "<!-- 10 -->\n",
       "<g id=\"node10\" class=\"node\">\n",
       "<title>10</title>\n",
       "<ellipse fill=\"none\" stroke=\"#000000\" cx=\"447\" cy=\"-318\" rx=\"27\" ry=\"18\"/>\n",
       "<text text-anchor=\"middle\" x=\"447\" y=\"-313.8\" font-family=\"Times,serif\" font-size=\"14.00\" fill=\"#000000\">10</text>\n",
       "</g>\n",
       "<!-- 11&#45;&gt;6 -->\n",
       "<g id=\"edge12\" class=\"edge\">\n",
       "<title>11&#45;&gt;6</title>\n",
       "<path fill=\"none\" stroke=\"#000000\" d=\"M470.5561,-502.8836C455.8353,-491.7565 434.9032,-475.9345 418.3552,-463.4262\"/>\n",
       "<polygon fill=\"#000000\" stroke=\"#000000\" points=\"420.2453,-460.4676 410.1573,-457.2297 416.0243,-466.0518 420.2453,-460.4676\"/>\n",
       "<text text-anchor=\"middle\" x=\"437.4556\" y=\"-485.9549\" font-family=\"Times,serif\" font-size=\"14.00\" fill=\"#000000\">13</text>\n",
       "</g>\n",
       "<!-- 14 -->\n",
       "<g id=\"node14\" class=\"node\">\n",
       "<title>14</title>\n",
       "<ellipse fill=\"none\" stroke=\"#000000\" cx=\"597.007\" cy=\"-455.1023\" rx=\"27\" ry=\"18\"/>\n",
       "<text text-anchor=\"middle\" x=\"597.007\" y=\"-450.9023\" font-family=\"Times,serif\" font-size=\"14.00\" fill=\"#000000\">14</text>\n",
       "</g>\n",
       "<!-- 11&#45;&gt;14 -->\n",
       "<g id=\"edge13\" class=\"edge\">\n",
       "<title>11&#45;&gt;14</title>\n",
       "<path fill=\"none\" stroke=\"#000000\" d=\"M509.3613,-504.9127C525.7364,-495.6065 548.8569,-482.4667 567.2401,-472.0193\"/>\n",
       "<polygon fill=\"#000000\" stroke=\"#000000\" points=\"569.1318,-474.97 576.0965,-466.986 565.6731,-468.8841 569.1318,-474.97\"/>\n",
       "<text text-anchor=\"middle\" x=\"531.3007\" y=\"-491.266\" font-family=\"Times,serif\" font-size=\"14.00\" fill=\"#000000\">15</text>\n",
       "</g>\n",
       "</g>\n",
       "</svg>\n"
      ],
      "text/plain": [
       "DiGraph(DiNode[DiNode(1, Dict{Symbol,Any}()), DiNode(2, Dict{Symbol,Any}()), DiNode(3, Dict{Symbol,Any}()), DiNode(4, Dict{Symbol,Any}()), DiNode(5, Dict{Symbol,Any}()), DiNode(6, Dict{Symbol,Any}()), DiNode(7, Dict{Symbol,Any}()), DiNode(8, Dict{Symbol,Any}()), DiNode(9, Dict{Symbol,Any}()), DiNode(10, Dict{Symbol,Any}()), DiNode(11, Dict{Symbol,Any}()), DiNode(12, Dict{Symbol,Any}()), DiNode(13, Dict{Symbol,Any}()), DiNode(14, Dict{Symbol,Any}()), DiNode(15, Dict{Symbol,Any}())], DiEdge[DiEdge(3=>5, Dict{Symbol,Any}(Pair{Symbol,Any}(:label, 1),Pair{Symbol,Any}(:len, 1.5))), DiEdge(3=>13, Dict{Symbol,Any}(Pair{Symbol,Any}(:label, 2),Pair{Symbol,Any}(:len, 1.5))), DiEdge(4=>2, Dict{Symbol,Any}(Pair{Symbol,Any}(:label, 3),Pair{Symbol,Any}(:len, 1.5))), DiEdge(4=>7, Dict{Symbol,Any}(Pair{Symbol,Any}(:label, 4),Pair{Symbol,Any}(:len, 1.5))), DiEdge(5=>11, Dict{Symbol,Any}(Pair{Symbol,Any}(:label, 5),Pair{Symbol,Any}(:len, 1.5))), DiEdge(5=>15, Dict{Symbol,Any}(Pair{Symbol,Any}(:label, 6),Pair{Symbol,Any}(:len, 1.5))), DiEdge(6=>4, Dict{Symbol,Any}(Pair{Symbol,Any}(:label, 7),Pair{Symbol,Any}(:len, 1.5))), DiEdge(7=>1, Dict{Symbol,Any}(Pair{Symbol,Any}(:label, 9),Pair{Symbol,Any}(:len, 1.5))), DiEdge(7=>12, Dict{Symbol,Any}(Pair{Symbol,Any}(:label, 10),Pair{Symbol,Any}(:len, 1.5))), DiEdge(8=>9, Dict{Symbol,Any}(Pair{Symbol,Any}(:label, 11),Pair{Symbol,Any}(:len, 1.5))), DiEdge(9=>1, Dict{Symbol,Any}(Pair{Symbol,Any}(:label, 12),Pair{Symbol,Any}(:len, 1.5))), DiEdge(11=>6, Dict{Symbol,Any}(Pair{Symbol,Any}(:label, 13),Pair{Symbol,Any}(:len, 1.5))), DiEdge(11=>14, Dict{Symbol,Any}(Pair{Symbol,Any}(:label, 15),Pair{Symbol,Any}(:len, 1.5)))], Dict{Symbol,Any}())"
      ]
     },
     "execution_count": 25,
     "metadata": {},
     "output_type": "execute_result"
    }
   ],
   "source": [
    "tree(gbig)"
   ]
  },
  {
   "cell_type": "markdown",
   "metadata": {},
   "source": [
    "And we can make trees from even larger graphs, for fun:"
   ]
  },
  {
   "cell_type": "code",
   "execution_count": 26,
   "metadata": {},
   "outputs": [
    {
     "data": {
      "image/svg+xml": [
       "<?xml version=\"1.0\" encoding=\"UTF-8\" standalone=\"no\"?>\n",
       "<!DOCTYPE svg PUBLIC \"-//W3C//DTD SVG 1.1//EN\"\n",
       " \"http://www.w3.org/Graphics/SVG/1.1/DTD/svg11.dtd\">\n",
       "<!-- Generated by graphviz version 2.40.1 (20161225.0304)\n",
       " -->\n",
       "<!-- Title: MyDiGraph Pages: 1 -->\n",
       "<svg width=\"512pt\" height=\"348pt\"\n",
       " viewBox=\"0.00 0.00 512.33 348.02\" xmlns=\"http://www.w3.org/2000/svg\" xmlns:xlink=\"http://www.w3.org/1999/xlink\">\n",
       "<g id=\"graph0\" class=\"graph\" transform=\"scale(1 1) rotate(0) translate(4 344.0163)\">\n",
       "<title>MyDiGraph</title>\n",
       "<polygon fill=\"#ffffff\" stroke=\"transparent\" points=\"-4,4 -4,-344.0163 508.3267,-344.0163 508.3267,4 -4,4\"/>\n",
       "<!-- 1 -->\n",
       "<g id=\"node1\" class=\"node\">\n",
       "<title>1</title>\n",
       "<ellipse fill=\"none\" stroke=\"#000000\" cx=\"249.5553\" cy=\"-188.2577\" rx=\"27\" ry=\"18\"/>\n",
       "<text text-anchor=\"middle\" x=\"249.5553\" y=\"-184.0577\" font-family=\"Times,serif\" font-size=\"14.00\" fill=\"#000000\">1</text>\n",
       "</g>\n",
       "<!-- 2 -->\n",
       "<g id=\"node2\" class=\"node\">\n",
       "<title>2</title>\n",
       "<ellipse fill=\"none\" stroke=\"#000000\" cx=\"343.3086\" cy=\"-201.9226\" rx=\"27\" ry=\"18\"/>\n",
       "<text text-anchor=\"middle\" x=\"343.3086\" y=\"-197.7226\" font-family=\"Times,serif\" font-size=\"14.00\" fill=\"#000000\">2</text>\n",
       "</g>\n",
       "<!-- 1&#45;&gt;2 -->\n",
       "<g id=\"edge1\" class=\"edge\">\n",
       "<title>1&#45;&gt;2</title>\n",
       "<path fill=\"none\" stroke=\"#000000\" d=\"M276.1704,-192.1369C285.5723,-193.5073 296.3207,-195.0739 306.4204,-196.546\"/>\n",
       "<polygon fill=\"#000000\" stroke=\"#000000\" points=\"306.2266,-200.0547 316.6269,-198.0337 307.2362,-193.1279 306.2266,-200.0547\"/>\n",
       "<text text-anchor=\"middle\" x=\"287.7954\" y=\"-197.1415\" font-family=\"Times,serif\" font-size=\"14.00\" fill=\"#000000\">1</text>\n",
       "</g>\n",
       "<!-- 5 -->\n",
       "<g id=\"node5\" class=\"node\">\n",
       "<title>5</title>\n",
       "<ellipse fill=\"none\" stroke=\"#000000\" cx=\"277.7104\" cy=\"-101.1587\" rx=\"27\" ry=\"18\"/>\n",
       "<text text-anchor=\"middle\" x=\"277.7104\" y=\"-96.9587\" font-family=\"Times,serif\" font-size=\"14.00\" fill=\"#000000\">5</text>\n",
       "</g>\n",
       "<!-- 1&#45;&gt;5 -->\n",
       "<g id=\"edge2\" class=\"edge\">\n",
       "<title>1&#45;&gt;5</title>\n",
       "<path fill=\"none\" stroke=\"#000000\" d=\"M255.2529,-170.6319C259.1454,-158.5901 264.382,-142.3906 268.8193,-128.6636\"/>\n",
       "<polygon fill=\"#000000\" stroke=\"#000000\" points=\"272.2757,-129.35 272.0213,-118.7583 265.615,-127.1969 272.2757,-129.35\"/>\n",
       "<text text-anchor=\"middle\" x=\"258.5361\" y=\"-152.4478\" font-family=\"Times,serif\" font-size=\"14.00\" fill=\"#000000\">2</text>\n",
       "</g>\n",
       "<!-- 10 -->\n",
       "<g id=\"node10\" class=\"node\">\n",
       "<title>10</title>\n",
       "<ellipse fill=\"none\" stroke=\"#000000\" cx=\"236.2696\" cy=\"-122.5605\" rx=\"27\" ry=\"18\"/>\n",
       "<text text-anchor=\"middle\" x=\"236.2696\" y=\"-118.3605\" font-family=\"Times,serif\" font-size=\"14.00\" fill=\"#000000\">10</text>\n",
       "</g>\n",
       "<!-- 1&#45;&gt;10 -->\n",
       "<g id=\"edge3\" class=\"edge\">\n",
       "<title>1&#45;&gt;10</title>\n",
       "<path fill=\"none\" stroke=\"#000000\" d=\"M245.9249,-170.3056C244.6947,-164.2222 243.2896,-157.274 241.9393,-150.597\"/>\n",
       "<polygon fill=\"#000000\" stroke=\"#000000\" points=\"245.3084,-149.5987 239.8956,-140.4909 238.4472,-150.9862 245.3084,-149.5987\"/>\n",
       "<text text-anchor=\"middle\" x=\"240.4321\" y=\"-149.2513\" font-family=\"Times,serif\" font-size=\"14.00\" fill=\"#000000\">3</text>\n",
       "</g>\n",
       "<!-- 13 -->\n",
       "<g id=\"node13\" class=\"node\">\n",
       "<title>13</title>\n",
       "<ellipse fill=\"none\" stroke=\"#000000\" cx=\"286.0968\" cy=\"-241.983\" rx=\"27\" ry=\"18\"/>\n",
       "<text text-anchor=\"middle\" x=\"286.0968\" y=\"-237.783\" font-family=\"Times,serif\" font-size=\"14.00\" fill=\"#000000\">13</text>\n",
       "</g>\n",
       "<!-- 1&#45;&gt;13 -->\n",
       "<g id=\"edge4\" class=\"edge\">\n",
       "<title>1&#45;&gt;13</title>\n",
       "<path fill=\"none\" stroke=\"#000000\" d=\"M260.7175,-204.6689C263.3594,-208.5533 266.2363,-212.783 269.0729,-216.9536\"/>\n",
       "<polygon fill=\"#000000\" stroke=\"#000000\" points=\"266.2327,-219.0011 274.7508,-225.3014 272.0208,-215.0643 266.2327,-219.0011\"/>\n",
       "<text text-anchor=\"middle\" x=\"261.3952\" y=\"-213.6113\" font-family=\"Times,serif\" font-size=\"14.00\" fill=\"#000000\">4</text>\n",
       "</g>\n",
       "<!-- 14 -->\n",
       "<g id=\"node14\" class=\"node\">\n",
       "<title>14</title>\n",
       "<ellipse fill=\"none\" stroke=\"#000000\" cx=\"255.5052\" cy=\"-273.9217\" rx=\"27\" ry=\"18\"/>\n",
       "<text text-anchor=\"middle\" x=\"255.5052\" y=\"-269.7217\" font-family=\"Times,serif\" font-size=\"14.00\" fill=\"#000000\">14</text>\n",
       "</g>\n",
       "<!-- 1&#45;&gt;14 -->\n",
       "<g id=\"edge5\" class=\"edge\">\n",
       "<title>1&#45;&gt;14</title>\n",
       "<path fill=\"none\" stroke=\"#000000\" d=\"M250.8171,-206.4248C251.6059,-217.7822 252.6385,-232.6494 253.5338,-245.539\"/>\n",
       "<polygon fill=\"#000000\" stroke=\"#000000\" points=\"250.0606,-246.0473 254.2452,-255.7808 257.0438,-245.5623 250.0606,-246.0473\"/>\n",
       "<text text-anchor=\"middle\" x=\"248.6755\" y=\"-228.7819\" font-family=\"Times,serif\" font-size=\"14.00\" fill=\"#000000\">5</text>\n",
       "</g>\n",
       "<!-- 6 -->\n",
       "<g id=\"node6\" class=\"node\">\n",
       "<title>6</title>\n",
       "<ellipse fill=\"none\" stroke=\"#000000\" cx=\"407.4568\" cy=\"-146.3515\" rx=\"27\" ry=\"18\"/>\n",
       "<text text-anchor=\"middle\" x=\"407.4568\" y=\"-142.1515\" font-family=\"Times,serif\" font-size=\"14.00\" fill=\"#000000\">6</text>\n",
       "</g>\n",
       "<!-- 2&#45;&gt;6 -->\n",
       "<g id=\"edge6\" class=\"edge\">\n",
       "<title>2&#45;&gt;6</title>\n",
       "<path fill=\"none\" stroke=\"#000000\" d=\"M359.8283,-187.6117C366.8073,-181.5658 375.0827,-174.3969 382.7615,-167.7448\"/>\n",
       "<polygon fill=\"#000000\" stroke=\"#000000\" points=\"385.5034,-170.0002 390.7701,-160.8071 380.92,-164.7094 385.5034,-170.0002\"/>\n",
       "<text text-anchor=\"middle\" x=\"367.7949\" y=\"-166.4783\" font-family=\"Times,serif\" font-size=\"14.00\" fill=\"#000000\">7</text>\n",
       "</g>\n",
       "<!-- 8 -->\n",
       "<g id=\"node8\" class=\"node\">\n",
       "<title>8</title>\n",
       "<ellipse fill=\"none\" stroke=\"#000000\" cx=\"414.6907\" cy=\"-234.3856\" rx=\"27\" ry=\"18\"/>\n",
       "<text text-anchor=\"middle\" x=\"414.6907\" y=\"-230.1856\" font-family=\"Times,serif\" font-size=\"14.00\" fill=\"#000000\">8</text>\n",
       "</g>\n",
       "<!-- 2&#45;&gt;8 -->\n",
       "<g id=\"edge7\" class=\"edge\">\n",
       "<title>2&#45;&gt;8</title>\n",
       "<path fill=\"none\" stroke=\"#000000\" d=\"M365.8943,-212.1941C371.2323,-214.6217 377.0244,-217.2558 382.691,-219.8329\"/>\n",
       "<polygon fill=\"#000000\" stroke=\"#000000\" points=\"381.455,-223.1157 392.0068,-224.0695 384.3529,-216.7437 381.455,-223.1157\"/>\n",
       "<text text-anchor=\"middle\" x=\"377.7927\" y=\"-218.8135\" font-family=\"Times,serif\" font-size=\"14.00\" fill=\"#000000\">8</text>\n",
       "</g>\n",
       "<!-- 20 -->\n",
       "<g id=\"node20\" class=\"node\">\n",
       "<title>20</title>\n",
       "<ellipse fill=\"none\" stroke=\"#000000\" cx=\"377.2117\" cy=\"-287.4811\" rx=\"27\" ry=\"18\"/>\n",
       "<text text-anchor=\"middle\" x=\"377.2117\" y=\"-283.2811\" font-family=\"Times,serif\" font-size=\"14.00\" fill=\"#000000\">20</text>\n",
       "</g>\n",
       "<!-- 2&#45;&gt;20 -->\n",
       "<g id=\"edge8\" class=\"edge\">\n",
       "<title>2&#45;&gt;20</title>\n",
       "<path fill=\"none\" stroke=\"#000000\" d=\"M350.3333,-219.6504C355.0009,-231.4297 361.2189,-247.1215 366.4986,-260.4455\"/>\n",
       "<polygon fill=\"#000000\" stroke=\"#000000\" points=\"363.3741,-262.0614 370.3119,-270.0688 369.8818,-259.4827 363.3741,-262.0614\"/>\n",
       "<text text-anchor=\"middle\" x=\"351.416\" y=\"-242.8479\" font-family=\"Times,serif\" font-size=\"14.00\" fill=\"#000000\">10</text>\n",
       "</g>\n",
       "<!-- 3 -->\n",
       "<g id=\"node3\" class=\"node\">\n",
       "<title>3</title>\n",
       "<ellipse fill=\"none\" stroke=\"#000000\" cx=\"155.4543\" cy=\"-204.2501\" rx=\"27\" ry=\"18\"/>\n",
       "<text text-anchor=\"middle\" x=\"155.4543\" y=\"-200.0501\" font-family=\"Times,serif\" font-size=\"14.00\" fill=\"#000000\">3</text>\n",
       "</g>\n",
       "<!-- 3&#45;&gt;1 -->\n",
       "<g id=\"edge9\" class=\"edge\">\n",
       "<title>3&#45;&gt;1</title>\n",
       "<path fill=\"none\" stroke=\"#000000\" d=\"M181.6666,-199.7953C191.3739,-198.1456 202.5641,-196.2438 213.0234,-194.4663\"/>\n",
       "<polygon fill=\"#000000\" stroke=\"#000000\" points=\"213.8849,-197.8701 223.1571,-192.744 212.712,-190.9691 213.8849,-197.8701\"/>\n",
       "<text text-anchor=\"middle\" x=\"190.6014\" y=\"-199.9308\" font-family=\"Times,serif\" font-size=\"14.00\" fill=\"#000000\">11</text>\n",
       "</g>\n",
       "<!-- 4 -->\n",
       "<g id=\"node4\" class=\"node\">\n",
       "<title>4</title>\n",
       "<ellipse fill=\"none\" stroke=\"#000000\" cx=\"81.7654\" cy=\"-263.422\" rx=\"27\" ry=\"18\"/>\n",
       "<text text-anchor=\"middle\" x=\"81.7654\" y=\"-259.222\" font-family=\"Times,serif\" font-size=\"14.00\" fill=\"#000000\">4</text>\n",
       "</g>\n",
       "<!-- 3&#45;&gt;4 -->\n",
       "<g id=\"edge10\" class=\"edge\">\n",
       "<title>3&#45;&gt;4</title>\n",
       "<path fill=\"none\" stroke=\"#000000\" d=\"M137.991,-218.273C128.7222,-225.7159 117.1658,-234.9956 106.9448,-243.2031\"/>\n",
       "<polygon fill=\"#000000\" stroke=\"#000000\" points=\"104.7091,-240.5095 99.1033,-249.4998 109.092,-245.9676 104.7091,-240.5095\"/>\n",
       "<text text-anchor=\"middle\" x=\"115.4679\" y=\"-233.538\" font-family=\"Times,serif\" font-size=\"14.00\" fill=\"#000000\">12</text>\n",
       "</g>\n",
       "<!-- 7 -->\n",
       "<g id=\"node7\" class=\"node\">\n",
       "<title>7</title>\n",
       "<ellipse fill=\"none\" stroke=\"#000000\" cx=\"103.2757\" cy=\"-157.9438\" rx=\"27\" ry=\"18\"/>\n",
       "<text text-anchor=\"middle\" x=\"103.2757\" y=\"-153.7438\" font-family=\"Times,serif\" font-size=\"14.00\" fill=\"#000000\">7</text>\n",
       "</g>\n",
       "<!-- 3&#45;&gt;7 -->\n",
       "<g id=\"edge11\" class=\"edge\">\n",
       "<title>3&#45;&gt;7</title>\n",
       "<path fill=\"none\" stroke=\"#000000\" d=\"M139.2307,-189.8524C135.4388,-186.4872 131.3208,-182.8327 127.2706,-179.2383\"/>\n",
       "<polygon fill=\"#000000\" stroke=\"#000000\" points=\"129.4716,-176.5121 119.669,-172.4922 124.8252,-181.7477 129.4716,-176.5121\"/>\n",
       "<text text-anchor=\"middle\" x=\"140.2506\" y=\"-173.3453\" font-family=\"Times,serif\" font-size=\"14.00\" fill=\"#000000\">14</text>\n",
       "</g>\n",
       "<!-- 9 -->\n",
       "<g id=\"node9\" class=\"node\">\n",
       "<title>9</title>\n",
       "<ellipse fill=\"none\" stroke=\"#000000\" cx=\"120.2717\" cy=\"-115.6436\" rx=\"27\" ry=\"18\"/>\n",
       "<text text-anchor=\"middle\" x=\"120.2717\" y=\"-111.4436\" font-family=\"Times,serif\" font-size=\"14.00\" fill=\"#000000\">9</text>\n",
       "</g>\n",
       "<!-- 3&#45;&gt;9 -->\n",
       "<g id=\"edge12\" class=\"edge\">\n",
       "<title>3&#45;&gt;9</title>\n",
       "<path fill=\"none\" stroke=\"#000000\" d=\"M148.5033,-186.7443C143.4918,-174.123 136.6349,-156.8539 130.9337,-142.4955\"/>\n",
       "<polygon fill=\"#000000\" stroke=\"#000000\" points=\"134.1516,-141.1156 127.2082,-133.1131 127.6457,-143.6989 134.1516,-141.1156\"/>\n",
       "<text text-anchor=\"middle\" x=\"146.7185\" y=\"-153.4199\" font-family=\"Times,serif\" font-size=\"14.00\" fill=\"#000000\">15</text>\n",
       "</g>\n",
       "<!-- 15 -->\n",
       "<g id=\"node15\" class=\"node\">\n",
       "<title>15</title>\n",
       "<ellipse fill=\"none\" stroke=\"#000000\" cx=\"169.5699\" cy=\"-291.2418\" rx=\"27\" ry=\"18\"/>\n",
       "<text text-anchor=\"middle\" x=\"169.5699\" y=\"-287.0418\" font-family=\"Times,serif\" font-size=\"14.00\" fill=\"#000000\">15</text>\n",
       "</g>\n",
       "<!-- 3&#45;&gt;15 -->\n",
       "<g id=\"edge13\" class=\"edge\">\n",
       "<title>3&#45;&gt;15</title>\n",
       "<path fill=\"none\" stroke=\"#000000\" d=\"M158.379,-222.2749C160.2906,-234.0555 162.8267,-249.6851 165.0013,-263.0864\"/>\n",
       "<polygon fill=\"#000000\" stroke=\"#000000\" points=\"161.5923,-263.9299 166.6489,-273.2401 168.5019,-262.8086 161.5923,-263.9299\"/>\n",
       "<text text-anchor=\"middle\" x=\"154.6902\" y=\"-231.4806\" font-family=\"Times,serif\" font-size=\"14.00\" fill=\"#000000\">16</text>\n",
       "</g>\n",
       "<!-- 18 -->\n",
       "<g id=\"node18\" class=\"node\">\n",
       "<title>18</title>\n",
       "<ellipse fill=\"none\" stroke=\"#000000\" cx=\"132.4047\" cy=\"-272.1005\" rx=\"27\" ry=\"18\"/>\n",
       "<text text-anchor=\"middle\" x=\"132.4047\" y=\"-267.9005\" font-family=\"Times,serif\" font-size=\"14.00\" fill=\"#000000\">18</text>\n",
       "</g>\n",
       "<!-- 3&#45;&gt;18 -->\n",
       "<g id=\"edge14\" class=\"edge\">\n",
       "<title>3&#45;&gt;18</title>\n",
       "<path fill=\"none\" stroke=\"#000000\" d=\"M149.3983,-222.077C147.0612,-228.9567 144.3334,-236.9862 141.7562,-244.5728\"/>\n",
       "<polygon fill=\"#000000\" stroke=\"#000000\" points=\"138.403,-243.5627 138.5003,-254.1571 145.031,-245.8143 138.403,-243.5627\"/>\n",
       "<text text-anchor=\"middle\" x=\"138.5772\" y=\"-236.1249\" font-family=\"Times,serif\" font-size=\"14.00\" fill=\"#000000\">17</text>\n",
       "</g>\n",
       "<!-- 19 -->\n",
       "<g id=\"node19\" class=\"node\">\n",
       "<title>19</title>\n",
       "<ellipse fill=\"none\" stroke=\"#000000\" cx=\"74.3622\" cy=\"-197.7113\" rx=\"27\" ry=\"18\"/>\n",
       "<text text-anchor=\"middle\" x=\"74.3622\" y=\"-193.5113\" font-family=\"Times,serif\" font-size=\"14.00\" fill=\"#000000\">19</text>\n",
       "</g>\n",
       "<!-- 3&#45;&gt;19 -->\n",
       "<g id=\"edge15\" class=\"edge\">\n",
       "<title>3&#45;&gt;19</title>\n",
       "<path fill=\"none\" stroke=\"#000000\" d=\"M128.4518,-202.0728C122.9805,-201.6316 117.1376,-201.1605 111.3896,-200.697\"/>\n",
       "<polygon fill=\"#000000\" stroke=\"#000000\" points=\"111.4957,-197.1943 101.2468,-199.8791 110.9331,-204.1716 111.4957,-197.1943\"/>\n",
       "<text text-anchor=\"middle\" x=\"112.9207\" y=\"-204.1849\" font-family=\"Times,serif\" font-size=\"14.00\" fill=\"#000000\">18</text>\n",
       "</g>\n",
       "<!-- 12 -->\n",
       "<g id=\"node12\" class=\"node\">\n",
       "<title>12</title>\n",
       "<ellipse fill=\"none\" stroke=\"#000000\" cx=\"27\" cy=\"-322.0163\" rx=\"27\" ry=\"18\"/>\n",
       "<text text-anchor=\"middle\" x=\"27\" y=\"-317.8163\" font-family=\"Times,serif\" font-size=\"14.00\" fill=\"#000000\">12</text>\n",
       "</g>\n",
       "<!-- 4&#45;&gt;12 -->\n",
       "<g id=\"edge16\" class=\"edge\">\n",
       "<title>4&#45;&gt;12</title>\n",
       "<path fill=\"none\" stroke=\"#000000\" d=\"M67.3764,-278.817C61.6363,-284.9584 54.9045,-292.1609 48.601,-298.9051\"/>\n",
       "<polygon fill=\"#000000\" stroke=\"#000000\" points=\"45.7544,-296.825 41.483,-306.5207 50.8684,-301.6049 45.7544,-296.825\"/>\n",
       "<text text-anchor=\"middle\" x=\"50.9887\" y=\"-291.661\" font-family=\"Times,serif\" font-size=\"14.00\" fill=\"#000000\">21</text>\n",
       "</g>\n",
       "<!-- 16 -->\n",
       "<g id=\"node16\" class=\"node\">\n",
       "<title>16</title>\n",
       "<ellipse fill=\"none\" stroke=\"#000000\" cx=\"285.0184\" cy=\"-18\" rx=\"27\" ry=\"18\"/>\n",
       "<text text-anchor=\"middle\" x=\"285.0184\" y=\"-13.8\" font-family=\"Times,serif\" font-size=\"14.00\" fill=\"#000000\">16</text>\n",
       "</g>\n",
       "<!-- 5&#45;&gt;16 -->\n",
       "<g id=\"edge17\" class=\"edge\">\n",
       "<title>5&#45;&gt;16</title>\n",
       "<path fill=\"none\" stroke=\"#000000\" d=\"M279.2961,-83.1145C280.2442,-72.3262 281.4693,-58.386 282.5425,-46.1737\"/>\n",
       "<polygon fill=\"#000000\" stroke=\"#000000\" points=\"286.0468,-46.277 283.4357,-36.009 279.0737,-45.6642 286.0468,-46.277\"/>\n",
       "<text text-anchor=\"middle\" x=\"273.9193\" y=\"-67.4441\" font-family=\"Times,serif\" font-size=\"14.00\" fill=\"#000000\">28</text>\n",
       "</g>\n",
       "<!-- 11 -->\n",
       "<g id=\"node11\" class=\"node\">\n",
       "<title>11</title>\n",
       "<ellipse fill=\"none\" stroke=\"#000000\" cx=\"477.3267\" cy=\"-111.273\" rx=\"27\" ry=\"18\"/>\n",
       "<text text-anchor=\"middle\" x=\"477.3267\" y=\"-107.073\" font-family=\"Times,serif\" font-size=\"14.00\" fill=\"#000000\">11</text>\n",
       "</g>\n",
       "<!-- 6&#45;&gt;11 -->\n",
       "<g id=\"edge18\" class=\"edge\">\n",
       "<title>6&#45;&gt;11</title>\n",
       "<path fill=\"none\" stroke=\"#000000\" d=\"M429.1811,-135.4447C434.519,-132.7648 440.3395,-129.8426 446.0298,-126.9857\"/>\n",
       "<polygon fill=\"#000000\" stroke=\"#000000\" points=\"448.0087,-129.9086 455.3752,-122.2938 444.8679,-123.6528 448.0087,-129.9086\"/>\n",
       "<text text-anchor=\"middle\" x=\"444.6054\" y=\"-134.0152\" font-family=\"Times,serif\" font-size=\"14.00\" fill=\"#000000\">33</text>\n",
       "</g>\n",
       "<!-- 17 -->\n",
       "<g id=\"node17\" class=\"node\">\n",
       "<title>17</title>\n",
       "<ellipse fill=\"none\" stroke=\"#000000\" cx=\"60.9147\" cy=\"-56.5915\" rx=\"27\" ry=\"18\"/>\n",
       "<text text-anchor=\"middle\" x=\"60.9147\" y=\"-52.3915\" font-family=\"Times,serif\" font-size=\"14.00\" fill=\"#000000\">17</text>\n",
       "</g>\n",
       "<!-- 9&#45;&gt;17 -->\n",
       "<g id=\"edge19\" class=\"edge\">\n",
       "<title>9&#45;&gt;17</title>\n",
       "<path fill=\"none\" stroke=\"#000000\" d=\"M104.9858,-100.4362C98.5281,-94.0117 90.8708,-86.3937 83.7655,-79.3249\"/>\n",
       "<polygon fill=\"#000000\" stroke=\"#000000\" points=\"85.9129,-76.5242 76.3551,-71.9526 80.9759,-81.4867 85.9129,-76.5242\"/>\n",
       "<text text-anchor=\"middle\" x=\"87.3757\" y=\"-78.6806\" font-family=\"Times,serif\" font-size=\"14.00\" fill=\"#000000\">46</text>\n",
       "</g>\n",
       "</g>\n",
       "</svg>\n"
      ],
      "text/plain": [
       "DiGraph(DiNode[DiNode(1, Dict{Symbol,Any}()), DiNode(2, Dict{Symbol,Any}()), DiNode(3, Dict{Symbol,Any}()), DiNode(4, Dict{Symbol,Any}()), DiNode(5, Dict{Symbol,Any}()), DiNode(6, Dict{Symbol,Any}()), DiNode(7, Dict{Symbol,Any}()), DiNode(8, Dict{Symbol,Any}()), DiNode(9, Dict{Symbol,Any}()), DiNode(10, Dict{Symbol,Any}()), DiNode(11, Dict{Symbol,Any}()), DiNode(12, Dict{Symbol,Any}()), DiNode(13, Dict{Symbol,Any}()), DiNode(14, Dict{Symbol,Any}()), DiNode(15, Dict{Symbol,Any}()), DiNode(16, Dict{Symbol,Any}()), DiNode(17, Dict{Symbol,Any}()), DiNode(18, Dict{Symbol,Any}()), DiNode(19, Dict{Symbol,Any}()), DiNode(20, Dict{Symbol,Any}())], DiEdge[DiEdge(1=>2, Dict{Symbol,Any}(Pair{Symbol,Any}(:label, 1))), DiEdge(1=>5, Dict{Symbol,Any}(Pair{Symbol,Any}(:label, 2))), DiEdge(1=>10, Dict{Symbol,Any}(Pair{Symbol,Any}(:label, 3))), DiEdge(1=>13, Dict{Symbol,Any}(Pair{Symbol,Any}(:label, 4))), DiEdge(1=>14, Dict{Symbol,Any}(Pair{Symbol,Any}(:label, 5))), DiEdge(2=>6, Dict{Symbol,Any}(Pair{Symbol,Any}(:label, 7))), DiEdge(2=>8, Dict{Symbol,Any}(Pair{Symbol,Any}(:label, 8))), DiEdge(2=>20, Dict{Symbol,Any}(Pair{Symbol,Any}(:label, 10))), DiEdge(3=>1, Dict{Symbol,Any}(Pair{Symbol,Any}(:label, 11))), DiEdge(3=>4, Dict{Symbol,Any}(Pair{Symbol,Any}(:label, 12))), DiEdge(3=>7, Dict{Symbol,Any}(Pair{Symbol,Any}(:label, 14))), DiEdge(3=>9, Dict{Symbol,Any}(Pair{Symbol,Any}(:label, 15))), DiEdge(3=>15, Dict{Symbol,Any}(Pair{Symbol,Any}(:label, 16))), DiEdge(3=>18, Dict{Symbol,Any}(Pair{Symbol,Any}(:label, 17))), DiEdge(3=>19, Dict{Symbol,Any}(Pair{Symbol,Any}(:label, 18))), DiEdge(4=>12, Dict{Symbol,Any}(Pair{Symbol,Any}(:label, 21))), DiEdge(5=>16, Dict{Symbol,Any}(Pair{Symbol,Any}(:label, 28))), DiEdge(6=>11, Dict{Symbol,Any}(Pair{Symbol,Any}(:label, 33))), DiEdge(9=>17, Dict{Symbol,Any}(Pair{Symbol,Any}(:label, 46)))], Dict{Symbol,Any}())"
      ]
     },
     "execution_count": 26,
     "metadata": {},
     "output_type": "execute_result"
    }
   ],
   "source": [
    "tree(randgraph(20, 6))"
   ]
  },
  {
   "cell_type": "markdown",
   "metadata": {},
   "source": [
    "## Graphs and Kirchhoff's circuit laws\n",
    "\n"
   ]
  },
  {
   "cell_type": "markdown",
   "metadata": {},
   "source": [
    "An elegant application of the incidence matrix and its subspaces arises if we think of the graph as representing an **electrical circuit**:\n",
    "\n",
    "* Each edge represents a wire/resistor, with an unknown current $i$.  The *direction* of the edge indicates the *sign convention* ($i>0$ indicates current flowing in the direction of the arrow).\n",
    "* Each node represents a junction, with an unknown voltage $v$.\n",
    "\n",
    "Let's visualize this by re-labeling our graph from above.  We'll use the [SymPy](https://github.com/JuliaPy/SymPy.jl) package to allow us to do *symbolic* (not numeric) calculations with the incidence matrix."
   ]
  },
  {
   "cell_type": "code",
   "execution_count": 27,
   "metadata": {},
   "outputs": [
    {
     "data": {
      "text/plain": [
       "\"v₂ - v₀\""
      ]
     },
     "execution_count": 27,
     "metadata": {},
     "output_type": "execute_result"
    }
   ],
   "source": [
    "# A little code so that we can label graph nodes/edges with SymPy expressions.\n",
    "# convert strings like \"v_2 - v_0\" from SymPy to nicer Unicode strings like \"v₂ - v₀\"\n",
    "subchar(d::Integer) = Char(UInt32('₀')+d)\n",
    "subchar(c::Char) = subchar(UInt32(c)-UInt32('0'))\n",
    "subchar(s::String) = replace(s, r\"_[0-9]\", s -> subchar(s[2]))\n",
    "showprop(io, s::SymPy.Sym) = showprop(io, subchar(stringmime(\"text/plain\", s)))\n",
    "subchar(\"v_2 - v_0\")"
   ]
  },
  {
   "cell_type": "code",
   "execution_count": 28,
   "metadata": {},
   "outputs": [
    {
     "data": {
      "image/svg+xml": [
       "<?xml version=\"1.0\" encoding=\"UTF-8\" standalone=\"no\"?>\n",
       "<!DOCTYPE svg PUBLIC \"-//W3C//DTD SVG 1.1//EN\"\n",
       " \"http://www.w3.org/Graphics/SVG/1.1/DTD/svg11.dtd\">\n",
       "<!-- Generated by graphviz version 2.40.1 (20161225.0304)\n",
       " -->\n",
       "<!-- Title: MyDiGraph Pages: 1 -->\n",
       "<svg width=\"259pt\" height=\"257pt\"\n",
       " viewBox=\"0.00 0.00 258.52 256.56\" xmlns=\"http://www.w3.org/2000/svg\" xmlns:xlink=\"http://www.w3.org/1999/xlink\">\n",
       "<g id=\"graph0\" class=\"graph\" transform=\"scale(1 1) rotate(0) translate(4 252.5612)\">\n",
       "<title>MyDiGraph</title>\n",
       "<polygon fill=\"#ffffff\" stroke=\"transparent\" points=\"-4,4 -4,-252.5612 254.5182,-252.5612 254.5182,4 -4,4\"/>\n",
       "<!-- 1 -->\n",
       "<g id=\"node1\" class=\"node\">\n",
       "<title>1</title>\n",
       "<ellipse fill=\"none\" stroke=\"#000000\" cx=\"27\" cy=\"-140.9451\" rx=\"27\" ry=\"18\"/>\n",
       "<text text-anchor=\"middle\" x=\"27\" y=\"-138.2626\" font-family=\"Times,serif\" font-size=\"14.00\" fill=\"#000000\">v₁</text>\n",
       "</g>\n",
       "<!-- 4 -->\n",
       "<g id=\"node4\" class=\"node\">\n",
       "<title>4</title>\n",
       "<ellipse fill=\"none\" stroke=\"#000000\" cx=\"116.8883\" cy=\"-215.532\" rx=\"27\" ry=\"18\"/>\n",
       "<text text-anchor=\"middle\" x=\"116.8883\" y=\"-212.8496\" font-family=\"Times,serif\" font-size=\"14.00\" fill=\"#000000\">v₄</text>\n",
       "</g>\n",
       "<!-- 1&#45;&gt;4 -->\n",
       "<g id=\"edge1\" class=\"edge\">\n",
       "<title>1&#45;&gt;4</title>\n",
       "<path fill=\"none\" stroke=\"#000000\" d=\"M44.3314,-155.3262C57.8476,-166.5416 76.8036,-182.2708 91.9506,-194.8393\"/>\n",
       "<polygon fill=\"#000000\" stroke=\"#000000\" points=\"89.9843,-197.7558 99.915,-201.448 94.4543,-192.3688 89.9843,-197.7558\"/>\n",
       "<text text-anchor=\"middle\" x=\"63.243\" y=\"-180.9179\" font-family=\"Times,serif\" font-size=\"14.00\" fill=\"#000000\">i₁</text>\n",
       "</g>\n",
       "<!-- 2 -->\n",
       "<g id=\"node2\" class=\"node\">\n",
       "<title>2</title>\n",
       "<ellipse fill=\"none\" stroke=\"#000000\" cx=\"102.2914\" cy=\"-51.6524\" rx=\"27\" ry=\"18\"/>\n",
       "<text text-anchor=\"middle\" x=\"102.2914\" y=\"-48.97\" font-family=\"Times,serif\" font-size=\"14.00\" fill=\"#000000\">v₂</text>\n",
       "</g>\n",
       "<!-- 2&#45;&gt;1 -->\n",
       "<g id=\"edge6\" class=\"edge\">\n",
       "<title>2&#45;&gt;1</title>\n",
       "<path fill=\"none\" stroke=\"#000000\" d=\"M88.8308,-67.6162C77.1606,-81.4566 60.1129,-101.6744 46.8723,-117.3772\"/>\n",
       "<polygon fill=\"#000000\" stroke=\"#000000\" points=\"44.1146,-115.2183 40.3441,-125.1195 49.4661,-119.7307 44.1146,-115.2183\"/>\n",
       "<text text-anchor=\"middle\" x=\"62.9536\" y=\"-98.3319\" font-family=\"Times,serif\" font-size=\"14.00\" fill=\"#000000\">i₆</text>\n",
       "</g>\n",
       "<!-- 6 -->\n",
       "<g id=\"node6\" class=\"node\">\n",
       "<title>6</title>\n",
       "<ellipse fill=\"none\" stroke=\"#000000\" cx=\"192.6702\" cy=\"-126.1901\" rx=\"27\" ry=\"18\"/>\n",
       "<text text-anchor=\"middle\" x=\"192.6702\" y=\"-123.5077\" font-family=\"Times,serif\" font-size=\"14.00\" fill=\"#000000\">v₆</text>\n",
       "</g>\n",
       "<!-- 2&#45;&gt;6 -->\n",
       "<g id=\"edge7\" class=\"edge\">\n",
       "<title>2&#45;&gt;6</title>\n",
       "<path fill=\"none\" stroke=\"#000000\" d=\"M119.2909,-65.6724C132.8382,-76.8452 152.0133,-92.6594 167.3645,-105.3199\"/>\n",
       "<polygon fill=\"#000000\" stroke=\"#000000\" points=\"165.4978,-108.3172 175.4396,-111.9796 169.9517,-102.9168 165.4978,-108.3172\"/>\n",
       "<text text-anchor=\"middle\" x=\"138.4298\" y=\"-91.3313\" font-family=\"Times,serif\" font-size=\"14.00\" fill=\"#000000\">i₇</text>\n",
       "</g>\n",
       "<!-- 3 -->\n",
       "<g id=\"node3\" class=\"node\">\n",
       "<title>3</title>\n",
       "<ellipse fill=\"none\" stroke=\"#000000\" cx=\"204.5704\" cy=\"-18\" rx=\"27\" ry=\"18\"/>\n",
       "<text text-anchor=\"middle\" x=\"204.5704\" y=\"-15.3176\" font-family=\"Times,serif\" font-size=\"14.00\" fill=\"#000000\">v₃</text>\n",
       "</g>\n",
       "<!-- 3&#45;&gt;2 -->\n",
       "<g id=\"edge5\" class=\"edge\">\n",
       "<title>3&#45;&gt;2</title>\n",
       "<path fill=\"none\" stroke=\"#000000\" d=\"M180.3317,-25.9752C167.1806,-30.3022 150.7115,-35.721 136.2962,-40.464\"/>\n",
       "<polygon fill=\"#000000\" stroke=\"#000000\" points=\"135.1157,-37.1677 126.7105,-43.6179 137.3035,-43.8171 135.1157,-37.1677\"/>\n",
       "<text text-anchor=\"middle\" x=\"153.416\" y=\"-39.0547\" font-family=\"Times,serif\" font-size=\"14.00\" fill=\"#000000\">i₅</text>\n",
       "</g>\n",
       "<!-- 5 -->\n",
       "<g id=\"node5\" class=\"node\">\n",
       "<title>5</title>\n",
       "<ellipse fill=\"none\" stroke=\"#000000\" cx=\"223.5182\" cy=\"-230.5612\" rx=\"27\" ry=\"18\"/>\n",
       "<text text-anchor=\"middle\" x=\"223.5182\" y=\"-227.8787\" font-family=\"Times,serif\" font-size=\"14.00\" fill=\"#000000\">v₅</text>\n",
       "</g>\n",
       "<!-- 4&#45;&gt;5 -->\n",
       "<g id=\"edge2\" class=\"edge\">\n",
       "<title>4&#45;&gt;5</title>\n",
       "<path fill=\"none\" stroke=\"#000000\" d=\"M143.5205,-219.2857C156.6248,-221.1327 172.6268,-223.3882 186.8659,-225.3951\"/>\n",
       "<polygon fill=\"#000000\" stroke=\"#000000\" points=\"186.4654,-228.8732 196.856,-226.8032 187.4424,-221.9417 186.4654,-228.8732\"/>\n",
       "<text text-anchor=\"middle\" x=\"160.2953\" y=\"-228.1756\" font-family=\"Times,serif\" font-size=\"14.00\" fill=\"#000000\">i₂</text>\n",
       "</g>\n",
       "<!-- 4&#45;&gt;6 -->\n",
       "<g id=\"edge8\" class=\"edge\">\n",
       "<title>4&#45;&gt;6</title>\n",
       "<path fill=\"none\" stroke=\"#000000\" d=\"M130.4366,-199.5595C142.1828,-185.7114 159.3415,-165.4824 172.6684,-149.771\"/>\n",
       "<polygon fill=\"#000000\" stroke=\"#000000\" points=\"175.4397,-151.9145 179.2392,-142.0244 170.1014,-147.3865 175.4397,-151.9145\"/>\n",
       "<text text-anchor=\"middle\" x=\"146.6545\" y=\"-180.5004\" font-family=\"Times,serif\" font-size=\"14.00\" fill=\"#000000\">i₈</text>\n",
       "</g>\n",
       "<!-- 5&#45;&gt;6 -->\n",
       "<g id=\"edge3\" class=\"edge\">\n",
       "<title>5&#45;&gt;6</title>\n",
       "<path fill=\"none\" stroke=\"#000000\" d=\"M218.2853,-212.856C213.499,-196.6623 206.343,-172.4508 200.8102,-153.7311\"/>\n",
       "<polygon fill=\"#000000\" stroke=\"#000000\" points=\"204.1197,-152.58 197.9288,-143.9821 197.4068,-154.5641 204.1197,-152.58\"/>\n",
       "<text text-anchor=\"middle\" x=\"204.6498\" y=\"-189.1287\" font-family=\"Times,serif\" font-size=\"14.00\" fill=\"#000000\">i₃</text>\n",
       "</g>\n",
       "<!-- 6&#45;&gt;3 -->\n",
       "<g id=\"edge4\" class=\"edge\">\n",
       "<title>6&#45;&gt;3</title>\n",
       "<path fill=\"none\" stroke=\"#000000\" d=\"M194.6889,-107.8372C196.5465,-90.9492 199.3293,-65.6489 201.469,-46.1966\"/>\n",
       "<polygon fill=\"#000000\" stroke=\"#000000\" points=\"204.9671,-46.4047 202.5815,-36.0819 198.009,-45.6393 204.9671,-46.4047\"/>\n",
       "<text text-anchor=\"middle\" x=\"193.181\" y=\"-82.852\" font-family=\"Times,serif\" font-size=\"14.00\" fill=\"#000000\">i₄</text>\n",
       "</g>\n",
       "</g>\n",
       "</svg>\n"
      ],
      "text/plain": [
       "DiGraph(DiNode[DiNode(1, Dict{Symbol,Any}(Pair{Symbol,Any}(:label, v_1))), DiNode(2, Dict{Symbol,Any}(Pair{Symbol,Any}(:label, v_2))), DiNode(3, Dict{Symbol,Any}(Pair{Symbol,Any}(:label, v_3))), DiNode(4, Dict{Symbol,Any}(Pair{Symbol,Any}(:label, v_4))), DiNode(5, Dict{Symbol,Any}(Pair{Symbol,Any}(:label, v_5))), DiNode(6, Dict{Symbol,Any}(Pair{Symbol,Any}(:label, v_6)))], DiEdge[DiEdge(1=>4, Dict{Symbol,Any}(Pair{Symbol,Any}(:label, i_1),Pair{Symbol,Any}(:len, 1.5))), DiEdge(4=>5, Dict{Symbol,Any}(Pair{Symbol,Any}(:label, i_2),Pair{Symbol,Any}(:len, 1.5))), DiEdge(5=>6, Dict{Symbol,Any}(Pair{Symbol,Any}(:label, i_3),Pair{Symbol,Any}(:len, 1.5))), DiEdge(6=>3, Dict{Symbol,Any}(Pair{Symbol,Any}(:label, i_4),Pair{Symbol,Any}(:len, 1.5))), DiEdge(3=>2, Dict{Symbol,Any}(Pair{Symbol,Any}(:label, i_5),Pair{Symbol,Any}(:len, 1.5))), DiEdge(2=>1, Dict{Symbol,Any}(Pair{Symbol,Any}(:label, i_6),Pair{Symbol,Any}(:len, 1.5))), DiEdge(2=>6, Dict{Symbol,Any}(Pair{Symbol,Any}(:label, i_7),Pair{Symbol,Any}(:len, 1.5))), DiEdge(4=>6, Dict{Symbol,Any}(Pair{Symbol,Any}(:label, i_8),Pair{Symbol,Any}(:len, 1.5)))], Dict{Symbol,Any}())"
      ]
     },
     "execution_count": 28,
     "metadata": {},
     "output_type": "execute_result"
    },
    {
     "name": "stderr",
     "output_type": "stream",
     "text": [
      "WARNING: Compat.UTF8String is deprecated, use String instead.\n",
      "  likely near /Users/stevenj/.julia/v0.6/IJulia/src/kernel.jl:31\n",
      "WARNING: Compat.UTF8String is deprecated, use String instead.\n",
      "  likely near /Users/stevenj/.julia/v0.6/IJulia/src/kernel.jl:31\n",
      "WARNING: Compat.UTF8String is deprecated, use String instead.\n",
      "  likely near /Users/stevenj/.julia/v0.6/IJulia/src/kernel.jl:31\n",
      "in jprint at /Users/stevenj/.julia/v0.6/SymPy/src/display.jl\n"
     ]
    }
   ],
   "source": [
    "labels(g, edges=[Sym(\"i_$i\") for i = 1:size(A,1)], nodes=[Sym(\"v_$i\") for i = 1:size(A,2)])"
   ]
  },
  {
   "cell_type": "markdown",
   "metadata": {},
   "source": [
    "### Kirchhoff's voltage law (KVL)\n",
    "\n",
    "Let's start doing some linear algebra.  What happens if we *multiply* our incidence matrix $A$ by a vector of voltages, one per node?"
   ]
  },
  {
   "cell_type": "code",
   "execution_count": 29,
   "metadata": {},
   "outputs": [
    {
     "data": {
      "text/latex": [
       "\\begin{bmatrix}v_{1}\\\\v_{2}\\\\v_{3}\\\\v_{4}\\\\v_{5}\\\\v_{6}\\end{bmatrix}"
      ],
      "text/plain": [
       "6-element Array{SymPy.Sym,1}:\n",
       " v_1\n",
       " v_2\n",
       " v_3\n",
       " v_4\n",
       " v_5\n",
       " v_6"
      ]
     },
     "execution_count": 29,
     "metadata": {},
     "output_type": "execute_result"
    }
   ],
   "source": [
    "v = [Sym(\"v_$i\") for i = 1:size(A,2)]"
   ]
  },
  {
   "cell_type": "code",
   "execution_count": 30,
   "metadata": {},
   "outputs": [
    {
     "data": {
      "text/plain": [
       "8×6 Array{Int64,2}:\n",
       " -1   0   0   1   0   0\n",
       "  0   0   0  -1   1   0\n",
       "  0   0   0   0  -1   1\n",
       "  0   0   1   0   0  -1\n",
       "  0   1  -1   0   0   0\n",
       "  1  -1   0   0   0   0\n",
       "  0  -1   0   0   0   1\n",
       "  0   0   0  -1   0   1"
      ]
     },
     "execution_count": 30,
     "metadata": {},
     "output_type": "execute_result"
    }
   ],
   "source": [
    "A"
   ]
  },
  {
   "cell_type": "code",
   "execution_count": 31,
   "metadata": {},
   "outputs": [
    {
     "data": {
      "text/latex": [
       "\\begin{bmatrix}- v_{1} + v_{4}\\\\- v_{4} + v_{5}\\\\- v_{5} + v_{6}\\\\v_{3} - v_{6}\\\\v_{2} - v_{3}\\\\v_{1} - v_{2}\\\\- v_{2} + v_{6}\\\\- v_{4} + v_{6}\\end{bmatrix}"
      ],
      "text/plain": [
       "8-element Array{SymPy.Sym,1}:\n",
       " -v_1 + v_4\n",
       " -v_4 + v_5\n",
       " -v_5 + v_6\n",
       "  v_3 - v_6\n",
       "  v_2 - v_3\n",
       "  v_1 - v_2\n",
       " -v_2 + v_6\n",
       " -v_4 + v_6"
      ]
     },
     "execution_count": 31,
     "metadata": {},
     "output_type": "execute_result"
    }
   ],
   "source": [
    "A * v"
   ]
  },
  {
   "cell_type": "markdown",
   "metadata": {},
   "source": [
    "What we get are the **voltage difference** (and in particular, the **voltage rise**) across each edge.  It is easier to see this if we use the elements of $Av$ to directly label the edges of our graph:"
   ]
  },
  {
   "cell_type": "code",
   "execution_count": 32,
   "metadata": {},
   "outputs": [
    {
     "data": {
      "image/svg+xml": [
       "<?xml version=\"1.0\" encoding=\"UTF-8\" standalone=\"no\"?>\n",
       "<!DOCTYPE svg PUBLIC \"-//W3C//DTD SVG 1.1//EN\"\n",
       " \"http://www.w3.org/Graphics/SVG/1.1/DTD/svg11.dtd\">\n",
       "<!-- Generated by graphviz version 2.40.1 (20161225.0304)\n",
       " -->\n",
       "<!-- Title: MyDiGraph Pages: 1 -->\n",
       "<svg width=\"259pt\" height=\"257pt\"\n",
       " viewBox=\"0.00 0.00 258.52 256.56\" xmlns=\"http://www.w3.org/2000/svg\" xmlns:xlink=\"http://www.w3.org/1999/xlink\">\n",
       "<g id=\"graph0\" class=\"graph\" transform=\"scale(1 1) rotate(0) translate(4 252.5612)\">\n",
       "<title>MyDiGraph</title>\n",
       "<polygon fill=\"#ffffff\" stroke=\"transparent\" points=\"-4,4 -4,-252.5612 254.5182,-252.5612 254.5182,4 -4,4\"/>\n",
       "<!-- 1 -->\n",
       "<g id=\"node1\" class=\"node\">\n",
       "<title>1</title>\n",
       "<ellipse fill=\"none\" stroke=\"#000000\" cx=\"27\" cy=\"-140.9451\" rx=\"27\" ry=\"18\"/>\n",
       "<text text-anchor=\"middle\" x=\"27\" y=\"-138.2626\" font-family=\"Times,serif\" font-size=\"14.00\" fill=\"#000000\">v₁</text>\n",
       "</g>\n",
       "<!-- 4 -->\n",
       "<g id=\"node4\" class=\"node\">\n",
       "<title>4</title>\n",
       "<ellipse fill=\"none\" stroke=\"#000000\" cx=\"116.8883\" cy=\"-215.532\" rx=\"27\" ry=\"18\"/>\n",
       "<text text-anchor=\"middle\" x=\"116.8883\" y=\"-212.8496\" font-family=\"Times,serif\" font-size=\"14.00\" fill=\"#000000\">v₄</text>\n",
       "</g>\n",
       "<!-- 1&#45;&gt;4 -->\n",
       "<g id=\"edge1\" class=\"edge\">\n",
       "<title>1&#45;&gt;4</title>\n",
       "<path fill=\"none\" stroke=\"#000000\" d=\"M44.3314,-155.3262C57.8476,-166.5416 76.8036,-182.2708 91.9506,-194.8393\"/>\n",
       "<polygon fill=\"#000000\" stroke=\"#000000\" points=\"89.9843,-197.7558 99.915,-201.448 94.4543,-192.3688 89.9843,-197.7558\"/>\n",
       "<text text-anchor=\"middle\" x=\"45.4559\" y=\"-180.9179\" font-family=\"Times,serif\" font-size=\"14.00\" fill=\"#000000\">&#45;v₁ + v₄</text>\n",
       "</g>\n",
       "<!-- 2 -->\n",
       "<g id=\"node2\" class=\"node\">\n",
       "<title>2</title>\n",
       "<ellipse fill=\"none\" stroke=\"#000000\" cx=\"102.2914\" cy=\"-51.6524\" rx=\"27\" ry=\"18\"/>\n",
       "<text text-anchor=\"middle\" x=\"102.2914\" y=\"-48.97\" font-family=\"Times,serif\" font-size=\"14.00\" fill=\"#000000\">v₂</text>\n",
       "</g>\n",
       "<!-- 2&#45;&gt;1 -->\n",
       "<g id=\"edge6\" class=\"edge\">\n",
       "<title>2&#45;&gt;1</title>\n",
       "<path fill=\"none\" stroke=\"#000000\" d=\"M88.8308,-67.6162C77.1606,-81.4566 60.1129,-101.6744 46.8723,-117.3772\"/>\n",
       "<polygon fill=\"#000000\" stroke=\"#000000\" points=\"44.1146,-115.2183 40.3441,-125.1195 49.4661,-119.7307 44.1146,-115.2183\"/>\n",
       "<text text-anchor=\"middle\" x=\"49.1143\" y=\"-98.3319\" font-family=\"Times,serif\" font-size=\"14.00\" fill=\"#000000\">v₁ &#45; v₂</text>\n",
       "</g>\n",
       "<!-- 6 -->\n",
       "<g id=\"node6\" class=\"node\">\n",
       "<title>6</title>\n",
       "<ellipse fill=\"none\" stroke=\"#000000\" cx=\"192.6702\" cy=\"-126.1901\" rx=\"27\" ry=\"18\"/>\n",
       "<text text-anchor=\"middle\" x=\"192.6702\" y=\"-123.5077\" font-family=\"Times,serif\" font-size=\"14.00\" fill=\"#000000\">v₆</text>\n",
       "</g>\n",
       "<!-- 2&#45;&gt;6 -->\n",
       "<g id=\"edge7\" class=\"edge\">\n",
       "<title>2&#45;&gt;6</title>\n",
       "<path fill=\"none\" stroke=\"#000000\" d=\"M119.2909,-65.6724C132.8382,-76.8452 152.0133,-92.6594 167.3645,-105.3199\"/>\n",
       "<polygon fill=\"#000000\" stroke=\"#000000\" points=\"165.4978,-108.3172 175.4396,-111.9796 169.9517,-102.9168 165.4978,-108.3172\"/>\n",
       "<text text-anchor=\"middle\" x=\"120.6427\" y=\"-91.3313\" font-family=\"Times,serif\" font-size=\"14.00\" fill=\"#000000\">&#45;v₂ + v₆</text>\n",
       "</g>\n",
       "<!-- 3 -->\n",
       "<g id=\"node3\" class=\"node\">\n",
       "<title>3</title>\n",
       "<ellipse fill=\"none\" stroke=\"#000000\" cx=\"204.5704\" cy=\"-18\" rx=\"27\" ry=\"18\"/>\n",
       "<text text-anchor=\"middle\" x=\"204.5704\" y=\"-15.3176\" font-family=\"Times,serif\" font-size=\"14.00\" fill=\"#000000\">v₃</text>\n",
       "</g>\n",
       "<!-- 3&#45;&gt;2 -->\n",
       "<g id=\"edge5\" class=\"edge\">\n",
       "<title>3&#45;&gt;2</title>\n",
       "<path fill=\"none\" stroke=\"#000000\" d=\"M180.3317,-25.9752C167.1806,-30.3022 150.7115,-35.721 136.2962,-40.464\"/>\n",
       "<polygon fill=\"#000000\" stroke=\"#000000\" points=\"135.1157,-37.1677 126.7105,-43.6179 137.3035,-43.8171 135.1157,-37.1677\"/>\n",
       "<text text-anchor=\"middle\" x=\"139.5766\" y=\"-22.0196\" font-family=\"Times,serif\" font-size=\"14.00\" fill=\"#000000\">v₂ &#45; v₃</text>\n",
       "</g>\n",
       "<!-- 5 -->\n",
       "<g id=\"node5\" class=\"node\">\n",
       "<title>5</title>\n",
       "<ellipse fill=\"none\" stroke=\"#000000\" cx=\"223.5182\" cy=\"-230.5612\" rx=\"27\" ry=\"18\"/>\n",
       "<text text-anchor=\"middle\" x=\"223.5182\" y=\"-227.8787\" font-family=\"Times,serif\" font-size=\"14.00\" fill=\"#000000\">v₅</text>\n",
       "</g>\n",
       "<!-- 4&#45;&gt;5 -->\n",
       "<g id=\"edge2\" class=\"edge\">\n",
       "<title>4&#45;&gt;5</title>\n",
       "<path fill=\"none\" stroke=\"#000000\" d=\"M143.5205,-219.2857C156.6248,-221.1327 172.6268,-223.3882 186.8659,-225.3951\"/>\n",
       "<polygon fill=\"#000000\" stroke=\"#000000\" points=\"186.4654,-228.8732 196.856,-226.8032 187.4424,-221.9417 186.4654,-228.8732\"/>\n",
       "<text text-anchor=\"middle\" x=\"165.1932\" y=\"-211.1404\" font-family=\"Times,serif\" font-size=\"14.00\" fill=\"#000000\">&#45;v₄ + v₅</text>\n",
       "</g>\n",
       "<!-- 4&#45;&gt;6 -->\n",
       "<g id=\"edge8\" class=\"edge\">\n",
       "<title>4&#45;&gt;6</title>\n",
       "<path fill=\"none\" stroke=\"#000000\" d=\"M130.4366,-199.5595C142.1828,-185.7114 159.3415,-165.4824 172.6684,-149.771\"/>\n",
       "<polygon fill=\"#000000\" stroke=\"#000000\" points=\"175.4397,-151.9145 179.2392,-142.0244 170.1014,-147.3865 175.4397,-151.9145\"/>\n",
       "<text text-anchor=\"middle\" x=\"128.8674\" y=\"-180.5004\" font-family=\"Times,serif\" font-size=\"14.00\" fill=\"#000000\">&#45;v₄ + v₆</text>\n",
       "</g>\n",
       "<!-- 5&#45;&gt;6 -->\n",
       "<g id=\"edge3\" class=\"edge\">\n",
       "<title>5&#45;&gt;6</title>\n",
       "<path fill=\"none\" stroke=\"#000000\" d=\"M218.2853,-212.856C213.499,-196.6623 206.343,-172.4508 200.8102,-153.7311\"/>\n",
       "<polygon fill=\"#000000\" stroke=\"#000000\" points=\"204.1197,-152.58 197.9288,-143.9821 197.4068,-154.5641 204.1197,-152.58\"/>\n",
       "<text text-anchor=\"middle\" x=\"186.8627\" y=\"-189.1287\" font-family=\"Times,serif\" font-size=\"14.00\" fill=\"#000000\">&#45;v₅ + v₆</text>\n",
       "</g>\n",
       "<!-- 6&#45;&gt;3 -->\n",
       "<g id=\"edge4\" class=\"edge\">\n",
       "<title>6&#45;&gt;3</title>\n",
       "<path fill=\"none\" stroke=\"#000000\" d=\"M194.6889,-107.8372C196.5465,-90.9492 199.3293,-65.6489 201.469,-46.1966\"/>\n",
       "<polygon fill=\"#000000\" stroke=\"#000000\" points=\"204.9671,-46.4047 202.5815,-36.0819 198.009,-45.6393 204.9671,-46.4047\"/>\n",
       "<text text-anchor=\"middle\" x=\"179.3416\" y=\"-82.852\" font-family=\"Times,serif\" font-size=\"14.00\" fill=\"#000000\">v₃ &#45; v₆</text>\n",
       "</g>\n",
       "</g>\n",
       "</svg>\n"
      ],
      "text/plain": [
       "DiGraph(DiNode[DiNode(1, Dict{Symbol,Any}(Pair{Symbol,Any}(:label, v_1))), DiNode(2, Dict{Symbol,Any}(Pair{Symbol,Any}(:label, v_2))), DiNode(3, Dict{Symbol,Any}(Pair{Symbol,Any}(:label, v_3))), DiNode(4, Dict{Symbol,Any}(Pair{Symbol,Any}(:label, v_4))), DiNode(5, Dict{Symbol,Any}(Pair{Symbol,Any}(:label, v_5))), DiNode(6, Dict{Symbol,Any}(Pair{Symbol,Any}(:label, v_6)))], DiEdge[DiEdge(1=>4, Dict{Symbol,Any}(Pair{Symbol,Any}(:label, -v_1 + v_4),Pair{Symbol,Any}(:len, 1.5))), DiEdge(4=>5, Dict{Symbol,Any}(Pair{Symbol,Any}(:label, -v_4 + v_5),Pair{Symbol,Any}(:len, 1.5))), DiEdge(5=>6, Dict{Symbol,Any}(Pair{Symbol,Any}(:label, -v_5 + v_6),Pair{Symbol,Any}(:len, 1.5))), DiEdge(6=>3, Dict{Symbol,Any}(Pair{Symbol,Any}(:label, v_3 - v_6),Pair{Symbol,Any}(:len, 1.5))), DiEdge(3=>2, Dict{Symbol,Any}(Pair{Symbol,Any}(:label, v_2 - v_3),Pair{Symbol,Any}(:len, 1.5))), DiEdge(2=>1, Dict{Symbol,Any}(Pair{Symbol,Any}(:label, v_1 - v_2),Pair{Symbol,Any}(:len, 1.5))), DiEdge(2=>6, Dict{Symbol,Any}(Pair{Symbol,Any}(:label, -v_2 + v_6),Pair{Symbol,Any}(:len, 1.5))), DiEdge(4=>6, Dict{Symbol,Any}(Pair{Symbol,Any}(:label, -v_4 + v_6),Pair{Symbol,Any}(:len, 1.5)))], Dict{Symbol,Any}())"
      ]
     },
     "execution_count": 32,
     "metadata": {},
     "output_type": "execute_result"
    }
   ],
   "source": [
    "labels(g, edges=A*v, nodes=v)"
   ]
  },
  {
   "cell_type": "markdown",
   "metadata": {},
   "source": [
    "Now, let's ask the inverse question: **what voltage differences $d=Av$** can possibly arise?  i.e. what $d$ are in $C(A)$? \n",
    "\n",
    "Remember, $A$ is **not full rank**: its rank is 5, but there are 8 rows (8 edges).  So, $C(A)$ is 5-dimensional (\"missing\" three dimensions).  Equivalently $C(A)$ is **orthogonal to the left nullspace**, which has three rows.  What does this mean?\n",
    "\n",
    "Let's visualize the differences d:"
   ]
  },
  {
   "cell_type": "code",
   "execution_count": 33,
   "metadata": {},
   "outputs": [
    {
     "data": {
      "image/svg+xml": [
       "<?xml version=\"1.0\" encoding=\"UTF-8\" standalone=\"no\"?>\n",
       "<!DOCTYPE svg PUBLIC \"-//W3C//DTD SVG 1.1//EN\"\n",
       " \"http://www.w3.org/Graphics/SVG/1.1/DTD/svg11.dtd\">\n",
       "<!-- Generated by graphviz version 2.40.1 (20161225.0304)\n",
       " -->\n",
       "<!-- Title: MyDiGraph Pages: 1 -->\n",
       "<svg width=\"259pt\" height=\"257pt\"\n",
       " viewBox=\"0.00 0.00 258.52 256.56\" xmlns=\"http://www.w3.org/2000/svg\" xmlns:xlink=\"http://www.w3.org/1999/xlink\">\n",
       "<g id=\"graph0\" class=\"graph\" transform=\"scale(1 1) rotate(0) translate(4 252.5612)\">\n",
       "<title>MyDiGraph</title>\n",
       "<polygon fill=\"#ffffff\" stroke=\"transparent\" points=\"-4,4 -4,-252.5612 254.5182,-252.5612 254.5182,4 -4,4\"/>\n",
       "<!-- 1 -->\n",
       "<g id=\"node1\" class=\"node\">\n",
       "<title>1</title>\n",
       "<ellipse fill=\"none\" stroke=\"#000000\" cx=\"27\" cy=\"-140.9451\" rx=\"27\" ry=\"18\"/>\n",
       "<text text-anchor=\"middle\" x=\"27\" y=\"-138.2626\" font-family=\"Times,serif\" font-size=\"14.00\" fill=\"#000000\">v₁</text>\n",
       "</g>\n",
       "<!-- 4 -->\n",
       "<g id=\"node4\" class=\"node\">\n",
       "<title>4</title>\n",
       "<ellipse fill=\"none\" stroke=\"#000000\" cx=\"116.8883\" cy=\"-215.532\" rx=\"27\" ry=\"18\"/>\n",
       "<text text-anchor=\"middle\" x=\"116.8883\" y=\"-212.8496\" font-family=\"Times,serif\" font-size=\"14.00\" fill=\"#000000\">v₄</text>\n",
       "</g>\n",
       "<!-- 1&#45;&gt;4 -->\n",
       "<g id=\"edge1\" class=\"edge\">\n",
       "<title>1&#45;&gt;4</title>\n",
       "<path fill=\"none\" stroke=\"#000000\" d=\"M44.3314,-155.3262C57.8476,-166.5416 76.8036,-182.2708 91.9506,-194.8393\"/>\n",
       "<polygon fill=\"#000000\" stroke=\"#000000\" points=\"89.9843,-197.7558 99.915,-201.448 94.4543,-192.3688 89.9843,-197.7558\"/>\n",
       "<text text-anchor=\"middle\" x=\"61.6879\" y=\"-180.9179\" font-family=\"Times,serif\" font-size=\"14.00\" fill=\"#000000\">d₁</text>\n",
       "</g>\n",
       "<!-- 2 -->\n",
       "<g id=\"node2\" class=\"node\">\n",
       "<title>2</title>\n",
       "<ellipse fill=\"none\" stroke=\"#000000\" cx=\"102.2914\" cy=\"-51.6524\" rx=\"27\" ry=\"18\"/>\n",
       "<text text-anchor=\"middle\" x=\"102.2914\" y=\"-48.97\" font-family=\"Times,serif\" font-size=\"14.00\" fill=\"#000000\">v₂</text>\n",
       "</g>\n",
       "<!-- 2&#45;&gt;1 -->\n",
       "<g id=\"edge6\" class=\"edge\">\n",
       "<title>2&#45;&gt;1</title>\n",
       "<path fill=\"none\" stroke=\"#000000\" d=\"M88.8308,-67.6162C77.1606,-81.4566 60.1129,-101.6744 46.8723,-117.3772\"/>\n",
       "<polygon fill=\"#000000\" stroke=\"#000000\" points=\"44.1146,-115.2183 40.3441,-125.1195 49.4661,-119.7307 44.1146,-115.2183\"/>\n",
       "<text text-anchor=\"middle\" x=\"61.3984\" y=\"-98.3319\" font-family=\"Times,serif\" font-size=\"14.00\" fill=\"#000000\">d₆</text>\n",
       "</g>\n",
       "<!-- 6 -->\n",
       "<g id=\"node6\" class=\"node\">\n",
       "<title>6</title>\n",
       "<ellipse fill=\"none\" stroke=\"#000000\" cx=\"192.6702\" cy=\"-126.1901\" rx=\"27\" ry=\"18\"/>\n",
       "<text text-anchor=\"middle\" x=\"192.6702\" y=\"-123.5077\" font-family=\"Times,serif\" font-size=\"14.00\" fill=\"#000000\">v₆</text>\n",
       "</g>\n",
       "<!-- 2&#45;&gt;6 -->\n",
       "<g id=\"edge7\" class=\"edge\">\n",
       "<title>2&#45;&gt;6</title>\n",
       "<path fill=\"none\" stroke=\"#000000\" d=\"M119.2909,-65.6724C132.8382,-76.8452 152.0133,-92.6594 167.3645,-105.3199\"/>\n",
       "<polygon fill=\"#000000\" stroke=\"#000000\" points=\"165.4978,-108.3172 175.4396,-111.9796 169.9517,-102.9168 165.4978,-108.3172\"/>\n",
       "<text text-anchor=\"middle\" x=\"136.8746\" y=\"-91.3313\" font-family=\"Times,serif\" font-size=\"14.00\" fill=\"#000000\">d₇</text>\n",
       "</g>\n",
       "<!-- 3 -->\n",
       "<g id=\"node3\" class=\"node\">\n",
       "<title>3</title>\n",
       "<ellipse fill=\"none\" stroke=\"#000000\" cx=\"204.5704\" cy=\"-18\" rx=\"27\" ry=\"18\"/>\n",
       "<text text-anchor=\"middle\" x=\"204.5704\" y=\"-15.3176\" font-family=\"Times,serif\" font-size=\"14.00\" fill=\"#000000\">v₃</text>\n",
       "</g>\n",
       "<!-- 3&#45;&gt;2 -->\n",
       "<g id=\"edge5\" class=\"edge\">\n",
       "<title>3&#45;&gt;2</title>\n",
       "<path fill=\"none\" stroke=\"#000000\" d=\"M180.3317,-25.9752C167.1806,-30.3022 150.7115,-35.721 136.2962,-40.464\"/>\n",
       "<polygon fill=\"#000000\" stroke=\"#000000\" points=\"135.1157,-37.1677 126.7105,-43.6179 137.3035,-43.8171 135.1157,-37.1677\"/>\n",
       "<text text-anchor=\"middle\" x=\"151.8608\" y=\"-39.0547\" font-family=\"Times,serif\" font-size=\"14.00\" fill=\"#000000\">d₅</text>\n",
       "</g>\n",
       "<!-- 5 -->\n",
       "<g id=\"node5\" class=\"node\">\n",
       "<title>5</title>\n",
       "<ellipse fill=\"none\" stroke=\"#000000\" cx=\"223.5182\" cy=\"-230.5612\" rx=\"27\" ry=\"18\"/>\n",
       "<text text-anchor=\"middle\" x=\"223.5182\" y=\"-227.8787\" font-family=\"Times,serif\" font-size=\"14.00\" fill=\"#000000\">v₅</text>\n",
       "</g>\n",
       "<!-- 4&#45;&gt;5 -->\n",
       "<g id=\"edge2\" class=\"edge\">\n",
       "<title>4&#45;&gt;5</title>\n",
       "<path fill=\"none\" stroke=\"#000000\" d=\"M143.5205,-219.2857C156.6248,-221.1327 172.6268,-223.3882 186.8659,-225.3951\"/>\n",
       "<polygon fill=\"#000000\" stroke=\"#000000\" points=\"186.4654,-228.8732 196.856,-226.8032 187.4424,-221.9417 186.4654,-228.8732\"/>\n",
       "<text text-anchor=\"middle\" x=\"158.7401\" y=\"-228.1756\" font-family=\"Times,serif\" font-size=\"14.00\" fill=\"#000000\">d₂</text>\n",
       "</g>\n",
       "<!-- 4&#45;&gt;6 -->\n",
       "<g id=\"edge8\" class=\"edge\">\n",
       "<title>4&#45;&gt;6</title>\n",
       "<path fill=\"none\" stroke=\"#000000\" d=\"M130.4366,-199.5595C142.1828,-185.7114 159.3415,-165.4824 172.6684,-149.771\"/>\n",
       "<polygon fill=\"#000000\" stroke=\"#000000\" points=\"175.4397,-151.9145 179.2392,-142.0244 170.1014,-147.3865 175.4397,-151.9145\"/>\n",
       "<text text-anchor=\"middle\" x=\"145.0994\" y=\"-180.5004\" font-family=\"Times,serif\" font-size=\"14.00\" fill=\"#000000\">d₈</text>\n",
       "</g>\n",
       "<!-- 5&#45;&gt;6 -->\n",
       "<g id=\"edge3\" class=\"edge\">\n",
       "<title>5&#45;&gt;6</title>\n",
       "<path fill=\"none\" stroke=\"#000000\" d=\"M218.2853,-212.856C213.499,-196.6623 206.343,-172.4508 200.8102,-153.7311\"/>\n",
       "<polygon fill=\"#000000\" stroke=\"#000000\" points=\"204.1197,-152.58 197.9288,-143.9821 197.4068,-154.5641 204.1197,-152.58\"/>\n",
       "<text text-anchor=\"middle\" x=\"203.0946\" y=\"-189.1287\" font-family=\"Times,serif\" font-size=\"14.00\" fill=\"#000000\">d₃</text>\n",
       "</g>\n",
       "<!-- 6&#45;&gt;3 -->\n",
       "<g id=\"edge4\" class=\"edge\">\n",
       "<title>6&#45;&gt;3</title>\n",
       "<path fill=\"none\" stroke=\"#000000\" d=\"M194.6889,-107.8372C196.5465,-90.9492 199.3293,-65.6489 201.469,-46.1966\"/>\n",
       "<polygon fill=\"#000000\" stroke=\"#000000\" points=\"204.9671,-46.4047 202.5815,-36.0819 198.009,-45.6393 204.9671,-46.4047\"/>\n",
       "<text text-anchor=\"middle\" x=\"191.6258\" y=\"-82.852\" font-family=\"Times,serif\" font-size=\"14.00\" fill=\"#000000\">d₄</text>\n",
       "</g>\n",
       "</g>\n",
       "</svg>\n"
      ],
      "text/plain": [
       "DiGraph(DiNode[DiNode(1, Dict{Symbol,Any}(Pair{Symbol,Any}(:label, v_1))), DiNode(2, Dict{Symbol,Any}(Pair{Symbol,Any}(:label, v_2))), DiNode(3, Dict{Symbol,Any}(Pair{Symbol,Any}(:label, v_3))), DiNode(4, Dict{Symbol,Any}(Pair{Symbol,Any}(:label, v_4))), DiNode(5, Dict{Symbol,Any}(Pair{Symbol,Any}(:label, v_5))), DiNode(6, Dict{Symbol,Any}(Pair{Symbol,Any}(:label, v_6)))], DiEdge[DiEdge(1=>4, Dict{Symbol,Any}(Pair{Symbol,Any}(:label, d_1),Pair{Symbol,Any}(:len, 1.5))), DiEdge(4=>5, Dict{Symbol,Any}(Pair{Symbol,Any}(:label, d_2),Pair{Symbol,Any}(:len, 1.5))), DiEdge(5=>6, Dict{Symbol,Any}(Pair{Symbol,Any}(:label, d_3),Pair{Symbol,Any}(:len, 1.5))), DiEdge(6=>3, Dict{Symbol,Any}(Pair{Symbol,Any}(:label, d_4),Pair{Symbol,Any}(:len, 1.5))), DiEdge(3=>2, Dict{Symbol,Any}(Pair{Symbol,Any}(:label, d_5),Pair{Symbol,Any}(:len, 1.5))), DiEdge(2=>1, Dict{Symbol,Any}(Pair{Symbol,Any}(:label, d_6),Pair{Symbol,Any}(:len, 1.5))), DiEdge(2=>6, Dict{Symbol,Any}(Pair{Symbol,Any}(:label, d_7),Pair{Symbol,Any}(:len, 1.5))), DiEdge(4=>6, Dict{Symbol,Any}(Pair{Symbol,Any}(:label, d_8),Pair{Symbol,Any}(:len, 1.5)))], Dict{Symbol,Any}())"
      ]
     },
     "execution_count": 33,
     "metadata": {},
     "output_type": "execute_result"
    }
   ],
   "source": [
    "d = [Sym(\"d_$j\") for j = 1:size(A,1)]\n",
    "labels(g, edges=d, nodes=v)"
   ]
  },
  {
   "cell_type": "markdown",
   "metadata": {},
   "source": [
    "If $N$ is a basis for the left nullspace, we must have $N^T d = 0$, or:"
   ]
  },
  {
   "cell_type": "code",
   "execution_count": 34,
   "metadata": {},
   "outputs": [
    {
     "data": {
      "text/latex": [
       "\\begin{bmatrix}d_{1} + d_{2} + d_{3} + d_{4} + d_{5} + d_{6}\\\\d_{4} + d_{5} + d_{7}\\\\- d_{2} - d_{3} + d_{8}\\end{bmatrix}"
      ],
      "text/plain": [
       "3-element Array{SymPy.Sym,1}:\n",
       " d_1 + d_2 + d_3 + d_4 + d_5 + d_6\n",
       "                   d_4 + d_5 + d_7\n",
       "                  -d_2 - d_3 + d_8"
      ]
     },
     "execution_count": 34,
     "metadata": {},
     "output_type": "execute_result"
    }
   ],
   "source": [
    "N' * d"
   ]
  },
  {
   "cell_type": "markdown",
   "metadata": {},
   "source": [
    "But what is this?  Remember, each element of the left nullspace corresponded to a **loop in the graph**.  Saying $N^T d = 0$, or $d \\perp N(A^T)$, is equivalent to saying that the **sum of the voltage rises around each loop = 0**.\n",
    "\n",
    "But this is precisely [Kirchhoff's voltage law](https://en.wikipedia.org/wiki/Kirchhoff's_circuit_laws) from circuit theory!"
   ]
  },
  {
   "cell_type": "markdown",
   "metadata": {},
   "source": [
    "### Kirchhoff's current law (KCL)\n",
    "\n",
    "To actually solve circuit problems, we need three additional ingredients:\n",
    "\n",
    "* The voltage difference $d$ must be divided by a resistance $R$ to get the *current* $i$ through that edge: $i = -d/R = -Yd$ (where $Y=1/R$ is the \"admittance\"), by [Ohm's law](https://en.wikipedia.org/wiki/Ohm's_law).  Note that we need a minus sign to get the current in the direction of the arrow, since $d$ was the the voltage *rise* across the edge.\n",
    "\n",
    "* The sum of the currents $i$ entering each node must be zero, by Kirchhoff's current law (KCL).\n",
    "\n",
    "* To get a nontrivial solution, we need some kind of *source*: a battery or current source, to start currents flowing.\n",
    "\n",
    "How do we represent each one of these steps by linear-algebra operations?"
   ]
  },
  {
   "cell_type": "markdown",
   "metadata": {},
   "source": [
    "#### Ohm's law\n",
    "\n",
    "To represent Ohm's law, we need to multiply the voltage differences $d=Av$ by a *diagonal matrix* of admittances:"
   ]
  },
  {
   "cell_type": "code",
   "execution_count": 35,
   "metadata": {},
   "outputs": [
    {
     "data": {
      "text/latex": [
       "\\begin{bmatrix}Y_{1}&0&0&0&0&0&0&0\\\\0&Y_{2}&0&0&0&0&0&0\\\\0&0&Y_{3}&0&0&0&0&0\\\\0&0&0&Y_{4}&0&0&0&0\\\\0&0&0&0&Y_{5}&0&0&0\\\\0&0&0&0&0&Y_{6}&0&0\\\\0&0&0&0&0&0&Y_{7}&0\\\\0&0&0&0&0&0&0&Y_{8}\\end{bmatrix}"
      ],
      "text/plain": [
       "8×8 Array{SymPy.Sym,2}:\n",
       " Y_1    0    0    0    0    0    0    0\n",
       "   0  Y_2    0    0    0    0    0    0\n",
       "   0    0  Y_3    0    0    0    0    0\n",
       "   0    0    0  Y_4    0    0    0    0\n",
       "   0    0    0    0  Y_5    0    0    0\n",
       "   0    0    0    0    0  Y_6    0    0\n",
       "   0    0    0    0    0    0  Y_7    0\n",
       "   0    0    0    0    0    0    0  Y_8"
      ]
     },
     "execution_count": 35,
     "metadata": {},
     "output_type": "execute_result"
    }
   ],
   "source": [
    "Y = diagm([Sym(\"Y_$i\") for i = 1:size(A,1)])"
   ]
  },
  {
   "cell_type": "code",
   "execution_count": 36,
   "metadata": {},
   "outputs": [
    {
     "data": {
      "text/latex": [
       "\\begin{bmatrix}Y_{1} d_{1}\\\\Y_{2} d_{2}\\\\Y_{3} d_{3}\\\\Y_{4} d_{4}\\\\Y_{5} d_{5}\\\\Y_{6} d_{6}\\\\Y_{7} d_{7}\\\\Y_{8} d_{8}\\end{bmatrix}"
      ],
      "text/plain": [
       "8-element Array{SymPy.Sym,1}:\n",
       " Y_1*d_1\n",
       " Y_2*d_2\n",
       " Y_3*d_3\n",
       " Y_4*d_4\n",
       " Y_5*d_5\n",
       " Y_6*d_6\n",
       " Y_7*d_7\n",
       " Y_8*d_8"
      ]
     },
     "execution_count": 36,
     "metadata": {},
     "output_type": "execute_result"
    }
   ],
   "source": [
    "Y*d"
   ]
  },
  {
   "cell_type": "code",
   "execution_count": 37,
   "metadata": {},
   "outputs": [
    {
     "data": {
      "text/latex": [
       "\\begin{bmatrix}- Y_{1} v_{1} + Y_{1} v_{4}\\\\- Y_{2} v_{4} + Y_{2} v_{5}\\\\- Y_{3} v_{5} + Y_{3} v_{6}\\\\Y_{4} v_{3} - Y_{4} v_{6}\\\\Y_{5} v_{2} - Y_{5} v_{3}\\\\Y_{6} v_{1} - Y_{6} v_{2}\\\\- Y_{7} v_{2} + Y_{7} v_{6}\\\\- Y_{8} v_{4} + Y_{8} v_{6}\\end{bmatrix}"
      ],
      "text/plain": [
       "8-element Array{SymPy.Sym,1}:\n",
       " -Y_1*v_1 + Y_1*v_4\n",
       " -Y_2*v_4 + Y_2*v_5\n",
       " -Y_3*v_5 + Y_3*v_6\n",
       "  Y_4*v_3 - Y_4*v_6\n",
       "  Y_5*v_2 - Y_5*v_3\n",
       "  Y_6*v_1 - Y_6*v_2\n",
       " -Y_7*v_2 + Y_7*v_6\n",
       " -Y_8*v_4 + Y_8*v_6"
      ]
     },
     "execution_count": 37,
     "metadata": {},
     "output_type": "execute_result"
    }
   ],
   "source": [
    "Y*A*v"
   ]
  },
  {
   "cell_type": "markdown",
   "metadata": {},
   "source": [
    "#### Net current into each node\n",
    "\n",
    "Given the currents $i$, a little thought shows that the net current flowing into each node is precisely $A^T i$:"
   ]
  },
  {
   "cell_type": "code",
   "execution_count": 38,
   "metadata": {},
   "outputs": [
    {
     "data": {
      "text/latex": [
       "\\begin{bmatrix}- i_{1} + i_{6}\\\\i_{5} - i_{6} - i_{7}\\\\i_{4} - i_{5}\\\\i_{1} - i_{2} - i_{8}\\\\i_{2} - i_{3}\\\\i_{3} - i_{4} + i_{7} + i_{8}\\end{bmatrix}"
      ],
      "text/plain": [
       "6-element Array{SymPy.Sym,1}:\n",
       "            -i_1 + i_6\n",
       "       i_5 - i_6 - i_7\n",
       "             i_4 - i_5\n",
       "       i_1 - i_2 - i_8\n",
       "             i_2 - i_3\n",
       " i_3 - i_4 + i_7 + i_8"
      ]
     },
     "execution_count": 38,
     "metadata": {},
     "output_type": "execute_result"
    }
   ],
   "source": [
    "i = [Sym(\"i_$j\") for j=1:size(A,1)]\n",
    "A'*i"
   ]
  },
  {
   "cell_type": "code",
   "execution_count": 39,
   "metadata": {},
   "outputs": [
    {
     "data": {
      "image/svg+xml": [
       "<?xml version=\"1.0\" encoding=\"UTF-8\" standalone=\"no\"?>\n",
       "<!DOCTYPE svg PUBLIC \"-//W3C//DTD SVG 1.1//EN\"\n",
       " \"http://www.w3.org/Graphics/SVG/1.1/DTD/svg11.dtd\">\n",
       "<!-- Generated by graphviz version 2.40.1 (20161225.0304)\n",
       " -->\n",
       "<!-- Title: MyDiGraph Pages: 1 -->\n",
       "<svg width=\"279pt\" height=\"257pt\"\n",
       " viewBox=\"0.00 0.00 279.28 256.56\" xmlns=\"http://www.w3.org/2000/svg\" xmlns:xlink=\"http://www.w3.org/1999/xlink\">\n",
       "<g id=\"graph0\" class=\"graph\" transform=\"scale(1 1) rotate(0) translate(4 252.5612)\">\n",
       "<title>MyDiGraph</title>\n",
       "<polygon fill=\"#ffffff\" stroke=\"transparent\" points=\"-4,4 -4,-252.5612 275.2822,-252.5612 275.2822,4 -4,4\"/>\n",
       "<!-- 1 -->\n",
       "<g id=\"node1\" class=\"node\">\n",
       "<title>1</title>\n",
       "<ellipse fill=\"none\" stroke=\"#000000\" cx=\"38.3727\" cy=\"-140.9451\" rx=\"38.2458\" ry=\"18\"/>\n",
       "<text text-anchor=\"middle\" x=\"38.3727\" y=\"-138.2626\" font-family=\"Times,serif\" font-size=\"14.00\" fill=\"#000000\">&#45;i₁ + i₆</text>\n",
       "</g>\n",
       "<!-- 4 -->\n",
       "<g id=\"node4\" class=\"node\">\n",
       "<title>4</title>\n",
       "<ellipse fill=\"none\" stroke=\"#000000\" cx=\"128.261\" cy=\"-215.532\" rx=\"47.6196\" ry=\"18\"/>\n",
       "<text text-anchor=\"middle\" x=\"128.261\" y=\"-212.8496\" font-family=\"Times,serif\" font-size=\"14.00\" fill=\"#000000\">i₁ &#45; i₂ &#45; i₈</text>\n",
       "</g>\n",
       "<!-- 1&#45;&gt;4 -->\n",
       "<g id=\"edge1\" class=\"edge\">\n",
       "<title>1&#45;&gt;4</title>\n",
       "<path fill=\"none\" stroke=\"#000000\" d=\"M57.4357,-156.763C69.9289,-167.1296 86.4694,-180.8544 100.4238,-192.4334\"/>\n",
       "<polygon fill=\"#000000\" stroke=\"#000000\" points=\"98.3603,-195.2692 108.2909,-198.9614 102.8302,-189.8822 98.3603,-195.2692\"/>\n",
       "<text text-anchor=\"middle\" x=\"74.0318\" y=\"-180.4334\" font-family=\"Times,serif\" font-size=\"14.00\" fill=\"#000000\">i₁</text>\n",
       "</g>\n",
       "<!-- 2 -->\n",
       "<g id=\"node2\" class=\"node\">\n",
       "<title>2</title>\n",
       "<ellipse fill=\"none\" stroke=\"#000000\" cx=\"113.6641\" cy=\"-51.6524\" rx=\"47.6196\" ry=\"18\"/>\n",
       "<text text-anchor=\"middle\" x=\"113.6641\" y=\"-48.97\" font-family=\"Times,serif\" font-size=\"14.00\" fill=\"#000000\">i₅ &#45; i₆ &#45; i₇</text>\n",
       "</g>\n",
       "<!-- 2&#45;&gt;1 -->\n",
       "<g id=\"edge6\" class=\"edge\">\n",
       "<title>2&#45;&gt;1</title>\n",
       "<path fill=\"none\" stroke=\"#000000\" d=\"M99.1471,-68.869C87.8258,-82.2956 71.948,-101.126 59.2608,-116.1726\"/>\n",
       "<polygon fill=\"#000000\" stroke=\"#000000\" points=\"56.3602,-114.183 52.5897,-124.0842 61.7117,-118.6954 56.3602,-114.183\"/>\n",
       "<text text-anchor=\"middle\" x=\"74.306\" y=\"-98.3559\" font-family=\"Times,serif\" font-size=\"14.00\" fill=\"#000000\">i₆</text>\n",
       "</g>\n",
       "<!-- 6 -->\n",
       "<g id=\"node6\" class=\"node\">\n",
       "<title>6</title>\n",
       "<ellipse fill=\"none\" stroke=\"#000000\" cx=\"204.0429\" cy=\"-126.1901\" rx=\"67.4795\" ry=\"18\"/>\n",
       "<text text-anchor=\"middle\" x=\"204.0429\" y=\"-123.5077\" font-family=\"Times,serif\" font-size=\"14.00\" fill=\"#000000\">i₃ &#45; i₄ + i₇ + i₈</text>\n",
       "</g>\n",
       "<!-- 2&#45;&gt;6 -->\n",
       "<g id=\"edge7\" class=\"edge\">\n",
       "<title>2&#45;&gt;6</title>\n",
       "<path fill=\"none\" stroke=\"#000000\" d=\"M133.722,-68.1948C145.8667,-78.2108 161.5623,-91.1553 175.0429,-102.2732\"/>\n",
       "<polygon fill=\"#000000\" stroke=\"#000000\" points=\"173.157,-105.2546 183.0988,-108.917 177.6109,-99.8542 173.157,-105.2546\"/>\n",
       "<text text-anchor=\"middle\" x=\"149.4845\" y=\"-91.0691\" font-family=\"Times,serif\" font-size=\"14.00\" fill=\"#000000\">i₇</text>\n",
       "</g>\n",
       "<!-- 3 -->\n",
       "<g id=\"node3\" class=\"node\">\n",
       "<title>3</title>\n",
       "<ellipse fill=\"none\" stroke=\"#000000\" cx=\"215.9431\" cy=\"-18\" rx=\"32.7585\" ry=\"18\"/>\n",
       "<text text-anchor=\"middle\" x=\"215.9431\" y=\"-15.3176\" font-family=\"Times,serif\" font-size=\"14.00\" fill=\"#000000\">i₄ &#45; i₅</text>\n",
       "</g>\n",
       "<!-- 3&#45;&gt;2 -->\n",
       "<g id=\"edge5\" class=\"edge\">\n",
       "<title>3&#45;&gt;2</title>\n",
       "<path fill=\"none\" stroke=\"#000000\" d=\"M187.7241,-27.2848C178.9435,-30.1738 169.0262,-33.4369 159.3702,-36.6139\"/>\n",
       "<polygon fill=\"#000000\" stroke=\"#000000\" points=\"158.2582,-33.2951 149.8531,-39.7453 160.4461,-39.9445 158.2582,-33.2951\"/>\n",
       "<text text-anchor=\"middle\" x=\"168.6492\" y=\"-37.7845\" font-family=\"Times,serif\" font-size=\"14.00\" fill=\"#000000\">i₅</text>\n",
       "</g>\n",
       "<!-- 5 -->\n",
       "<g id=\"node5\" class=\"node\">\n",
       "<title>5</title>\n",
       "<ellipse fill=\"none\" stroke=\"#000000\" cx=\"234.8909\" cy=\"-230.5612\" rx=\"32.7585\" ry=\"18\"/>\n",
       "<text text-anchor=\"middle\" x=\"234.8909\" y=\"-227.8787\" font-family=\"Times,serif\" font-size=\"14.00\" fill=\"#000000\">i₂ &#45; i₃</text>\n",
       "</g>\n",
       "<!-- 4&#45;&gt;5 -->\n",
       "<g id=\"edge2\" class=\"edge\">\n",
       "<title>4&#45;&gt;5</title>\n",
       "<path fill=\"none\" stroke=\"#000000\" d=\"M173.1726,-221.8621C179.7465,-222.7887 186.4952,-223.7399 193.0053,-224.6575\"/>\n",
       "<polygon fill=\"#000000\" stroke=\"#000000\" points=\"192.589,-228.1333 202.9797,-226.0634 193.5661,-221.2019 192.589,-228.1333\"/>\n",
       "<text text-anchor=\"middle\" x=\"187.9869\" y=\"-229.095\" font-family=\"Times,serif\" font-size=\"14.00\" fill=\"#000000\">i₂</text>\n",
       "</g>\n",
       "<!-- 4&#45;&gt;6 -->\n",
       "<g id=\"edge8\" class=\"edge\">\n",
       "<title>4&#45;&gt;6</title>\n",
       "<path fill=\"none\" stroke=\"#000000\" d=\"M142.8725,-198.306C154.0498,-185.1286 169.6397,-166.7492 182.2832,-151.8434\"/>\n",
       "<polygon fill=\"#000000\" stroke=\"#000000\" points=\"185.158,-153.8649 188.9575,-143.9748 179.8197,-149.3368 185.158,-153.8649\"/>\n",
       "<text text-anchor=\"middle\" x=\"157.6799\" y=\"-180.9098\" font-family=\"Times,serif\" font-size=\"14.00\" fill=\"#000000\">i₈</text>\n",
       "</g>\n",
       "<!-- 5&#45;&gt;6 -->\n",
       "<g id=\"edge3\" class=\"edge\">\n",
       "<title>5&#45;&gt;6</title>\n",
       "<path fill=\"none\" stroke=\"#000000\" d=\"M229.5176,-212.3811C224.7403,-196.2177 217.6846,-172.3454 212.2093,-153.8205\"/>\n",
       "<polygon fill=\"#000000\" stroke=\"#000000\" points=\"215.5455,-152.7597 209.3546,-144.1619 208.8326,-154.7438 215.5455,-152.7597\"/>\n",
       "<text text-anchor=\"middle\" x=\"215.9655\" y=\"-188.9359\" font-family=\"Times,serif\" font-size=\"14.00\" fill=\"#000000\">i₃</text>\n",
       "</g>\n",
       "<!-- 6&#45;&gt;3 -->\n",
       "<g id=\"edge4\" class=\"edge\">\n",
       "<title>6&#45;&gt;3</title>\n",
       "<path fill=\"none\" stroke=\"#000000\" d=\"M206.0616,-107.8372C207.9191,-90.9492 210.702,-65.6489 212.8416,-46.1966\"/>\n",
       "<polygon fill=\"#000000\" stroke=\"#000000\" points=\"216.3398,-46.4047 213.9542,-36.0819 209.3817,-45.6393 216.3398,-46.4047\"/>\n",
       "<text text-anchor=\"middle\" x=\"204.5536\" y=\"-82.852\" font-family=\"Times,serif\" font-size=\"14.00\" fill=\"#000000\">i₄</text>\n",
       "</g>\n",
       "</g>\n",
       "</svg>\n"
      ],
      "text/plain": [
       "DiGraph(DiNode[DiNode(1, Dict{Symbol,Any}(Pair{Symbol,Any}(:label, -i_1 + i_6))), DiNode(2, Dict{Symbol,Any}(Pair{Symbol,Any}(:label, i_5 - i_6 - i_7))), DiNode(3, Dict{Symbol,Any}(Pair{Symbol,Any}(:label, i_4 - i_5))), DiNode(4, Dict{Symbol,Any}(Pair{Symbol,Any}(:label, i_1 - i_2 - i_8))), DiNode(5, Dict{Symbol,Any}(Pair{Symbol,Any}(:label, i_2 - i_3))), DiNode(6, Dict{Symbol,Any}(Pair{Symbol,Any}(:label, i_3 - i_4 + i_7 + i_8)))], DiEdge[DiEdge(1=>4, Dict{Symbol,Any}(Pair{Symbol,Any}(:label, i_1),Pair{Symbol,Any}(:len, 1.5))), DiEdge(4=>5, Dict{Symbol,Any}(Pair{Symbol,Any}(:label, i_2),Pair{Symbol,Any}(:len, 1.5))), DiEdge(5=>6, Dict{Symbol,Any}(Pair{Symbol,Any}(:label, i_3),Pair{Symbol,Any}(:len, 1.5))), DiEdge(6=>3, Dict{Symbol,Any}(Pair{Symbol,Any}(:label, i_4),Pair{Symbol,Any}(:len, 1.5))), DiEdge(3=>2, Dict{Symbol,Any}(Pair{Symbol,Any}(:label, i_5),Pair{Symbol,Any}(:len, 1.5))), DiEdge(2=>1, Dict{Symbol,Any}(Pair{Symbol,Any}(:label, i_6),Pair{Symbol,Any}(:len, 1.5))), DiEdge(2=>6, Dict{Symbol,Any}(Pair{Symbol,Any}(:label, i_7),Pair{Symbol,Any}(:len, 1.5))), DiEdge(4=>6, Dict{Symbol,Any}(Pair{Symbol,Any}(:label, i_8),Pair{Symbol,Any}(:len, 1.5)))], Dict{Symbol,Any}())"
      ]
     },
     "execution_count": 39,
     "metadata": {},
     "output_type": "execute_result"
    }
   ],
   "source": [
    "labels(g, edges=i, nodes=A'*i)"
   ]
  },
  {
   "cell_type": "markdown",
   "metadata": {},
   "source": [
    "Why is this?  The reason is that each row $A^T$ corresponds to a node, and has $\\pm 1$ for each edge going into or out of the node, exactly the right sign to sum the net currents flowing in:"
   ]
  },
  {
   "cell_type": "code",
   "execution_count": 40,
   "metadata": {},
   "outputs": [
    {
     "data": {
      "text/plain": [
       "6×8 Array{Int64,2}:\n",
       " -1   0   0   0   0   1   0   0\n",
       "  0   0   0   0   1  -1  -1   0\n",
       "  0   0   0   1  -1   0   0   0\n",
       "  1  -1   0   0   0   0   0  -1\n",
       "  0   1  -1   0   0   0   0   0\n",
       "  0   0   1  -1   0   0   1   1"
      ]
     },
     "execution_count": 40,
     "metadata": {},
     "output_type": "execute_result"
    }
   ],
   "source": [
    "A'"
   ]
  },
  {
   "cell_type": "markdown",
   "metadata": {},
   "source": [
    "Putting it together, given voltages $v$, the net current flowing **out of** each node is\n",
    "\n",
    "$$\n",
    "A^T Y A v\n",
    "$$\n",
    "\n",
    "The matrix $A^T Y A$ is a very special and important kind of matrix.  It is obviously **symmetric**, and later on in the course we will see that any matrix of this form is necessarily **positive semidefinite** (all pivots are ≥ 0).   Many important matrices in science, engineering, statistics, and other fields take on this special form.\n",
    "\n",
    "If we multiply $A^T Y A$ together, not all of its specialness is apparent.  It is often better to leave it in \"factored\" form:"
   ]
  },
  {
   "cell_type": "code",
   "execution_count": 41,
   "metadata": {},
   "outputs": [
    {
     "data": {
      "text/latex": [
       "\\begin{bmatrix}Y_{1} + Y_{6}&- Y_{6}&0&- Y_{1}&0&0\\\\- Y_{6}&Y_{5} + Y_{6} + Y_{7}&- Y_{5}&0&0&- Y_{7}\\\\0&- Y_{5}&Y_{4} + Y_{5}&0&0&- Y_{4}\\\\- Y_{1}&0&0&Y_{1} + Y_{2} + Y_{8}&- Y_{2}&- Y_{8}\\\\0&0&0&- Y_{2}&Y_{2} + Y_{3}&- Y_{3}\\\\0&- Y_{7}&- Y_{4}&- Y_{8}&- Y_{3}&Y_{3} + Y_{4} + Y_{7} + Y_{8}\\end{bmatrix}"
      ],
      "text/plain": [
       "6×6 Array{SymPy.Sym,2}:\n",
       " Y_1 + Y_6             -Y_6          0  …          0                      0\n",
       "      -Y_6  Y_5 + Y_6 + Y_7       -Y_5             0                   -Y_7\n",
       "         0             -Y_5  Y_4 + Y_5             0                   -Y_4\n",
       "      -Y_1                0          0          -Y_2                   -Y_8\n",
       "         0                0          0     Y_2 + Y_3                   -Y_3\n",
       "         0             -Y_7       -Y_4  …       -Y_3  Y_3 + Y_4 + Y_7 + Y_8"
      ]
     },
     "execution_count": 41,
     "metadata": {},
     "output_type": "execute_result"
    }
   ],
   "source": [
    "A' * Y * A"
   ]
  },
  {
   "cell_type": "markdown",
   "metadata": {},
   "source": [
    "#### Null space\n",
    "\n",
    "If we just say that the net current flowing out of each node is zero, we get the equation:\n",
    "$$\n",
    "A^T Y A v = 0\n",
    "$$\n",
    "or $v \\in N(A^T Y A) = N(A)$.\n",
    "\n",
    "It is an amazing and important fact that $N(A^T Y A) = N(A)$!!  (You saw a version of this in homework.)   Why is this?  Clearly, if $Ax = 0$ then $A^T Y Ax=0$.  But what about the converse?  Here is a trick: if $A^T Y Ax =0$, then $x^T A^T Y A x=0 = (Ax)^T Y (Ax)$.  Let $y=Ax$.  It is easy to see that $y^T Y y = \\sum_i Y_i y_i^2 = 0$ only if $y=0$, since all of the admittances $Y_i$ are positive.  (We will later say that $Y$ is a \"positive-definite matrix\".)  This means that $A^T Y Ax =0$ implies that $y=Ax=0$, which implies that $x \\in N(A)$.\n",
    "\n",
    "What is $N(A)$? The rank of $A$ is 5, so $N(A)$ must be **1-dimensional**.  A basis for it is:"
   ]
  },
  {
   "cell_type": "code",
   "execution_count": 42,
   "metadata": {},
   "outputs": [
    {
     "data": {
      "text/plain": [
       "6×1 Array{Float64,2}:\n",
       " 0.408248\n",
       " 0.408248\n",
       " 0.408248\n",
       " 0.408248\n",
       " 0.408248\n",
       " 0.408248"
      ]
     },
     "execution_count": 42,
     "metadata": {},
     "output_type": "execute_result"
    }
   ],
   "source": [
    "nullspace(A)"
   ]
  },
  {
   "cell_type": "markdown",
   "metadata": {
    "collapsed": true
   },
   "source": [
    "But this is, of course, just the space of vectors where **all voltages are equal**.   In hindsight, this should be obvious: if all the voltages are equal, then their difference are zero, and the currents are zero, and KCL is satisfied."
   ]
  },
  {
   "cell_type": "markdown",
   "metadata": {},
   "source": [
    "### Current sources\n",
    "\n",
    "Of course, it is much more interesting to think about circuits when the currents are nonzero!\n",
    "\n",
    "To do this, we must consider a **source term** in the equations, and in particular we could try to solve\n",
    "\n",
    "$$\n",
    "A^T Y A v = s\n",
    "$$\n",
    "\n",
    "for some $s\\ne 0$.  What does $s$ represent?  It is precisely an **external source of current** flowing **out of each node**.\n",
    "\n",
    "For this to have a solution, however, we must have $s \\in C(A^T Y A) = N((A^T Y A)^T)^\\perp = N(A^T Y A)^\\perp = N(A)^\\perp$ (since $A^T Y A$ is symmetric, the left and right nullspaces are equal).  We know a basis for $N(A)$ from above, so this boils down to:\n",
    "\n",
    "$$\n",
    "\\begin{pmatrix} 1 & 1 & 1 & 1 & 1 & 1 \\end{pmatrix} s = 0 = \\sum_{i=1}^6 s_i\n",
    "$$\n",
    "\n",
    "That is, to have a solution, **all current that flows in must flow out**, so that the net current flowing into the circuit is zero.  This makes a lot of physical sense!"
   ]
  },
  {
   "cell_type": "markdown",
   "metadata": {},
   "source": [
    "Just for fun, let's solve this circuit problem when the current is flowing **into node 2** and **out through node 1**, with slider controls for the 8 admittances, and label the edges with the currents."
   ]
  },
  {
   "cell_type": "code",
   "execution_count": 43,
   "metadata": {},
   "outputs": [
    {
     "data": {
      "text/plain": [
       "twodigits (generic function with 1 method)"
      ]
     },
     "execution_count": 43,
     "metadata": {},
     "output_type": "execute_result"
    }
   ],
   "source": [
    "twodigits(x) = round(x, 2)"
   ]
  },
  {
   "cell_type": "code",
   "execution_count": 44,
   "metadata": {},
   "outputs": [
    {
     "data": {
      "text/html": [],
      "text/plain": [
       "Interact.Options{:SelectionSlider,Float64}(9: \"input-3\" = 5.0 Float64 , \"Y₁\", 5.0, \"5.0\", Interact.OptionDict(DataStructures.OrderedDict(\"0.1\"=>0.1,\"0.2\"=>0.2,\"0.3\"=>0.3,\"0.4\"=>0.4,\"0.5\"=>0.5,\"0.6\"=>0.6,\"0.7\"=>0.7,\"0.8\"=>0.8,\"0.9\"=>0.9,\"1.0\"=>1.0…), Dict(1.2=>\"1.2\",4.3=>\"4.3\",9.6=>\"9.6\",2.0=>\"2.0\",1.5=>\"1.5\",7.1=>\"7.1\",1.4=>\"1.4\",7.4=>\"7.4\",6.2=>\"6.2\",0.2=>\"0.2\"…)), Any[], Any[], true, \"horizontal\")"
      ]
     },
     "metadata": {},
     "output_type": "display_data"
    },
    {
     "data": {
      "text/html": [],
      "text/plain": [
       "Interact.Options{:SelectionSlider,Float64}(11: \"input-4\" = 5.0 Float64 , \"Y₂\", 5.0, \"5.0\", Interact.OptionDict(DataStructures.OrderedDict(\"0.1\"=>0.1,\"0.2\"=>0.2,\"0.3\"=>0.3,\"0.4\"=>0.4,\"0.5\"=>0.5,\"0.6\"=>0.6,\"0.7\"=>0.7,\"0.8\"=>0.8,\"0.9\"=>0.9,\"1.0\"=>1.0…), Dict(1.2=>\"1.2\",4.3=>\"4.3\",9.6=>\"9.6\",2.0=>\"2.0\",1.5=>\"1.5\",7.1=>\"7.1\",1.4=>\"1.4\",7.4=>\"7.4\",6.2=>\"6.2\",0.2=>\"0.2\"…)), Any[], Any[], true, \"horizontal\")"
      ]
     },
     "metadata": {},
     "output_type": "display_data"
    },
    {
     "data": {
      "text/html": [],
      "text/plain": [
       "Interact.Options{:SelectionSlider,Float64}(13: \"input-5\" = 5.0 Float64 , \"Y₃\", 5.0, \"5.0\", Interact.OptionDict(DataStructures.OrderedDict(\"0.1\"=>0.1,\"0.2\"=>0.2,\"0.3\"=>0.3,\"0.4\"=>0.4,\"0.5\"=>0.5,\"0.6\"=>0.6,\"0.7\"=>0.7,\"0.8\"=>0.8,\"0.9\"=>0.9,\"1.0\"=>1.0…), Dict(1.2=>\"1.2\",4.3=>\"4.3\",9.6=>\"9.6\",2.0=>\"2.0\",1.5=>\"1.5\",7.1=>\"7.1\",1.4=>\"1.4\",7.4=>\"7.4\",6.2=>\"6.2\",0.2=>\"0.2\"…)), Any[], Any[], true, \"horizontal\")"
      ]
     },
     "metadata": {},
     "output_type": "display_data"
    },
    {
     "data": {
      "text/html": [],
      "text/plain": [
       "Interact.Options{:SelectionSlider,Float64}(15: \"input-6\" = 5.0 Float64 , \"Y₄\", 5.0, \"5.0\", Interact.OptionDict(DataStructures.OrderedDict(\"0.1\"=>0.1,\"0.2\"=>0.2,\"0.3\"=>0.3,\"0.4\"=>0.4,\"0.5\"=>0.5,\"0.6\"=>0.6,\"0.7\"=>0.7,\"0.8\"=>0.8,\"0.9\"=>0.9,\"1.0\"=>1.0…), Dict(1.2=>\"1.2\",4.3=>\"4.3\",9.6=>\"9.6\",2.0=>\"2.0\",1.5=>\"1.5\",7.1=>\"7.1\",1.4=>\"1.4\",7.4=>\"7.4\",6.2=>\"6.2\",0.2=>\"0.2\"…)), Any[], Any[], true, \"horizontal\")"
      ]
     },
     "metadata": {},
     "output_type": "display_data"
    },
    {
     "data": {
      "text/html": [],
      "text/plain": [
       "Interact.Options{:SelectionSlider,Float64}(17: \"input-7\" = 5.0 Float64 , \"Y₅\", 5.0, \"5.0\", Interact.OptionDict(DataStructures.OrderedDict(\"0.1\"=>0.1,\"0.2\"=>0.2,\"0.3\"=>0.3,\"0.4\"=>0.4,\"0.5\"=>0.5,\"0.6\"=>0.6,\"0.7\"=>0.7,\"0.8\"=>0.8,\"0.9\"=>0.9,\"1.0\"=>1.0…), Dict(1.2=>\"1.2\",4.3=>\"4.3\",9.6=>\"9.6\",2.0=>\"2.0\",1.5=>\"1.5\",7.1=>\"7.1\",1.4=>\"1.4\",7.4=>\"7.4\",6.2=>\"6.2\",0.2=>\"0.2\"…)), Any[], Any[], true, \"horizontal\")"
      ]
     },
     "metadata": {},
     "output_type": "display_data"
    },
    {
     "data": {
      "text/html": [],
      "text/plain": [
       "Interact.Options{:SelectionSlider,Float64}(19: \"input-8\" = 5.0 Float64 , \"Y₆\", 5.0, \"5.0\", Interact.OptionDict(DataStructures.OrderedDict(\"0.1\"=>0.1,\"0.2\"=>0.2,\"0.3\"=>0.3,\"0.4\"=>0.4,\"0.5\"=>0.5,\"0.6\"=>0.6,\"0.7\"=>0.7,\"0.8\"=>0.8,\"0.9\"=>0.9,\"1.0\"=>1.0…), Dict(1.2=>\"1.2\",4.3=>\"4.3\",9.6=>\"9.6\",2.0=>\"2.0\",1.5=>\"1.5\",7.1=>\"7.1\",1.4=>\"1.4\",7.4=>\"7.4\",6.2=>\"6.2\",0.2=>\"0.2\"…)), Any[], Any[], true, \"horizontal\")"
      ]
     },
     "metadata": {},
     "output_type": "display_data"
    },
    {
     "data": {
      "text/html": [],
      "text/plain": [
       "Interact.Options{:SelectionSlider,Float64}(21: \"input-9\" = 5.0 Float64 , \"Y₇\", 5.0, \"5.0\", Interact.OptionDict(DataStructures.OrderedDict(\"0.1\"=>0.1,\"0.2\"=>0.2,\"0.3\"=>0.3,\"0.4\"=>0.4,\"0.5\"=>0.5,\"0.6\"=>0.6,\"0.7\"=>0.7,\"0.8\"=>0.8,\"0.9\"=>0.9,\"1.0\"=>1.0…), Dict(1.2=>\"1.2\",4.3=>\"4.3\",9.6=>\"9.6\",2.0=>\"2.0\",1.5=>\"1.5\",7.1=>\"7.1\",1.4=>\"1.4\",7.4=>\"7.4\",6.2=>\"6.2\",0.2=>\"0.2\"…)), Any[], Any[], true, \"horizontal\")"
      ]
     },
     "metadata": {},
     "output_type": "display_data"
    },
    {
     "data": {
      "text/html": [],
      "text/plain": [
       "Interact.Options{:SelectionSlider,Float64}(23: \"input-10\" = 5.0 Float64 , \"Y₈\", 5.0, \"5.0\", Interact.OptionDict(DataStructures.OrderedDict(\"0.1\"=>0.1,\"0.2\"=>0.2,\"0.3\"=>0.3,\"0.4\"=>0.4,\"0.5\"=>0.5,\"0.6\"=>0.6,\"0.7\"=>0.7,\"0.8\"=>0.8,\"0.9\"=>0.9,\"1.0\"=>1.0…), Dict(1.2=>\"1.2\",4.3=>\"4.3\",9.6=>\"9.6\",2.0=>\"2.0\",1.5=>\"1.5\",7.1=>\"7.1\",1.4=>\"1.4\",7.4=>\"7.4\",6.2=>\"6.2\",0.2=>\"0.2\"…)), Any[], Any[], true, \"horizontal\")"
      ]
     },
     "metadata": {},
     "output_type": "display_data"
    },
    {
     "data": {
      "image/svg+xml": [
       "<?xml version=\"1.0\" encoding=\"UTF-8\" standalone=\"no\"?>\n",
       "<!DOCTYPE svg PUBLIC \"-//W3C//DTD SVG 1.1//EN\"\n",
       " \"http://www.w3.org/Graphics/SVG/1.1/DTD/svg11.dtd\">\n",
       "<!-- Generated by graphviz version 2.40.1 (20161225.0304)\n",
       " -->\n",
       "<!-- Title: MyDiGraph Pages: 1 -->\n",
       "<svg width=\"259pt\" height=\"257pt\"\n",
       " viewBox=\"0.00 0.00 258.52 256.56\" xmlns=\"http://www.w3.org/2000/svg\" xmlns:xlink=\"http://www.w3.org/1999/xlink\">\n",
       "<g id=\"graph0\" class=\"graph\" transform=\"scale(1 1) rotate(0) translate(4 252.5612)\">\n",
       "<title>MyDiGraph</title>\n",
       "<polygon fill=\"#ffffff\" stroke=\"transparent\" points=\"-4,4 -4,-252.5612 254.5182,-252.5612 254.5182,4 -4,4\"/>\n",
       "<!-- 1 -->\n",
       "<g id=\"node1\" class=\"node\">\n",
       "<title>1</title>\n",
       "<ellipse fill=\"none\" stroke=\"#ff0000\" cx=\"27\" cy=\"-140.9451\" rx=\"27\" ry=\"18\"/>\n",
       "<text text-anchor=\"middle\" x=\"27\" y=\"-136.7451\" font-family=\"Times,serif\" font-size=\"14.00\" fill=\"#ff0000\">1</text>\n",
       "</g>\n",
       "<!-- 4 -->\n",
       "<g id=\"node4\" class=\"node\">\n",
       "<title>4</title>\n",
       "<ellipse fill=\"none\" stroke=\"#000000\" cx=\"116.8883\" cy=\"-215.532\" rx=\"27\" ry=\"18\"/>\n",
       "<text text-anchor=\"middle\" x=\"116.8883\" y=\"-211.332\" font-family=\"Times,serif\" font-size=\"14.00\" fill=\"#000000\">4</text>\n",
       "</g>\n",
       "<!-- 1&#45;&gt;4 -->\n",
       "<g id=\"edge1\" class=\"edge\">\n",
       "<title>1&#45;&gt;4</title>\n",
       "<path fill=\"none\" stroke=\"#000000\" d=\"M44.3314,-155.3262C57.8476,-166.5416 76.8036,-182.2708 91.9506,-194.8393\"/>\n",
       "<polygon fill=\"#000000\" stroke=\"#000000\" points=\"89.9843,-197.7558 99.915,-201.448 94.4543,-192.3688 89.9843,-197.7558\"/>\n",
       "<text text-anchor=\"middle\" x=\"44.7142\" y=\"-180.9179\" font-family=\"Times,serif\" font-size=\"14.00\" fill=\"#000000\">i₁ = &#45;0.3</text>\n",
       "</g>\n",
       "<!-- 2 -->\n",
       "<g id=\"node2\" class=\"node\">\n",
       "<title>2</title>\n",
       "<ellipse fill=\"none\" stroke=\"#ff0000\" cx=\"102.2914\" cy=\"-51.6524\" rx=\"27\" ry=\"18\"/>\n",
       "<text text-anchor=\"middle\" x=\"102.2914\" y=\"-47.4524\" font-family=\"Times,serif\" font-size=\"14.00\" fill=\"#ff0000\">2</text>\n",
       "</g>\n",
       "<!-- 2&#45;&gt;1 -->\n",
       "<g id=\"edge6\" class=\"edge\">\n",
       "<title>2&#45;&gt;1</title>\n",
       "<path fill=\"none\" stroke=\"#000000\" d=\"M88.8308,-67.6162C77.1606,-81.4566 60.1129,-101.6744 46.8723,-117.3772\"/>\n",
       "<polygon fill=\"#000000\" stroke=\"#000000\" points=\"44.1146,-115.2183 40.3441,-125.1195 49.4661,-119.7307 44.1146,-115.2183\"/>\n",
       "<text text-anchor=\"middle\" x=\"46.7559\" y=\"-98.3319\" font-family=\"Times,serif\" font-size=\"14.00\" fill=\"#000000\">i₆ = 0.7</text>\n",
       "</g>\n",
       "<!-- 6 -->\n",
       "<g id=\"node6\" class=\"node\">\n",
       "<title>6</title>\n",
       "<ellipse fill=\"none\" stroke=\"#000000\" cx=\"192.6702\" cy=\"-126.1901\" rx=\"27\" ry=\"18\"/>\n",
       "<text text-anchor=\"middle\" x=\"192.6702\" y=\"-121.9901\" font-family=\"Times,serif\" font-size=\"14.00\" fill=\"#000000\">6</text>\n",
       "</g>\n",
       "<!-- 2&#45;&gt;6 -->\n",
       "<g id=\"edge7\" class=\"edge\">\n",
       "<title>2&#45;&gt;6</title>\n",
       "<path fill=\"none\" stroke=\"#000000\" d=\"M119.2909,-65.6724C132.8382,-76.8452 152.0133,-92.6594 167.3645,-105.3199\"/>\n",
       "<polygon fill=\"#000000\" stroke=\"#000000\" points=\"165.4978,-108.3172 175.4396,-111.9796 169.9517,-102.9168 165.4978,-108.3172\"/>\n",
       "<text text-anchor=\"middle\" x=\"122.232\" y=\"-91.3313\" font-family=\"Times,serif\" font-size=\"14.00\" fill=\"#000000\">i₇ = 0.2</text>\n",
       "</g>\n",
       "<!-- 3 -->\n",
       "<g id=\"node3\" class=\"node\">\n",
       "<title>3</title>\n",
       "<ellipse fill=\"none\" stroke=\"#000000\" cx=\"204.5704\" cy=\"-18\" rx=\"27\" ry=\"18\"/>\n",
       "<text text-anchor=\"middle\" x=\"204.5704\" y=\"-13.8\" font-family=\"Times,serif\" font-size=\"14.00\" fill=\"#000000\">3</text>\n",
       "</g>\n",
       "<!-- 3&#45;&gt;2 -->\n",
       "<g id=\"edge5\" class=\"edge\">\n",
       "<title>3&#45;&gt;2</title>\n",
       "<path fill=\"none\" stroke=\"#000000\" d=\"M180.3317,-25.9752C167.1806,-30.3022 150.7115,-35.721 136.2962,-40.464\"/>\n",
       "<polygon fill=\"#000000\" stroke=\"#000000\" points=\"135.1157,-37.1677 126.7105,-43.6179 137.3035,-43.8171 135.1157,-37.1677\"/>\n",
       "<text text-anchor=\"middle\" x=\"134.8872\" y=\"-22.0196\" font-family=\"Times,serif\" font-size=\"14.00\" fill=\"#000000\">i₅ = &#45;0.1</text>\n",
       "</g>\n",
       "<!-- 5 -->\n",
       "<g id=\"node5\" class=\"node\">\n",
       "<title>5</title>\n",
       "<ellipse fill=\"none\" stroke=\"#000000\" cx=\"223.5182\" cy=\"-230.5612\" rx=\"27\" ry=\"18\"/>\n",
       "<text text-anchor=\"middle\" x=\"223.5182\" y=\"-226.3612\" font-family=\"Times,serif\" font-size=\"14.00\" fill=\"#000000\">5</text>\n",
       "</g>\n",
       "<!-- 4&#45;&gt;5 -->\n",
       "<g id=\"edge2\" class=\"edge\">\n",
       "<title>4&#45;&gt;5</title>\n",
       "<path fill=\"none\" stroke=\"#000000\" d=\"M143.5205,-219.2857C156.6248,-221.1327 172.6268,-223.3882 186.8659,-225.3951\"/>\n",
       "<polygon fill=\"#000000\" stroke=\"#000000\" points=\"186.4654,-228.8732 196.856,-226.8032 187.4424,-221.9417 186.4654,-228.8732\"/>\n",
       "<text text-anchor=\"middle\" x=\"165.1932\" y=\"-211.1404\" font-family=\"Times,serif\" font-size=\"14.00\" fill=\"#000000\">i₂ = &#45;0.1</text>\n",
       "</g>\n",
       "<!-- 4&#45;&gt;6 -->\n",
       "<g id=\"edge8\" class=\"edge\">\n",
       "<title>4&#45;&gt;6</title>\n",
       "<path fill=\"none\" stroke=\"#000000\" d=\"M130.4366,-199.5595C142.1828,-185.7114 159.3415,-165.4824 172.6684,-149.771\"/>\n",
       "<polygon fill=\"#000000\" stroke=\"#000000\" points=\"175.4397,-151.9145 179.2392,-142.0244 170.1014,-147.3865 175.4397,-151.9145\"/>\n",
       "<text text-anchor=\"middle\" x=\"128.1257\" y=\"-180.5004\" font-family=\"Times,serif\" font-size=\"14.00\" fill=\"#000000\">i₈ = &#45;0.2</text>\n",
       "</g>\n",
       "<!-- 5&#45;&gt;6 -->\n",
       "<g id=\"edge3\" class=\"edge\">\n",
       "<title>5&#45;&gt;6</title>\n",
       "<path fill=\"none\" stroke=\"#000000\" d=\"M218.2853,-212.856C213.499,-196.6623 206.343,-172.4508 200.8102,-153.7311\"/>\n",
       "<polygon fill=\"#000000\" stroke=\"#000000\" points=\"204.1197,-152.58 197.9288,-143.9821 197.4068,-154.5641 204.1197,-152.58\"/>\n",
       "<text text-anchor=\"middle\" x=\"186.121\" y=\"-189.1287\" font-family=\"Times,serif\" font-size=\"14.00\" fill=\"#000000\">i₃ = &#45;0.1</text>\n",
       "</g>\n",
       "<!-- 6&#45;&gt;3 -->\n",
       "<g id=\"edge4\" class=\"edge\">\n",
       "<title>6&#45;&gt;3</title>\n",
       "<path fill=\"none\" stroke=\"#000000\" d=\"M194.6889,-107.8372C196.5465,-90.9492 199.3293,-65.6489 201.469,-46.1966\"/>\n",
       "<polygon fill=\"#000000\" stroke=\"#000000\" points=\"204.9671,-46.4047 202.5815,-36.0819 198.009,-45.6393 204.9671,-46.4047\"/>\n",
       "<text text-anchor=\"middle\" x=\"174.6522\" y=\"-82.852\" font-family=\"Times,serif\" font-size=\"14.00\" fill=\"#000000\">i₄ = &#45;0.1</text>\n",
       "</g>\n",
       "</g>\n",
       "</svg>\n"
      ],
      "text/plain": [
       "DiGraph(DiNode[DiNode(1, Dict{Symbol,Any}(Pair{Symbol,Any}(:color, \"red\"),Pair{Symbol,Any}(:fontcolor, \"red\"))), DiNode(2, Dict{Symbol,Any}(Pair{Symbol,Any}(:color, \"red\"),Pair{Symbol,Any}(:fontcolor, \"red\"))), DiNode(3, Dict{Symbol,Any}()), DiNode(4, Dict{Symbol,Any}()), DiNode(5, Dict{Symbol,Any}()), DiNode(6, Dict{Symbol,Any}())], DiEdge[DiEdge(1=>4, Dict{Symbol,Any}(Pair{Symbol,Any}(:label, \"i₁ = -0.3\"),Pair{Symbol,Any}(:len, 1.5))), DiEdge(4=>5, Dict{Symbol,Any}(Pair{Symbol,Any}(:label, \"i₂ = -0.1\"),Pair{Symbol,Any}(:len, 1.5))), DiEdge(5=>6, Dict{Symbol,Any}(Pair{Symbol,Any}(:label, \"i₃ = -0.1\"),Pair{Symbol,Any}(:len, 1.5))), DiEdge(6=>3, Dict{Symbol,Any}(Pair{Symbol,Any}(:label, \"i₄ = -0.1\"),Pair{Symbol,Any}(:len, 1.5))), DiEdge(3=>2, Dict{Symbol,Any}(Pair{Symbol,Any}(:label, \"i₅ = -0.1\"),Pair{Symbol,Any}(:len, 1.5))), DiEdge(2=>1, Dict{Symbol,Any}(Pair{Symbol,Any}(:label, \"i₆ = 0.7\"),Pair{Symbol,Any}(:len, 1.5))), DiEdge(2=>6, Dict{Symbol,Any}(Pair{Symbol,Any}(:label, \"i₇ = 0.2\"),Pair{Symbol,Any}(:len, 1.5))), DiEdge(4=>6, Dict{Symbol,Any}(Pair{Symbol,Any}(:label, \"i₈ = -0.2\"),Pair{Symbol,Any}(:len, 1.5)))], Dict{Symbol,Any}())"
      ]
     },
     "execution_count": 44,
     "metadata": {
      "comm_id": "05a83f63-55b5-494e-9f5b-b37cb7f80b87",
      "reactive": true
     },
     "output_type": "execute_result"
    }
   ],
   "source": [
    "@manipulate for Y₁=0.1:0.1:10,\n",
    "                Y₂=0.1:0.1:10,\n",
    "                Y₃=0.1:0.1:10,\n",
    "                Y₄=0.1:0.1:10,\n",
    "                Y₅=0.1:0.1:10,\n",
    "                Y₆=0.1:0.1:10,\n",
    "                Y₇=0.1:0.1:10,\n",
    "                Y₈=0.1:0.1:10\n",
    "    s = [1,-1,0,0,0,0]\n",
    "    Y = diagm([Y₁,Y₂,Y₃,Y₄,Y₅,Y₆,Y₇,Y₈])\n",
    "    nodecolors!(labels(g, edges=[subchar(\"i_$j = $i\") for (j,i) in enumerate(twodigits.(Y*A*(pinv(A'*Y*A) * s)))]),\n",
    "                [1,2])\n",
    "end"
   ]
  },
  {
   "cell_type": "markdown",
   "metadata": {},
   "source": [
    "Notice that if we make the admittance $Y_6$ really large compared to all of the other admittances, then nearly all of the current should flow just over that one edge.   Conversely, if we make $Y_6$ really *small*, it is almost like \"cutting\" that wire: almost all of the current should flow through the *other* edges.\n",
    "\n",
    "Hooray, math (and physics) works!"
   ]
  },
  {
   "cell_type": "markdown",
   "metadata": {},
   "source": [
    "## Sparsity\n",
    "\n",
    "The case of matrices arising from graphs illustrates another point that I've made many times: **really large matrices are often sparse (mostly 0)** in practice.\n",
    "\n",
    "For example, imagine a circuit with a million nodes.  For the most part, there will only be *wires between nearby nodes*.  Or imagine a graph where the nodes are websites and the edges are links: there are billions of sites, but *each site only links to a few other sites* (a few hundred at most, usually).   In such cases, the **incidence matrix is mostly zero**, and similarly for $A^T Y A$ etcetetera.\n",
    "\n",
    "This is hugely important, because solving $Ax=b$ and most other matrix equations scale as $\\sim n^3$ for $n \\times n$ matrices.  $1000 \\times 1000$ matrices are easy (< 1 second), but $n=10^6$ would require supercomputers, and $n=10^9$ would be impossibly hard.   What saves us is that there are **much faster algorithms for sparse matrices**.  We won't learn much about such algorithms in 18.06, but the key point is to know that they exist.\n",
    "\n",
    "If you encounter a large sparse matrix problem in the future, go read about sparse matrix algorithms!"
   ]
  }
 ],
 "metadata": {
  "anaconda-cloud": {},
  "kernelspec": {
   "display_name": "Julia 0.6.0",
   "language": "julia",
   "name": "julia-0.6"
  },
  "language_info": {
   "file_extension": ".jl",
   "mimetype": "application/julia",
   "name": "julia",
   "version": "0.6.0"
  }
 },
 "nbformat": 4,
 "nbformat_minor": 1
}
