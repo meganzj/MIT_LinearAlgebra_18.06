{
 "cells": [
  {
   "cell_type": "markdown",
   "metadata": {},
   "source": [
    "# 18.06 pset 2"
   ]
  },
  {
   "cell_type": "code",
   "execution_count": 1,
   "metadata": {},
   "outputs": [],
   "source": [
    "using LinearAlgebra\n",
    "using SparseArrays"
   ]
  },
  {
   "cell_type": "markdown",
   "metadata": {},
   "source": [
    "## Problem 1\n",
    "\n",
    "Given an $m \\times m$ nonsingular matrix $A$, if no row swaps are needed, we can compute the LU factorization $A = LU$ by Gaussian elimination.\n",
    "\n",
    "Now, suppose that we \"augment\" the matrix $A$ by an $m \\times m$ identity matrix $I$, forming the matrix $\\begin{pmatrix} A & I \\end{pmatrix}$.  If we do Gaussian elimination on *this* matrix (again without row swaps), we will get something like:\n",
    "\n",
    "$$\n",
    "\\begin{pmatrix} A & I \\end{pmatrix} \\to \\begin{pmatrix} U & C \\end{pmatrix}\n",
    "$$\n",
    "\n",
    "where the first $m$ columns are the same $U$ matrix as before, and the last $m$ columns (from the elimination steps acting on $I$) are some matrix $C$.\n",
    "\n",
    "* Give an explicit formula for $C$ in terms of $L$ and/or $U$.  (Hint: remember the derivation of the Gauss–Jordan method to compute $A^{-1}$.  This is not quite the same, but the ideas are similar.)\n",
    "\n",
    "* Check your answer by trying it for a random $4\\times 4$ matrix in Julia using the code below: enter your formula in the ???? box, execute the two code cells, and inspect the results."
   ]
  },
  {
   "cell_type": "code",
   "execution_count": 4,
   "metadata": {},
   "outputs": [
    {
     "data": {
      "text/html": [
       "<b>L = </b>"
      ]
     },
     "metadata": {},
     "output_type": "display_data"
    },
    {
     "data": {
      "text/plain": [
       "4×4 Array{Float64,2}:\n",
       " 1.0        0.0        0.0       0.0\n",
       " 0.297701   1.0        0.0       0.0\n",
       " 0.990565  -0.685912   1.0       0.0\n",
       " 0.773383  -0.332723  -0.110448  1.0"
      ]
     },
     "metadata": {},
     "output_type": "display_data"
    },
    {
     "data": {
      "text/html": [
       "<b>U = </b>"
      ]
     },
     "metadata": {},
     "output_type": "display_data"
    },
    {
     "data": {
      "text/plain": [
       "4×4 Array{Float64,2}:\n",
       " 0.857385  0.840378  0.500877  0.534092\n",
       " 0.0       0.503641  0.468032  0.585191\n",
       " 0.0       0.0       0.659157  0.124769\n",
       " 0.0       0.0       0.0       0.236006"
      ]
     },
     "metadata": {},
     "output_type": "display_data"
    },
    {
     "data": {
      "text/html": [
       "<b>Should also equal U: </b>"
      ]
     },
     "metadata": {},
     "output_type": "display_data"
    },
    {
     "data": {
      "text/plain": [
       "4×4 Array{Float64,2}:\n",
       " 0.857385  0.840378  0.500877  0.534092\n",
       " 0.0       0.503641  0.468032  0.585191\n",
       " 0.0       0.0       0.659157  0.124769\n",
       " 0.0       0.0       0.0       0.236006"
      ]
     },
     "metadata": {},
     "output_type": "display_data"
    },
    {
     "data": {
      "text/html": [
       "<b>final output is C: </b>"
      ]
     },
     "metadata": {},
     "output_type": "display_data"
    },
    {
     "data": {
      "text/plain": [
       "4×4 Array{Float64,2}:\n",
       " 0.0  0.0       0.0        1.0     \n",
       " 0.0  0.0       1.0       -0.297701\n",
       " 0.0  1.0       0.685912  -1.19476 \n",
       " 1.0  0.110448  0.408481  -1.00439 "
      ]
     },
     "execution_count": 4,
     "metadata": {},
     "output_type": "execute_result"
    }
   ],
   "source": [
    "A = rand(4,4) # a random 4×4 matrix\n",
    "L, U = lu(A) # LU factors of A, without row swaps\n",
    "\n",
    "#show the L and U factors (with bold labels):\n",
    "display(\"text/html\", \"<b>L = </b>\")\n",
    "display(L)\n",
    "display(\"text/html\", \"<b>U = </b>\")\n",
    "display(U)\n",
    "\n",
    "M = [A I] # augmented 4×8 matrix\n",
    "Lₘ, Uₘ = lu(M) # LU factors of M, without row swaps\n",
    "\n",
    "# show the first four columns of Uₘ, which should match U:\n",
    "display(\"text/html\", \"<b>Should also equal U: </b>\")\n",
    "display(Uₘ[:,1:4])\n",
    "\n",
    "# the last four columns of Uₘ are our C matrix:\n",
    "display(\"text/html\", \"<b>final output is C: </b>\")\n",
    "C = Uₘ[:,5:8]"
   ]
  },
  {
   "cell_type": "code",
   "execution_count": null,
   "metadata": {},
   "outputs": [],
   "source": [
    "???? # give some formula here in terms of L and/or U that produces the same C matrix"
   ]
  },
  {
   "cell_type": "markdown",
   "metadata": {},
   "source": [
    "## Problem 2\n",
    "\n",
    "(From Strang, section 2.4, problem 30.)\n",
    "\n",
    "With $i^2 = -1$, the product of $(A+iB)$ and $(x+iy)$ (for real matrices A and B and real vectors x and y) is $Ax + iBx + iAy - By$.   Instead, write the same operation in terms of a real matrix-vector product of twice the size, acting on vectors of the real parts on top of the imaginary parts:\n",
    "\n",
    "$$\n",
    "\\begin{pmatrix} A & -B \\\\ iB & iA \\end{pmatrix} \\begin{pmatrix} x \\\\ y \\end{pmatrix} = \n",
    "\\begin{pmatrix} Ax - By \\\\ iBx + iAy \\end{pmatrix} = \\begin{pmatrix} \\mbox{real part} \\\\ \\mbox{imaginary part} \\end{pmatrix}\n",
    "$$\n",
    "\n",
    "* Fill in the question marks.\n",
    "\n",
    "* Check your answer in Julia on random 3×3 matrices using the following code (note: in Julia, $i$ is represented by `im`):"
   ]
  },
  {
   "cell_type": "code",
   "execution_count": null,
   "metadata": {},
   "outputs": [],
   "source": [
    "A = rand(3,3)\n",
    "B = rand(3,3)\n",
    "x = rand(3)\n",
    "y = rand(3)\n",
    "(A + im*B) * (x + im*y) "
   ]
  },
  {
   "cell_type": "code",
   "execution_count": null,
   "metadata": {},
   "outputs": [],
   "source": [
    "# fill in the ?'s.  The result should be the real and imaginary parts of the vector\n",
    "# printed from the previous output, stacked on top of one another:\n",
    "[A -B\n",
    " im*B  im*A] * [x\n",
    "          y]"
   ]
  },
  {
   "cell_type": "markdown",
   "metadata": {},
   "source": [
    "## Problem 3\n",
    "\n",
    "(From Strang, section 2.5, problem 5.)\n",
    "\n",
    "Find an upper-triangular $U$ (not diagonal) with $U^2 = I$ and $U = U^{-1}$."
   ]
  },
  {
   "cell_type": "code",
   "execution_count": null,
   "metadata": {},
   "outputs": [],
   "source": []
  },
  {
   "cell_type": "markdown",
   "metadata": {},
   "source": [
    "## Problem 4\n",
    "\n",
    "(From Strang, section 2.5, problem 12.)\n",
    "\n",
    "* If the product $C = AB$ is invertible (for square A and B), then $A$ itself is invertible.  Show this by finding a formula for $A^{-1}$ in terms of $C^{-1}$ and $B$.\n",
    "\n",
    "* Check your answer for random 3×3 matrices in Julia using the code below."
   ]
  },
  {
   "cell_type": "markdown",
   "metadata": {},
   "source": [
    "so $C^{-1} = B^{-1}A^{-1}$, hence, $A^{-1} = BC^{-1}$, hence $A^{-1}$ exists"
   ]
  },
  {
   "cell_type": "code",
   "execution_count": 5,
   "metadata": {},
   "outputs": [
    {
     "data": {
      "text/plain": [
       "3×3 Array{Float64,2}:\n",
       " -30.0295   15.469     2.99562 \n",
       "   9.5226   -6.19488   0.428283\n",
       "  36.6006  -16.5856   -4.25566 "
      ]
     },
     "execution_count": 5,
     "metadata": {},
     "output_type": "execute_result"
    }
   ],
   "source": [
    "A = rand(3,3)\n",
    "B = rand(3,3)\n",
    "C = A * B\n",
    "\n",
    "inv(A) # output A⁻¹"
   ]
  },
  {
   "cell_type": "code",
   "execution_count": 6,
   "metadata": {},
   "outputs": [
    {
     "data": {
      "text/plain": [
       "3×3 Array{Float64,2}:\n",
       " -30.0295   15.469     2.99562 \n",
       "   9.5226   -6.19488   0.428283\n",
       "  36.6006  -16.5856   -4.25566 "
      ]
     },
     "execution_count": 6,
     "metadata": {},
     "output_type": "execute_result"
    }
   ],
   "source": [
    "# give some expression in terms of inv(C) and B that gives the same result as inv(A):\n",
    "B * inv(C)"
   ]
  },
  {
   "cell_type": "markdown",
   "metadata": {},
   "source": [
    "## Problem 5\n",
    "\n",
    "(From Strang, section 2.5, problem 31.)\n",
    "\n",
    "This matrix $A$ has a remarkably simple inverse.  Find $A^{-1}$ by Gauss–Jordan elimination on $\\begin{pmatrix} A & I \\end{pmatrix}$.\n",
    "\n",
    "$$\n",
    "A = \\begin{pmatrix} 1 & -1 &  1 & -1 \\\\\n",
    "                    0 &  1 & -1 &  1 \\\\\n",
    "                    0 &  0 &  1 & -1 \\\\\n",
    "                    0 &  0 &  0 &  1 \\end{pmatrix}\n",
    "$$\n",
    "\n",
    "(You can check your answer by calling `inv` in Julia, but you should still explicitly show how you get the inverse by hand-calculation using the Gauss–Jordan method.)"
   ]
  },
  {
   "cell_type": "code",
   "execution_count": null,
   "metadata": {},
   "outputs": [],
   "source": []
  },
  {
   "cell_type": "code",
   "execution_count": null,
   "metadata": {},
   "outputs": [],
   "source": []
  },
  {
   "cell_type": "code",
   "execution_count": null,
   "metadata": {},
   "outputs": [],
   "source": []
  },
  {
   "cell_type": "code",
   "execution_count": null,
   "metadata": {},
   "outputs": [],
   "source": [
    "inv(A)"
   ]
  },
  {
   "cell_type": "markdown",
   "metadata": {},
   "source": [
    "## Problem 6\n",
    "\n",
    "Suppose that you are *given* the $PA = LU$ factorization of an invertible $m \\times m$ matrix $A$, and we want to solve the block-matrix equation:\n",
    "\n",
    "$$\n",
    "\\begin{pmatrix} A & B \\\\ 0 & A \\end{pmatrix} \\begin{pmatrix} x \\\\ y \\end{pmatrix}\n",
    "= \\begin{pmatrix} b \\\\ c \\end{pmatrix}\n",
    "$$\n",
    "\n",
    "where $B$ is an $m \\times m$ matrix, \"0\" denotes an $m \\times m$ block of zeros, and x,y,b,c are m-component vectors.\n",
    "\n",
    "* Write the solution vectors x,y in terms of P,L,U,B,b,c (or the inverses of these matrices).\n",
    "\n",
    "* Explain how your answer can be computed in $\\sim m^2$ operations (i.e. roughly proportional to $m^2$) if you do things in the *right order* and the *right way*.\n",
    "  * **Important:** Remember from class that even if you write an expression like $M^{-1} v$ for some matrix $M$ and vector $v$, it doesn't mean that you have to *compute* it by calculating $M^{-1}$ first ($\\sim m^3$ operations!) and then multiplying by $v$.  Instead, you should solve $Mu = v$ for $u$ by the best method possible.\n",
    "  * **Important:** If you have an expression $MNv$ for matrices $M$ and $N$ and a vector $v$, there is a big difference between computing it as $(MN)v$ and $M(Nv)$.  Why?"
   ]
  },
  {
   "cell_type": "code",
   "execution_count": null,
   "metadata": {},
   "outputs": [],
   "source": []
  },
  {
   "cell_type": "code",
   "execution_count": null,
   "metadata": {},
   "outputs": [],
   "source": []
  },
  {
   "cell_type": "code",
   "execution_count": null,
   "metadata": {},
   "outputs": [],
   "source": []
  },
  {
   "cell_type": "code",
   "execution_count": null,
   "metadata": {},
   "outputs": [],
   "source": []
  }
 ],
 "metadata": {
  "@webio": {
   "lastCommId": null,
   "lastKernelId": null
  },
  "kernelspec": {
   "display_name": "Julia 1.1.0",
   "language": "julia",
   "name": "julia-1.1"
  },
  "language_info": {
   "file_extension": ".jl",
   "mimetype": "application/julia",
   "name": "julia",
   "version": "1.1.0"
  }
 },
 "nbformat": 4,
 "nbformat_minor": 2
}
